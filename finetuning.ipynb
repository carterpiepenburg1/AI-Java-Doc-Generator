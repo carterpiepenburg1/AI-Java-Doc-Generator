{
 "cells": [
  {
   "cell_type": "markdown",
   "id": "6e72dba0-a20d-44d2-87c6-36b2c6ef4b02",
   "metadata": {},
   "source": [
    "# Converting dataset to ShareGPT"
   ]
  },
  {
   "cell_type": "code",
   "execution_count": 1,
   "id": "77347edd401a8a36",
   "metadata": {
    "collapsed": false,
    "ExecuteTime": {
     "end_time": "2025-05-08T18:13:56.459221800Z",
     "start_time": "2025-05-08T18:13:53.885084800Z"
    }
   },
   "outputs": [],
   "source": [
    "%%capture\n",
    "from datasets import load_dataset   \n",
    "\n",
    "dataset = load_dataset(\"CarterPiepenburg/code-search-net-java-docgen\", split=\"train\")"
   ]
  },
  {
   "cell_type": "code",
   "execution_count": 2,
   "id": "e9034215-530c-4c41-887a-3d81d72a8ba3",
   "metadata": {
    "ExecuteTime": {
     "end_time": "2025-05-08T18:13:58.419166200Z",
     "start_time": "2025-05-08T18:13:58.413852900Z"
    }
   },
   "outputs": [],
   "source": [
    "def to_sharegpt(dataset, merged_prompt, output_column_name, conversation_extension=1):\n",
    "    \"\"\"\n",
    "    Convert dataset to ShareGPT format with proper variable substitution\n",
    "\n",
    "    Args:\n",
    "        dataset: The source dataset\n",
    "        merged_prompt: Template string with {column_name} placeholders\n",
    "        output_column_name: Column to use as the output/completion\n",
    "        conversation_extension: Number of examples to combine into a single conversation\n",
    "    \"\"\"\n",
    "    formatted_data = []\n",
    "\n",
    "    for i in range(0, len(dataset), conversation_extension):\n",
    "        conversation = []\n",
    "\n",
    "        # Process each example in the current conversation window\n",
    "        for j in range(i, min(i + conversation_extension, len(dataset))):\n",
    "            example = dataset[j]\n",
    "\n",
    "            # Format the prompt by substituting variables\n",
    "            prompt = merged_prompt\n",
    "            for column in dataset.column_names:\n",
    "                if column in merged_prompt and column in example:\n",
    "                    placeholder = \"{\" + column + \"}\"\n",
    "                    prompt = prompt.replace(placeholder, str(example[column]))\n",
    "\n",
    "            # Add the human message\n",
    "            conversation.append({\n",
    "                \"from\": \"human\",\n",
    "                \"value\": prompt\n",
    "            })\n",
    "\n",
    "            # Add the assistant message\n",
    "            conversation.append({\n",
    "                \"from\": \"assistant\",\n",
    "                \"value\": example[output_column_name]\n",
    "            })\n",
    "\n",
    "        # Add the conversation to the formatted data\n",
    "        formatted_data.append({\"conversations\": conversation})\n",
    "\n",
    "    return formatted_data"
   ]
  },
  {
   "cell_type": "code",
   "execution_count": 3,
   "id": "5af2722b-1564-422d-b7ad-62299d5549cf",
   "metadata": {
    "ExecuteTime": {
     "end_time": "2025-05-08T18:14:00.141045500Z",
     "start_time": "2025-05-08T18:14:00.076264400Z"
    }
   },
   "outputs": [],
   "source": [
    "# For code explanation\n",
    "code_explain_dataset = to_sharegpt(\n",
    "    dataset,\n",
    "    merged_prompt = \"Explain what this Java code does: {code}\",\n",
    "    output_column_name = \"response\"\n",
    ")"
   ]
  },
  {
   "cell_type": "code",
   "execution_count": 4,
   "id": "bae3b21a-a8c5-4eae-854d-ecf98a27f3fc",
   "metadata": {
    "ExecuteTime": {
     "end_time": "2025-05-08T18:14:01.392486900Z",
     "start_time": "2025-05-08T18:14:01.381366700Z"
    }
   },
   "outputs": [
    {
     "data": {
      "text/plain": "{'conversations': [{'from': 'human',\n   'value': 'Explain what this Java code does: @Override\\n    public ImageSource apply(ImageSource input) {\\n        final int[][] pixelMatrix = new int[3][3];\\n\\n        int w = input.getWidth();\\n        int h = input.getHeight();\\n\\n        int[][] output = new int[h][w];\\n\\n        for (int j = 1; j < h - 1; j++) {\\n            for (int i = 1; i < w - 1; i++) {\\n                pixelMatrix[0][0] = input.getR(i - 1, j - 1);\\n                pixelMatrix[0][1] = input.getRGB(i - 1, j);\\n                pixelMatrix[0][2] = input.getRGB(i - 1, j + 1);\\n                pixelMatrix[1][0] = input.getRGB(i, j - 1);\\n                pixelMatrix[1][2] = input.getRGB(i, j + 1);\\n                pixelMatrix[2][0] = input.getRGB(i + 1, j - 1);\\n                pixelMatrix[2][1] = input.getRGB(i + 1, j);\\n                pixelMatrix[2][2] = input.getRGB(i + 1, j + 1);\\n\\n                int edge = (int) convolution(pixelMatrix);\\n                int rgb = (edge << 16 | edge << 8 | edge);\\n                output[j][i] = rgb;\\n            }\\n        }\\n\\n        MatrixSource source = new MatrixSource(output);\\n        return source;\\n    }'},\n  {'from': 'assistant',\n   'value': \"This function applies a convolution operation to the input image and generates a new, processed image. It calculates the pixel values at each interior point of the image by averaging the surrounding pixels' RGB values and then converts the result into an integer. This integer is used as the 24-bit RGB value for the corresponding output pixel in the new image.\"}]}"
     },
     "execution_count": 4,
     "metadata": {},
     "output_type": "execute_result"
    }
   ],
   "source": [
    "code_explain_dataset[0]"
   ]
  },
  {
   "cell_type": "markdown",
   "id": "54206b18-de29-49ef-bec5-6c8b97a8aa02",
   "metadata": {},
   "source": [
    "# Initialize Model and Token Register"
   ]
  },
  {
   "cell_type": "code",
   "execution_count": 5,
   "id": "63293d97-60b0-4843-96bf-cec7a49c5f01",
   "metadata": {
    "ExecuteTime": {
     "end_time": "2025-05-08T18:14:23.549728900Z",
     "start_time": "2025-05-08T18:14:03.336998500Z"
    }
   },
   "outputs": [
    {
     "name": "stdout",
     "output_type": "stream",
     "text": [
      "🦥 Unsloth: Will patch your computer to enable 2x faster free finetuning.\n",
      "🦥 Unsloth Zoo will now patch everything to make training faster!\n"
     ]
    },
    {
     "name": "stderr",
     "output_type": "stream",
     "text": [
      "C:\\Users\\carte\\compsci\\411\\aiproject\\new.venv\\Lib\\site-packages\\unsloth_zoo\\gradient_checkpointing.py:330: UserWarning: expandable_segments not supported on this platform (Triggered internally at C:\\actions-runner\\_work\\pytorch\\pytorch\\pytorch\\c10/cuda/CUDAAllocatorConfig.h:28.)\n",
      "  GPU_BUFFERS = tuple([torch.empty(2*256*2048, dtype = dtype, device = f\"cuda:{i}\") for i in range(n_gpus)])\n"
     ]
    },
    {
     "name": "stdout",
     "output_type": "stream",
     "text": [
      "==((====))==  Unsloth 2025.4.7: Fast Qwen2 patching. Transformers: 4.51.3.\n",
      "   \\\\   /|    NVIDIA GeForce RTX 3060 Laptop GPU. Num GPUs = 1. Max memory: 6.0 GB. Platform: Windows.\n",
      "O^O/ \\_/ \\    Torch: 2.7.0+cu128. CUDA: 8.6. CUDA Toolkit: 12.8. Triton: 3.3.0\n",
      "\\        /    Bfloat16 = TRUE. FA [Xformers = 0.0.30. FA2 = False]\n",
      " \"-____-\"     Free license: http://github.com/unslothai/unsloth\n",
      "Unsloth: Fast downloading is enabled - ignore downloading bars which are red colored!\n"
     ]
    }
   ],
   "source": [
    "from unsloth import FastLanguageModel\n",
    "import torch\n",
    "\n",
    "max_seq_length = 2048 # Choose any! We auto support RoPE Scaling internally!\n",
    "dtype = None # None for auto detection. Float16 for Tesla T4, V100, Bfloat16 for Ampere+\n",
    "load_in_4bit = True # Use 4bit quantization to reduce memory usage. Can be False.\n",
    "\n",
    "\n",
    "model, tokenizer = FastLanguageModel.from_pretrained(\n",
    "    model_name = \"unsloth/Qwen2.5-1.5B\",\n",
    "    max_seq_length = max_seq_length,\n",
    "    dtype = dtype,\n",
    "    load_in_4bit = load_in_4bit\n",
    "    # token = \"hf_...\", # use one if using gated models like meta-llama/Llama-2-7b-hf\n",
    ")"
   ]
  },
  {
   "cell_type": "code",
   "execution_count": 6,
   "id": "643bc74f-ece1-445c-bb16-38c1dada7dd9",
   "metadata": {
    "ExecuteTime": {
     "end_time": "2025-05-08T18:14:25.246353100Z",
     "start_time": "2025-05-08T18:14:25.210573400Z"
    }
   },
   "outputs": [],
   "source": [
    "from datasets import Dataset\n",
    "\n",
    "# First, convert your list to a Hugging Face Dataset\n",
    "code_explain_dataset_hf = Dataset.from_list(code_explain_dataset)"
   ]
  },
  {
   "cell_type": "code",
   "execution_count": 7,
   "id": "f224b024-6e17-44cd-897e-d8aa62c84335",
   "metadata": {
    "scrolled": true,
    "ExecuteTime": {
     "end_time": "2025-05-08T18:14:53.384775400Z",
     "start_time": "2025-05-08T18:14:26.390171Z"
    }
   },
   "outputs": [
    {
     "data": {
      "text/plain": "Unsloth: Standardizing formats (num_proc=16):   0%|          | 0/1000 [00:00<?, ? examples/s]",
      "application/vnd.jupyter.widget-view+json": {
       "version_major": 2,
       "version_minor": 0,
       "model_id": "7d6ad0362f1348d4b7309285949fb17b"
      }
     },
     "metadata": {},
     "output_type": "display_data"
    }
   ],
   "source": [
    "from unsloth import standardize_sharegpt\n",
    "dataset = standardize_sharegpt(code_explain_dataset_hf)"
   ]
  },
  {
   "cell_type": "code",
   "execution_count": 8,
   "id": "118b7cd7-5e9e-42f4-b171-82b436d29a62",
   "metadata": {
    "ExecuteTime": {
     "end_time": "2025-05-08T18:14:55.937820100Z",
     "start_time": "2025-05-08T18:14:55.928316700Z"
    }
   },
   "outputs": [],
   "source": [
    "from unsloth import apply_chat_template\n",
    "chat_template = \"\"\"\n",
    "{SYSTEM}\n",
    "USER: {INPUT}\n",
    "ASSISTANT: {OUTPUT}\"\"\"\n",
    "\n",
    "default_system_message = \"\"\"\n",
    "You are generating brief documentation for a Java code snippet.\n",
    "Your response MUST be a single paragraph with NO bulletpoints, NO line breaks, and NO section headers.\n",
    "Do NOT explain the prompt. Just output the summary.\n",
    "Keep your explanation short and focused. Avoid repetition.\n",
    "Start your response with (This function)\n",
    "Summarize ONLY the core logic and purpose of the code.\n",
    "Here is the Java code:\n",
    "Summary (one paragraph only):\"\"\"\n"
   ]
  },
  {
   "cell_type": "code",
   "outputs": [
    {
     "name": "stderr",
     "output_type": "stream",
     "text": [
      "Unsloth: We automatically added an EOS token to stop endless generations.\n"
     ]
    },
    {
     "data": {
      "text/plain": "Map:   0%|          | 0/1000 [00:00<?, ? examples/s]",
      "application/vnd.jupyter.widget-view+json": {
       "version_major": 2,
       "version_minor": 0,
       "model_id": "4ddedd09ec7f46e789d554a7f70f6ed7"
      }
     },
     "metadata": {},
     "output_type": "display_data"
    }
   ],
   "source": [
    "# Use this system message with the apply_chat_template function\n",
    "dataset = apply_chat_template(\n",
    "    dataset,\n",
    "    tokenizer = tokenizer,\n",
    "    chat_template = chat_template,\n",
    "    default_system_message = default_system_message\n",
    ")"
   ],
   "metadata": {
    "collapsed": false,
    "ExecuteTime": {
     "end_time": "2025-05-08T18:14:57.701378200Z",
     "start_time": "2025-05-08T18:14:57.481856400Z"
    }
   },
   "id": "1389f91accc4a1a5",
   "execution_count": 9
  },
  {
   "cell_type": "code",
   "execution_count": 10,
   "id": "4932e6b0-786d-45fd-9a98-d40f848c3f32",
   "metadata": {
    "ExecuteTime": {
     "end_time": "2025-05-08T18:14:59.646707700Z",
     "start_time": "2025-05-08T18:14:59.634459900Z"
    }
   },
   "outputs": [
    {
     "data": {
      "text/plain": "{'conversations': [{'content': 'Explain what this Java code does: protected void modify(Transaction t) {\\n        try {\\n            this.lock.writeLock().lock();\\n            t.perform();\\n        } finally {\\n            this.lock.writeLock().unlock();\\n        }\\n    }',\n   'role': 'user'},\n  {'content': \"This function `modify` executes a transaction (`t`) in a synchronized manner. It ensures exclusive access to the resource by acquiring and releasing a write lock using Java's `ReentrantReadWriteLock`. The core logic is that this function locks the resource before executing any operations on the transaction (`t.perform()`), ensuring no other thread can interfere with these operations while the transaction is being executed.\",\n   'role': 'assistant'}],\n 'text': \"\\nYou are generating brief documentation for a Java code snippet.\\nYour response MUST be a single paragraph with NO bulletpoints, NO line breaks, and NO section headers.\\nDo NOT explain the prompt. Just output the summary.\\nKeep your explanation short and focused. Avoid repetition.\\nStart your response with (This function)\\nSummarize ONLY the core logic and purpose of the code.\\nHere is the Java code:\\nSummary (one paragraph only):\\nUSER: Explain what this Java code does: protected void modify(Transaction t) {\\n        try {\\n            this.lock.writeLock().lock();\\n            t.perform();\\n        } finally {\\n            this.lock.writeLock().unlock();\\n        }\\n    }\\nASSISTANT: This function `modify` executes a transaction (`t`) in a synchronized manner. It ensures exclusive access to the resource by acquiring and releasing a write lock using Java's `ReentrantReadWriteLock`. The core logic is that this function locks the resource before executing any operations on the transaction (`t.perform()`), ensuring no other thread can interfere with these operations while the transaction is being executed.<|endoftext|>\"}"
     },
     "execution_count": 10,
     "metadata": {},
     "output_type": "execute_result"
    }
   ],
   "source": [
    "dataset[2]"
   ]
  },
  {
   "cell_type": "markdown",
   "id": "bc18d52f259ad87d",
   "metadata": {
    "collapsed": false
   },
   "source": [
    "# Training Model"
   ]
  },
  {
   "cell_type": "code",
   "execution_count": 11,
   "id": "62548e9ee137415a",
   "metadata": {
    "collapsed": false,
    "ExecuteTime": {
     "end_time": "2025-05-08T18:15:19.271263400Z",
     "start_time": "2025-05-08T18:15:19.243757200Z"
    }
   },
   "outputs": [],
   "source": [
    "split_dataset = dataset.train_test_split(test_size=0.3)\n",
    "train_dataset = split_dataset[\"train\"]\n",
    "test_dataset = split_dataset[\"test\"]"
   ]
  },
  {
   "cell_type": "code",
   "execution_count": 12,
   "id": "986a9844d23e4729",
   "metadata": {
    "collapsed": false,
    "ExecuteTime": {
     "end_time": "2025-05-08T18:15:26.556535200Z",
     "start_time": "2025-05-08T18:15:20.157800900Z"
    }
   },
   "outputs": [
    {
     "name": "stdout",
     "output_type": "stream",
     "text": [
      "==((====))==  Unsloth 2025.4.7: Fast Qwen2 patching. Transformers: 4.51.3.\n",
      "   \\\\   /|    NVIDIA GeForce RTX 3060 Laptop GPU. Num GPUs = 1. Max memory: 6.0 GB. Platform: Windows.\n",
      "O^O/ \\_/ \\    Torch: 2.7.0+cu128. CUDA: 8.6. CUDA Toolkit: 12.8. Triton: 3.3.0\n",
      "\\        /    Bfloat16 = TRUE. FA [Xformers = 0.0.30. FA2 = False]\n",
      " \"-____-\"     Free license: http://github.com/unslothai/unsloth\n",
      "Unsloth: Fast downloading is enabled - ignore downloading bars which are red colored!\n"
     ]
    }
   ],
   "source": [
    "model, tokenizer = FastLanguageModel.from_pretrained(\n",
    "    model_name = \"unsloth/Qwen2.5-1.5B\",\n",
    "    max_seq_length = max_seq_length,\n",
    "    dtype = dtype,\n",
    "    load_in_4bit = load_in_4bit\n",
    "    # token = \"hf_...\", # use one if using gated models like meta-llama/Llama-2-7b-hf\n",
    ")"
   ]
  },
  {
   "cell_type": "code",
   "execution_count": 13,
   "id": "dbc19a75b3d48821",
   "metadata": {
    "collapsed": false,
    "ExecuteTime": {
     "end_time": "2025-05-08T18:15:32.328162900Z",
     "start_time": "2025-05-08T18:15:29.103211Z"
    }
   },
   "outputs": [
    {
     "name": "stderr",
     "output_type": "stream",
     "text": [
      "Unsloth 2025.4.7 patched 28 layers with 28 QKV layers, 28 O layers and 28 MLP layers.\n"
     ]
    }
   ],
   "source": [
    "model = FastLanguageModel.get_peft_model(\n",
    "    model,\n",
    "    r = 16, # Choose any number > 0 ! Suggested 8, 16, 32, 64, 128\n",
    "    target_modules = [\"q_proj\", \"k_proj\", \"v_proj\", \"o_proj\",\n",
    "    \"gate_proj\", \"up_proj\", \"down_proj\" ,],\n",
    "    lora_alpha = 16,\n",
    "    lora_dropout = 0, # Supports any, but = 0 is optimized\n",
    "    bias = \"none\",\n",
    "    # Supports any, but = \"none\" is optimized\n",
    "    # [NEW] \"unsloth\" uses 30% less VRAM, fits 2x larger batch sizes!\n",
    "    use_gradient_checkpointing = \"unsloth\", # True or \"unsloth\" for very long context\n",
    "    random_state = 3407,\n",
    "    use_rslora = False,\n",
    "    # We support rank stabilized LoRA\n",
    "    loftq_config = None, # And LoftQ\n",
    ")"
   ]
  },
  {
   "cell_type": "code",
   "execution_count": 14,
   "id": "9217dcb72e2d5208",
   "metadata": {
    "collapsed": false,
    "ExecuteTime": {
     "end_time": "2025-05-08T18:15:34.621716200Z",
     "start_time": "2025-05-08T18:15:33.466828800Z"
    }
   },
   "outputs": [
    {
     "data": {
      "text/plain": "Unsloth: Tokenizing [\"text\"]:   0%|          | 0/700 [00:00<?, ? examples/s]",
      "application/vnd.jupyter.widget-view+json": {
       "version_major": 2,
       "version_minor": 0,
       "model_id": "460c267b41984398a6bb701f3d520c1b"
      }
     },
     "metadata": {},
     "output_type": "display_data"
    }
   ],
   "source": [
    "from trl import SFTTrainer\n",
    "from transformers import TrainingArguments\n",
    "from unsloth import is_bfloat16_supported\n",
    "\n",
    "trainer = SFTTrainer(\n",
    "    model = model,\n",
    "    tokenizer = tokenizer,\n",
    "    train_dataset = train_dataset,\n",
    "    dataset_text_field = \"text\",\n",
    "    max_seq_length = max_seq_length,\n",
    "    dataset_num_proc = 1,\n",
    "    packing = False, # Can make training 5x faster for short sequences.\n",
    "    args = TrainingArguments(\n",
    "        per_device_train_batch_size = 2,\n",
    "        gradient_accumulation_steps = 4,\n",
    "        #warmup_steps = 5,\n",
    "        warmup_steps = 10,\n",
    "        #max_steps = 10,\n",
    "        num_train_epochs = 1,\n",
    "        learning_rate = 2e-4,\n",
    "        fp16 = not is_bfloat16_supported(),\n",
    "        bf16 = is_bfloat16_supported(),\n",
    "        logging_steps = 1,\n",
    "        optim = \"adamw_8bit\",\n",
    "        weight_decay = 0.01,\n",
    "        lr_scheduler_type = \"linear\",\n",
    "        seed = 3407,\n",
    "        output_dir = \"ft-outputs\",\n",
    "        report_to = [],\n",
    "    ),\n",
    ")"
   ]
  },
  {
   "cell_type": "code",
   "execution_count": 15,
   "id": "f5774a82c531ac8e",
   "metadata": {
    "collapsed": false,
    "ExecuteTime": {
     "end_time": "2025-05-08T18:18:56.711465100Z",
     "start_time": "2025-05-08T18:15:42.613644100Z"
    }
   },
   "outputs": [
    {
     "name": "stderr",
     "output_type": "stream",
     "text": [
      "==((====))==  Unsloth - 2x faster free finetuning | Num GPUs used = 1\n",
      "   \\\\   /|    Num examples = 700 | Num Epochs = 1 | Total steps = 87\n",
      "O^O/ \\_/ \\    Batch size per device = 2 | Gradient accumulation steps = 4\n",
      "\\        /    Data Parallel GPUs = 1 | Total batch size (2 x 4 x 1) = 8\n",
      " \"-____-\"     Trainable parameters = 18,464,768/5,000,000,000 (0.37% trained)\n"
     ]
    },
    {
     "name": "stdout",
     "output_type": "stream",
     "text": [
      "Unsloth: Will smartly offload gradients to save VRAM!\n"
     ]
    },
    {
     "data": {
      "text/plain": "<IPython.core.display.HTML object>",
      "text/html": "\n    <div>\n      \n      <progress value='87' max='87' style='width:300px; height:20px; vertical-align: middle;'></progress>\n      [87/87 03:08, Epoch 0/1]\n    </div>\n    <table border=\"1\" class=\"dataframe\">\n  <thead>\n <tr style=\"text-align: left;\">\n      <th>Step</th>\n      <th>Training Loss</th>\n    </tr>\n  </thead>\n  <tbody>\n    <tr>\n      <td>1</td>\n      <td>2.210500</td>\n    </tr>\n    <tr>\n      <td>2</td>\n      <td>2.035200</td>\n    </tr>\n    <tr>\n      <td>3</td>\n      <td>2.093300</td>\n    </tr>\n    <tr>\n      <td>4</td>\n      <td>1.982600</td>\n    </tr>\n    <tr>\n      <td>5</td>\n      <td>2.077100</td>\n    </tr>\n    <tr>\n      <td>6</td>\n      <td>2.059100</td>\n    </tr>\n    <tr>\n      <td>7</td>\n      <td>1.869500</td>\n    </tr>\n    <tr>\n      <td>8</td>\n      <td>1.933300</td>\n    </tr>\n    <tr>\n      <td>9</td>\n      <td>1.766600</td>\n    </tr>\n    <tr>\n      <td>10</td>\n      <td>1.757500</td>\n    </tr>\n    <tr>\n      <td>11</td>\n      <td>1.718000</td>\n    </tr>\n    <tr>\n      <td>12</td>\n      <td>1.654100</td>\n    </tr>\n    <tr>\n      <td>13</td>\n      <td>1.451800</td>\n    </tr>\n    <tr>\n      <td>14</td>\n      <td>1.300500</td>\n    </tr>\n    <tr>\n      <td>15</td>\n      <td>1.300500</td>\n    </tr>\n    <tr>\n      <td>16</td>\n      <td>1.247900</td>\n    </tr>\n    <tr>\n      <td>17</td>\n      <td>1.106000</td>\n    </tr>\n    <tr>\n      <td>18</td>\n      <td>1.075700</td>\n    </tr>\n    <tr>\n      <td>19</td>\n      <td>0.898400</td>\n    </tr>\n    <tr>\n      <td>20</td>\n      <td>0.876600</td>\n    </tr>\n    <tr>\n      <td>21</td>\n      <td>0.903900</td>\n    </tr>\n    <tr>\n      <td>22</td>\n      <td>0.659100</td>\n    </tr>\n    <tr>\n      <td>23</td>\n      <td>0.839100</td>\n    </tr>\n    <tr>\n      <td>24</td>\n      <td>0.727200</td>\n    </tr>\n    <tr>\n      <td>25</td>\n      <td>0.888700</td>\n    </tr>\n    <tr>\n      <td>26</td>\n      <td>0.861900</td>\n    </tr>\n    <tr>\n      <td>27</td>\n      <td>0.633000</td>\n    </tr>\n    <tr>\n      <td>28</td>\n      <td>0.802000</td>\n    </tr>\n    <tr>\n      <td>29</td>\n      <td>0.833900</td>\n    </tr>\n    <tr>\n      <td>30</td>\n      <td>0.909900</td>\n    </tr>\n    <tr>\n      <td>31</td>\n      <td>0.766100</td>\n    </tr>\n    <tr>\n      <td>32</td>\n      <td>0.827900</td>\n    </tr>\n    <tr>\n      <td>33</td>\n      <td>0.848700</td>\n    </tr>\n    <tr>\n      <td>34</td>\n      <td>0.672000</td>\n    </tr>\n    <tr>\n      <td>35</td>\n      <td>0.716100</td>\n    </tr>\n    <tr>\n      <td>36</td>\n      <td>0.826400</td>\n    </tr>\n    <tr>\n      <td>37</td>\n      <td>0.859100</td>\n    </tr>\n    <tr>\n      <td>38</td>\n      <td>0.943400</td>\n    </tr>\n    <tr>\n      <td>39</td>\n      <td>0.749900</td>\n    </tr>\n    <tr>\n      <td>40</td>\n      <td>0.806200</td>\n    </tr>\n    <tr>\n      <td>41</td>\n      <td>0.689500</td>\n    </tr>\n    <tr>\n      <td>42</td>\n      <td>0.615800</td>\n    </tr>\n    <tr>\n      <td>43</td>\n      <td>0.772000</td>\n    </tr>\n    <tr>\n      <td>44</td>\n      <td>0.721000</td>\n    </tr>\n    <tr>\n      <td>45</td>\n      <td>0.866900</td>\n    </tr>\n    <tr>\n      <td>46</td>\n      <td>0.905200</td>\n    </tr>\n    <tr>\n      <td>47</td>\n      <td>1.008700</td>\n    </tr>\n    <tr>\n      <td>48</td>\n      <td>0.737700</td>\n    </tr>\n    <tr>\n      <td>49</td>\n      <td>0.888500</td>\n    </tr>\n    <tr>\n      <td>50</td>\n      <td>0.866600</td>\n    </tr>\n    <tr>\n      <td>51</td>\n      <td>0.824900</td>\n    </tr>\n    <tr>\n      <td>52</td>\n      <td>0.739200</td>\n    </tr>\n    <tr>\n      <td>53</td>\n      <td>0.885000</td>\n    </tr>\n    <tr>\n      <td>54</td>\n      <td>0.706700</td>\n    </tr>\n    <tr>\n      <td>55</td>\n      <td>0.769100</td>\n    </tr>\n    <tr>\n      <td>56</td>\n      <td>0.657300</td>\n    </tr>\n    <tr>\n      <td>57</td>\n      <td>0.714900</td>\n    </tr>\n    <tr>\n      <td>58</td>\n      <td>0.929900</td>\n    </tr>\n    <tr>\n      <td>59</td>\n      <td>0.756200</td>\n    </tr>\n    <tr>\n      <td>60</td>\n      <td>0.773400</td>\n    </tr>\n    <tr>\n      <td>61</td>\n      <td>0.870700</td>\n    </tr>\n    <tr>\n      <td>62</td>\n      <td>0.620800</td>\n    </tr>\n    <tr>\n      <td>63</td>\n      <td>0.782600</td>\n    </tr>\n    <tr>\n      <td>64</td>\n      <td>0.633400</td>\n    </tr>\n    <tr>\n      <td>65</td>\n      <td>0.804400</td>\n    </tr>\n    <tr>\n      <td>66</td>\n      <td>0.757100</td>\n    </tr>\n    <tr>\n      <td>67</td>\n      <td>0.816100</td>\n    </tr>\n    <tr>\n      <td>68</td>\n      <td>0.873800</td>\n    </tr>\n    <tr>\n      <td>69</td>\n      <td>0.668100</td>\n    </tr>\n    <tr>\n      <td>70</td>\n      <td>0.950500</td>\n    </tr>\n    <tr>\n      <td>71</td>\n      <td>0.548900</td>\n    </tr>\n    <tr>\n      <td>72</td>\n      <td>0.742000</td>\n    </tr>\n    <tr>\n      <td>73</td>\n      <td>0.908800</td>\n    </tr>\n    <tr>\n      <td>74</td>\n      <td>0.761500</td>\n    </tr>\n    <tr>\n      <td>75</td>\n      <td>0.912900</td>\n    </tr>\n    <tr>\n      <td>76</td>\n      <td>0.722600</td>\n    </tr>\n    <tr>\n      <td>77</td>\n      <td>0.625200</td>\n    </tr>\n    <tr>\n      <td>78</td>\n      <td>0.880500</td>\n    </tr>\n    <tr>\n      <td>79</td>\n      <td>0.736700</td>\n    </tr>\n    <tr>\n      <td>80</td>\n      <td>0.869500</td>\n    </tr>\n    <tr>\n      <td>81</td>\n      <td>0.862600</td>\n    </tr>\n    <tr>\n      <td>82</td>\n      <td>0.734500</td>\n    </tr>\n    <tr>\n      <td>83</td>\n      <td>0.611500</td>\n    </tr>\n    <tr>\n      <td>84</td>\n      <td>0.696400</td>\n    </tr>\n    <tr>\n      <td>85</td>\n      <td>0.745200</td>\n    </tr>\n    <tr>\n      <td>86</td>\n      <td>0.792800</td>\n    </tr>\n    <tr>\n      <td>87</td>\n      <td>0.704200</td>\n    </tr>\n  </tbody>\n</table><p>"
     },
     "metadata": {},
     "output_type": "display_data"
    },
    {
     "data": {
      "text/plain": "TrainOutput(global_step=87, training_loss=0.9764408318475745, metrics={'train_runtime': 192.9146, 'train_samples_per_second': 3.629, 'train_steps_per_second': 0.451, 'total_flos': 2009711826769920.0, 'train_loss': 0.9764408318475745})"
     },
     "execution_count": 15,
     "metadata": {},
     "output_type": "execute_result"
    }
   ],
   "source": [
    "trainer.train()"
   ]
  },
  {
   "cell_type": "code",
   "outputs": [],
   "source": [
    "trainer.save_model(\"ft-outputs\")"
   ],
   "metadata": {
    "collapsed": false,
    "ExecuteTime": {
     "end_time": "2025-05-08T18:19:26.519462900Z",
     "start_time": "2025-05-08T18:19:25.646647Z"
    }
   },
   "id": "103a4547786d4ab6",
   "execution_count": 16
  },
  {
   "cell_type": "code",
   "outputs": [
    {
     "data": {
      "text/plain": "('ft-outputs\\\\tokenizer_config.json',\n 'ft-outputs\\\\special_tokens_map.json',\n 'ft-outputs\\\\vocab.json',\n 'ft-outputs\\\\merges.txt',\n 'ft-outputs\\\\added_tokens.json',\n 'ft-outputs\\\\tokenizer.json')"
     },
     "execution_count": 17,
     "metadata": {},
     "output_type": "execute_result"
    }
   ],
   "source": [
    "model.save_pretrained(\"ft-outputs\")\n",
    "tokenizer.save_pretrained(\"ft-outputs\")"
   ],
   "metadata": {
    "collapsed": false,
    "ExecuteTime": {
     "end_time": "2025-05-08T18:19:28.357953200Z",
     "start_time": "2025-05-08T18:19:27.382770400Z"
    }
   },
   "id": "5562503de6da0e89",
   "execution_count": 17
  },
  {
   "cell_type": "code",
   "execution_count": 18,
   "id": "183a852b81e23348",
   "metadata": {
    "collapsed": false,
    "ExecuteTime": {
     "end_time": "2025-05-08T18:19:34.176519400Z",
     "start_time": "2025-05-08T18:19:33.980326600Z"
    }
   },
   "outputs": [
    {
     "data": {
      "text/plain": "<Figure size 1000x600 with 1 Axes>",
      "image/png": "[encoded data removed]"
     },
     "metadata": {},
     "output_type": "display_data"
    }
   ],
   "source": [
    "import matplotlib.pyplot as plt\n",
    "import numpy as np\n",
    "# After training is complete\n",
    "training_logs = trainer.state.log_history\n",
    "# Extract loss values\n",
    "train_losses = [log.get('loss') for log in training_logs if 'loss' in log]\n",
    "steps = list(range(len(train_losses)))\n",
    "# Plot the training loss\n",
    "plt.figure(figsize=(10, 6))\n",
    "plt.plot(steps, train_losses)\n",
    "plt.xlabel('Training Steps')\n",
    "plt.ylabel('Training Loss')\n",
    "plt.title('Training Loss over Time')\n",
    "plt.grid(True)\n",
    "plt.show()"
   ]
  },
  {
   "cell_type": "markdown",
   "source": [
    "# Evaluation"
   ],
   "metadata": {
    "collapsed": false
   },
   "id": "2e2dfb3785eb442b"
  },
  {
   "cell_type": "code",
   "execution_count": 19,
   "id": "eeedd4ef7548b565",
   "metadata": {
    "collapsed": false,
    "ExecuteTime": {
     "end_time": "2025-05-08T18:19:53.419563200Z",
     "start_time": "2025-05-08T18:19:52.533949500Z"
    }
   },
   "outputs": [],
   "source": [
    "import numpy as np\n",
    "import json\n",
    "import torch\n",
    "from transformers import TextStreamer\n",
    "from nltk.translate.bleu_score import sentence_bleu\n",
    "from sentence_transformers import SentenceTransformer\n",
    "from sklearn.metrics.pairwise import cosine_similarity\n",
    "import pandas as pd\n",
    "import matplotlib.pyplot as plt\n",
    "import seaborn as sns\n",
    "from safetensors import safe_open\n",
    "from transformers import AutoModelForCausalLM, AutoTokenizer\n",
    "import torch"
   ]
  },
  {
   "cell_type": "code",
   "execution_count": 20,
   "id": "772f40d4973526fd",
   "metadata": {
    "collapsed": false,
    "ExecuteTime": {
     "end_time": "2025-05-08T18:20:00.612959600Z",
     "start_time": "2025-05-08T18:19:55.199220Z"
    }
   },
   "outputs": [
    {
     "name": "stdout",
     "output_type": "stream",
     "text": [
      "==((====))==  Unsloth 2025.4.7: Fast Qwen2 patching. Transformers: 4.51.3.\n",
      "   \\\\   /|    NVIDIA GeForce RTX 3060 Laptop GPU. Num GPUs = 1. Max memory: 6.0 GB. Platform: Windows.\n",
      "O^O/ \\_/ \\    Torch: 2.7.0+cu128. CUDA: 8.6. CUDA Toolkit: 12.8. Triton: 3.3.0\n",
      "\\        /    Bfloat16 = TRUE. FA [Xformers = 0.0.30. FA2 = False]\n",
      " \"-____-\"     Free license: http://github.com/unslothai/unsloth\n",
      "Unsloth: Fast downloading is enabled - ignore downloading bars which are red colored!\n"
     ]
    },
    {
     "data": {
      "text/plain": "PeftModelForCausalLM(\n  (base_model): LoraModel(\n    (model): Qwen2ForCausalLM(\n      (model): Qwen2Model(\n        (embed_tokens): Embedding(151936, 1536, padding_idx=151654)\n        (layers): ModuleList(\n          (0): Qwen2DecoderLayer(\n            (self_attn): Qwen2Attention(\n              (q_proj): lora.Linear(\n                (base_layer): Linear(in_features=1536, out_features=1536, bias=True)\n                (lora_dropout): ModuleDict(\n                  (default): Identity()\n                )\n                (lora_A): ModuleDict(\n                  (default): Linear(in_features=1536, out_features=16, bias=False)\n                )\n                (lora_B): ModuleDict(\n                  (default): Linear(in_features=16, out_features=1536, bias=False)\n                )\n                (lora_embedding_A): ParameterDict()\n                (lora_embedding_B): ParameterDict()\n                (lora_magnitude_vector): ModuleDict()\n              )\n              (k_proj): lora.Linear(\n                (base_layer): Linear(in_features=1536, out_features=256, bias=True)\n                (lora_dropout): ModuleDict(\n                  (default): Identity()\n                )\n                (lora_A): ModuleDict(\n                  (default): Linear(in_features=1536, out_features=16, bias=False)\n                )\n                (lora_B): ModuleDict(\n                  (default): Linear(in_features=16, out_features=256, bias=False)\n                )\n                (lora_embedding_A): ParameterDict()\n                (lora_embedding_B): ParameterDict()\n                (lora_magnitude_vector): ModuleDict()\n              )\n              (v_proj): lora.Linear(\n                (base_layer): Linear(in_features=1536, out_features=256, bias=True)\n                (lora_dropout): ModuleDict(\n                  (default): Identity()\n                )\n                (lora_A): ModuleDict(\n                  (default): Linear(in_features=1536, out_features=16, bias=False)\n                )\n                (lora_B): ModuleDict(\n                  (default): Linear(in_features=16, out_features=256, bias=False)\n                )\n                (lora_embedding_A): ParameterDict()\n                (lora_embedding_B): ParameterDict()\n                (lora_magnitude_vector): ModuleDict()\n              )\n              (o_proj): lora.Linear(\n                (base_layer): Linear(in_features=1536, out_features=1536, bias=False)\n                (lora_dropout): ModuleDict(\n                  (default): Identity()\n                )\n                (lora_A): ModuleDict(\n                  (default): Linear(in_features=1536, out_features=16, bias=False)\n                )\n                (lora_B): ModuleDict(\n                  (default): Linear(in_features=16, out_features=1536, bias=False)\n                )\n                (lora_embedding_A): ParameterDict()\n                (lora_embedding_B): ParameterDict()\n                (lora_magnitude_vector): ModuleDict()\n              )\n              (rotary_emb): LlamaRotaryEmbedding()\n            )\n            (mlp): Qwen2MLP(\n              (gate_proj): lora.Linear(\n                (base_layer): Linear(in_features=1536, out_features=8960, bias=False)\n                (lora_dropout): ModuleDict(\n                  (default): Identity()\n                )\n                (lora_A): ModuleDict(\n                  (default): Linear(in_features=1536, out_features=16, bias=False)\n                )\n                (lora_B): ModuleDict(\n                  (default): Linear(in_features=16, out_features=8960, bias=False)\n                )\n                (lora_embedding_A): ParameterDict()\n                (lora_embedding_B): ParameterDict()\n                (lora_magnitude_vector): ModuleDict()\n              )\n              (up_proj): lora.Linear(\n                (base_layer): Linear(in_features=1536, out_features=8960, bias=False)\n                (lora_dropout): ModuleDict(\n                  (default): Identity()\n                )\n                (lora_A): ModuleDict(\n                  (default): Linear(in_features=1536, out_features=16, bias=False)\n                )\n                (lora_B): ModuleDict(\n                  (default): Linear(in_features=16, out_features=8960, bias=False)\n                )\n                (lora_embedding_A): ParameterDict()\n                (lora_embedding_B): ParameterDict()\n                (lora_magnitude_vector): ModuleDict()\n              )\n              (down_proj): lora.Linear(\n                (base_layer): Linear(in_features=8960, out_features=1536, bias=False)\n                (lora_dropout): ModuleDict(\n                  (default): Identity()\n                )\n                (lora_A): ModuleDict(\n                  (default): Linear(in_features=8960, out_features=16, bias=False)\n                )\n                (lora_B): ModuleDict(\n                  (default): Linear(in_features=16, out_features=1536, bias=False)\n                )\n                (lora_embedding_A): ParameterDict()\n                (lora_embedding_B): ParameterDict()\n                (lora_magnitude_vector): ModuleDict()\n              )\n              (act_fn): SiLU()\n            )\n            (input_layernorm): Qwen2RMSNorm((1536,), eps=1e-06)\n            (post_attention_layernorm): Qwen2RMSNorm((1536,), eps=1e-06)\n          )\n          (1-2): 2 x Qwen2DecoderLayer(\n            (self_attn): Qwen2Attention(\n              (q_proj): lora.Linear4bit(\n                (base_layer): Linear4bit(in_features=1536, out_features=1536, bias=True)\n                (lora_dropout): ModuleDict(\n                  (default): Identity()\n                )\n                (lora_A): ModuleDict(\n                  (default): Linear(in_features=1536, out_features=16, bias=False)\n                )\n                (lora_B): ModuleDict(\n                  (default): Linear(in_features=16, out_features=1536, bias=False)\n                )\n                (lora_embedding_A): ParameterDict()\n                (lora_embedding_B): ParameterDict()\n                (lora_magnitude_vector): ModuleDict()\n              )\n              (k_proj): lora.Linear4bit(\n                (base_layer): Linear4bit(in_features=1536, out_features=256, bias=True)\n                (lora_dropout): ModuleDict(\n                  (default): Identity()\n                )\n                (lora_A): ModuleDict(\n                  (default): Linear(in_features=1536, out_features=16, bias=False)\n                )\n                (lora_B): ModuleDict(\n                  (default): Linear(in_features=16, out_features=256, bias=False)\n                )\n                (lora_embedding_A): ParameterDict()\n                (lora_embedding_B): ParameterDict()\n                (lora_magnitude_vector): ModuleDict()\n              )\n              (v_proj): lora.Linear4bit(\n                (base_layer): Linear4bit(in_features=1536, out_features=256, bias=True)\n                (lora_dropout): ModuleDict(\n                  (default): Identity()\n                )\n                (lora_A): ModuleDict(\n                  (default): Linear(in_features=1536, out_features=16, bias=False)\n                )\n                (lora_B): ModuleDict(\n                  (default): Linear(in_features=16, out_features=256, bias=False)\n                )\n                (lora_embedding_A): ParameterDict()\n                (lora_embedding_B): ParameterDict()\n                (lora_magnitude_vector): ModuleDict()\n              )\n              (o_proj): lora.Linear4bit(\n                (base_layer): Linear4bit(in_features=1536, out_features=1536, bias=False)\n                (lora_dropout): ModuleDict(\n                  (default): Identity()\n                )\n                (lora_A): ModuleDict(\n                  (default): Linear(in_features=1536, out_features=16, bias=False)\n                )\n                (lora_B): ModuleDict(\n                  (default): Linear(in_features=16, out_features=1536, bias=False)\n                )\n                (lora_embedding_A): ParameterDict()\n                (lora_embedding_B): ParameterDict()\n                (lora_magnitude_vector): ModuleDict()\n              )\n              (rotary_emb): LlamaRotaryEmbedding()\n            )\n            (mlp): Qwen2MLP(\n              (gate_proj): lora.Linear(\n                (base_layer): Linear(in_features=1536, out_features=8960, bias=False)\n                (lora_dropout): ModuleDict(\n                  (default): Identity()\n                )\n                (lora_A): ModuleDict(\n                  (default): Linear(in_features=1536, out_features=16, bias=False)\n                )\n                (lora_B): ModuleDict(\n                  (default): Linear(in_features=16, out_features=8960, bias=False)\n                )\n                (lora_embedding_A): ParameterDict()\n                (lora_embedding_B): ParameterDict()\n                (lora_magnitude_vector): ModuleDict()\n              )\n              (up_proj): lora.Linear(\n                (base_layer): Linear(in_features=1536, out_features=8960, bias=False)\n                (lora_dropout): ModuleDict(\n                  (default): Identity()\n                )\n                (lora_A): ModuleDict(\n                  (default): Linear(in_features=1536, out_features=16, bias=False)\n                )\n                (lora_B): ModuleDict(\n                  (default): Linear(in_features=16, out_features=8960, bias=False)\n                )\n                (lora_embedding_A): ParameterDict()\n                (lora_embedding_B): ParameterDict()\n                (lora_magnitude_vector): ModuleDict()\n              )\n              (down_proj): lora.Linear(\n                (base_layer): Linear(in_features=8960, out_features=1536, bias=False)\n                (lora_dropout): ModuleDict(\n                  (default): Identity()\n                )\n                (lora_A): ModuleDict(\n                  (default): Linear(in_features=8960, out_features=16, bias=False)\n                )\n                (lora_B): ModuleDict(\n                  (default): Linear(in_features=16, out_features=1536, bias=False)\n                )\n                (lora_embedding_A): ParameterDict()\n                (lora_embedding_B): ParameterDict()\n                (lora_magnitude_vector): ModuleDict()\n              )\n              (act_fn): SiLU()\n            )\n            (input_layernorm): Qwen2RMSNorm((1536,), eps=1e-06)\n            (post_attention_layernorm): Qwen2RMSNorm((1536,), eps=1e-06)\n          )\n          (3-14): 12 x Qwen2DecoderLayer(\n            (self_attn): Qwen2Attention(\n              (q_proj): lora.Linear4bit(\n                (base_layer): Linear4bit(in_features=1536, out_features=1536, bias=True)\n                (lora_dropout): ModuleDict(\n                  (default): Identity()\n                )\n                (lora_A): ModuleDict(\n                  (default): Linear(in_features=1536, out_features=16, bias=False)\n                )\n                (lora_B): ModuleDict(\n                  (default): Linear(in_features=16, out_features=1536, bias=False)\n                )\n                (lora_embedding_A): ParameterDict()\n                (lora_embedding_B): ParameterDict()\n                (lora_magnitude_vector): ModuleDict()\n              )\n              (k_proj): lora.Linear4bit(\n                (base_layer): Linear4bit(in_features=1536, out_features=256, bias=True)\n                (lora_dropout): ModuleDict(\n                  (default): Identity()\n                )\n                (lora_A): ModuleDict(\n                  (default): Linear(in_features=1536, out_features=16, bias=False)\n                )\n                (lora_B): ModuleDict(\n                  (default): Linear(in_features=16, out_features=256, bias=False)\n                )\n                (lora_embedding_A): ParameterDict()\n                (lora_embedding_B): ParameterDict()\n                (lora_magnitude_vector): ModuleDict()\n              )\n              (v_proj): lora.Linear4bit(\n                (base_layer): Linear4bit(in_features=1536, out_features=256, bias=True)\n                (lora_dropout): ModuleDict(\n                  (default): Identity()\n                )\n                (lora_A): ModuleDict(\n                  (default): Linear(in_features=1536, out_features=16, bias=False)\n                )\n                (lora_B): ModuleDict(\n                  (default): Linear(in_features=16, out_features=256, bias=False)\n                )\n                (lora_embedding_A): ParameterDict()\n                (lora_embedding_B): ParameterDict()\n                (lora_magnitude_vector): ModuleDict()\n              )\n              (o_proj): lora.Linear4bit(\n                (base_layer): Linear4bit(in_features=1536, out_features=1536, bias=False)\n                (lora_dropout): ModuleDict(\n                  (default): Identity()\n                )\n                (lora_A): ModuleDict(\n                  (default): Linear(in_features=1536, out_features=16, bias=False)\n                )\n                (lora_B): ModuleDict(\n                  (default): Linear(in_features=16, out_features=1536, bias=False)\n                )\n                (lora_embedding_A): ParameterDict()\n                (lora_embedding_B): ParameterDict()\n                (lora_magnitude_vector): ModuleDict()\n              )\n              (rotary_emb): LlamaRotaryEmbedding()\n            )\n            (mlp): Qwen2MLP(\n              (gate_proj): lora.Linear4bit(\n                (base_layer): Linear4bit(in_features=1536, out_features=8960, bias=False)\n                (lora_dropout): ModuleDict(\n                  (default): Identity()\n                )\n                (lora_A): ModuleDict(\n                  (default): Linear(in_features=1536, out_features=16, bias=False)\n                )\n                (lora_B): ModuleDict(\n                  (default): Linear(in_features=16, out_features=8960, bias=False)\n                )\n                (lora_embedding_A): ParameterDict()\n                (lora_embedding_B): ParameterDict()\n                (lora_magnitude_vector): ModuleDict()\n              )\n              (up_proj): lora.Linear4bit(\n                (base_layer): Linear4bit(in_features=1536, out_features=8960, bias=False)\n                (lora_dropout): ModuleDict(\n                  (default): Identity()\n                )\n                (lora_A): ModuleDict(\n                  (default): Linear(in_features=1536, out_features=16, bias=False)\n                )\n                (lora_B): ModuleDict(\n                  (default): Linear(in_features=16, out_features=8960, bias=False)\n                )\n                (lora_embedding_A): ParameterDict()\n                (lora_embedding_B): ParameterDict()\n                (lora_magnitude_vector): ModuleDict()\n              )\n              (down_proj): lora.Linear4bit(\n                (base_layer): Linear4bit(in_features=8960, out_features=1536, bias=False)\n                (lora_dropout): ModuleDict(\n                  (default): Identity()\n                )\n                (lora_A): ModuleDict(\n                  (default): Linear(in_features=8960, out_features=16, bias=False)\n                )\n                (lora_B): ModuleDict(\n                  (default): Linear(in_features=16, out_features=1536, bias=False)\n                )\n                (lora_embedding_A): ParameterDict()\n                (lora_embedding_B): ParameterDict()\n                (lora_magnitude_vector): ModuleDict()\n              )\n              (act_fn): SiLU()\n            )\n            (input_layernorm): Qwen2RMSNorm((1536,), eps=1e-06)\n            (post_attention_layernorm): Qwen2RMSNorm((1536,), eps=1e-06)\n          )\n          (15): Qwen2DecoderLayer(\n            (self_attn): Qwen2Attention(\n              (q_proj): lora.Linear(\n                (base_layer): Linear(in_features=1536, out_features=1536, bias=True)\n                (lora_dropout): ModuleDict(\n                  (default): Identity()\n                )\n                (lora_A): ModuleDict(\n                  (default): Linear(in_features=1536, out_features=16, bias=False)\n                )\n                (lora_B): ModuleDict(\n                  (default): Linear(in_features=16, out_features=1536, bias=False)\n                )\n                (lora_embedding_A): ParameterDict()\n                (lora_embedding_B): ParameterDict()\n                (lora_magnitude_vector): ModuleDict()\n              )\n              (k_proj): lora.Linear(\n                (base_layer): Linear(in_features=1536, out_features=256, bias=True)\n                (lora_dropout): ModuleDict(\n                  (default): Identity()\n                )\n                (lora_A): ModuleDict(\n                  (default): Linear(in_features=1536, out_features=16, bias=False)\n                )\n                (lora_B): ModuleDict(\n                  (default): Linear(in_features=16, out_features=256, bias=False)\n                )\n                (lora_embedding_A): ParameterDict()\n                (lora_embedding_B): ParameterDict()\n                (lora_magnitude_vector): ModuleDict()\n              )\n              (v_proj): lora.Linear(\n                (base_layer): Linear(in_features=1536, out_features=256, bias=True)\n                (lora_dropout): ModuleDict(\n                  (default): Identity()\n                )\n                (lora_A): ModuleDict(\n                  (default): Linear(in_features=1536, out_features=16, bias=False)\n                )\n                (lora_B): ModuleDict(\n                  (default): Linear(in_features=16, out_features=256, bias=False)\n                )\n                (lora_embedding_A): ParameterDict()\n                (lora_embedding_B): ParameterDict()\n                (lora_magnitude_vector): ModuleDict()\n              )\n              (o_proj): lora.Linear(\n                (base_layer): Linear(in_features=1536, out_features=1536, bias=False)\n                (lora_dropout): ModuleDict(\n                  (default): Identity()\n                )\n                (lora_A): ModuleDict(\n                  (default): Linear(in_features=1536, out_features=16, bias=False)\n                )\n                (lora_B): ModuleDict(\n                  (default): Linear(in_features=16, out_features=1536, bias=False)\n                )\n                (lora_embedding_A): ParameterDict()\n                (lora_embedding_B): ParameterDict()\n                (lora_magnitude_vector): ModuleDict()\n              )\n              (rotary_emb): LlamaRotaryEmbedding()\n            )\n            (mlp): Qwen2MLP(\n              (gate_proj): lora.Linear4bit(\n                (base_layer): Linear4bit(in_features=1536, out_features=8960, bias=False)\n                (lora_dropout): ModuleDict(\n                  (default): Identity()\n                )\n                (lora_A): ModuleDict(\n                  (default): Linear(in_features=1536, out_features=16, bias=False)\n                )\n                (lora_B): ModuleDict(\n                  (default): Linear(in_features=16, out_features=8960, bias=False)\n                )\n                (lora_embedding_A): ParameterDict()\n                (lora_embedding_B): ParameterDict()\n                (lora_magnitude_vector): ModuleDict()\n              )\n              (up_proj): lora.Linear4bit(\n                (base_layer): Linear4bit(in_features=1536, out_features=8960, bias=False)\n                (lora_dropout): ModuleDict(\n                  (default): Identity()\n                )\n                (lora_A): ModuleDict(\n                  (default): Linear(in_features=1536, out_features=16, bias=False)\n                )\n                (lora_B): ModuleDict(\n                  (default): Linear(in_features=16, out_features=8960, bias=False)\n                )\n                (lora_embedding_A): ParameterDict()\n                (lora_embedding_B): ParameterDict()\n                (lora_magnitude_vector): ModuleDict()\n              )\n              (down_proj): lora.Linear4bit(\n                (base_layer): Linear4bit(in_features=8960, out_features=1536, bias=False)\n                (lora_dropout): ModuleDict(\n                  (default): Identity()\n                )\n                (lora_A): ModuleDict(\n                  (default): Linear(in_features=8960, out_features=16, bias=False)\n                )\n                (lora_B): ModuleDict(\n                  (default): Linear(in_features=16, out_features=1536, bias=False)\n                )\n                (lora_embedding_A): ParameterDict()\n                (lora_embedding_B): ParameterDict()\n                (lora_magnitude_vector): ModuleDict()\n              )\n              (act_fn): SiLU()\n            )\n            (input_layernorm): Qwen2RMSNorm((1536,), eps=1e-06)\n            (post_attention_layernorm): Qwen2RMSNorm((1536,), eps=1e-06)\n          )\n          (16-25): 10 x Qwen2DecoderLayer(\n            (self_attn): Qwen2Attention(\n              (q_proj): lora.Linear4bit(\n                (base_layer): Linear4bit(in_features=1536, out_features=1536, bias=True)\n                (lora_dropout): ModuleDict(\n                  (default): Identity()\n                )\n                (lora_A): ModuleDict(\n                  (default): Linear(in_features=1536, out_features=16, bias=False)\n                )\n                (lora_B): ModuleDict(\n                  (default): Linear(in_features=16, out_features=1536, bias=False)\n                )\n                (lora_embedding_A): ParameterDict()\n                (lora_embedding_B): ParameterDict()\n                (lora_magnitude_vector): ModuleDict()\n              )\n              (k_proj): lora.Linear4bit(\n                (base_layer): Linear4bit(in_features=1536, out_features=256, bias=True)\n                (lora_dropout): ModuleDict(\n                  (default): Identity()\n                )\n                (lora_A): ModuleDict(\n                  (default): Linear(in_features=1536, out_features=16, bias=False)\n                )\n                (lora_B): ModuleDict(\n                  (default): Linear(in_features=16, out_features=256, bias=False)\n                )\n                (lora_embedding_A): ParameterDict()\n                (lora_embedding_B): ParameterDict()\n                (lora_magnitude_vector): ModuleDict()\n              )\n              (v_proj): lora.Linear4bit(\n                (base_layer): Linear4bit(in_features=1536, out_features=256, bias=True)\n                (lora_dropout): ModuleDict(\n                  (default): Identity()\n                )\n                (lora_A): ModuleDict(\n                  (default): Linear(in_features=1536, out_features=16, bias=False)\n                )\n                (lora_B): ModuleDict(\n                  (default): Linear(in_features=16, out_features=256, bias=False)\n                )\n                (lora_embedding_A): ParameterDict()\n                (lora_embedding_B): ParameterDict()\n                (lora_magnitude_vector): ModuleDict()\n              )\n              (o_proj): lora.Linear4bit(\n                (base_layer): Linear4bit(in_features=1536, out_features=1536, bias=False)\n                (lora_dropout): ModuleDict(\n                  (default): Identity()\n                )\n                (lora_A): ModuleDict(\n                  (default): Linear(in_features=1536, out_features=16, bias=False)\n                )\n                (lora_B): ModuleDict(\n                  (default): Linear(in_features=16, out_features=1536, bias=False)\n                )\n                (lora_embedding_A): ParameterDict()\n                (lora_embedding_B): ParameterDict()\n                (lora_magnitude_vector): ModuleDict()\n              )\n              (rotary_emb): LlamaRotaryEmbedding()\n            )\n            (mlp): Qwen2MLP(\n              (gate_proj): lora.Linear4bit(\n                (base_layer): Linear4bit(in_features=1536, out_features=8960, bias=False)\n                (lora_dropout): ModuleDict(\n                  (default): Identity()\n                )\n                (lora_A): ModuleDict(\n                  (default): Linear(in_features=1536, out_features=16, bias=False)\n                )\n                (lora_B): ModuleDict(\n                  (default): Linear(in_features=16, out_features=8960, bias=False)\n                )\n                (lora_embedding_A): ParameterDict()\n                (lora_embedding_B): ParameterDict()\n                (lora_magnitude_vector): ModuleDict()\n              )\n              (up_proj): lora.Linear4bit(\n                (base_layer): Linear4bit(in_features=1536, out_features=8960, bias=False)\n                (lora_dropout): ModuleDict(\n                  (default): Identity()\n                )\n                (lora_A): ModuleDict(\n                  (default): Linear(in_features=1536, out_features=16, bias=False)\n                )\n                (lora_B): ModuleDict(\n                  (default): Linear(in_features=16, out_features=8960, bias=False)\n                )\n                (lora_embedding_A): ParameterDict()\n                (lora_embedding_B): ParameterDict()\n                (lora_magnitude_vector): ModuleDict()\n              )\n              (down_proj): lora.Linear4bit(\n                (base_layer): Linear4bit(in_features=8960, out_features=1536, bias=False)\n                (lora_dropout): ModuleDict(\n                  (default): Identity()\n                )\n                (lora_A): ModuleDict(\n                  (default): Linear(in_features=8960, out_features=16, bias=False)\n                )\n                (lora_B): ModuleDict(\n                  (default): Linear(in_features=16, out_features=1536, bias=False)\n                )\n                (lora_embedding_A): ParameterDict()\n                (lora_embedding_B): ParameterDict()\n                (lora_magnitude_vector): ModuleDict()\n              )\n              (act_fn): SiLU()\n            )\n            (input_layernorm): Qwen2RMSNorm((1536,), eps=1e-06)\n            (post_attention_layernorm): Qwen2RMSNorm((1536,), eps=1e-06)\n          )\n          (26): Qwen2DecoderLayer(\n            (self_attn): Qwen2Attention(\n              (q_proj): lora.Linear4bit(\n                (base_layer): Linear4bit(in_features=1536, out_features=1536, bias=True)\n                (lora_dropout): ModuleDict(\n                  (default): Identity()\n                )\n                (lora_A): ModuleDict(\n                  (default): Linear(in_features=1536, out_features=16, bias=False)\n                )\n                (lora_B): ModuleDict(\n                  (default): Linear(in_features=16, out_features=1536, bias=False)\n                )\n                (lora_embedding_A): ParameterDict()\n                (lora_embedding_B): ParameterDict()\n                (lora_magnitude_vector): ModuleDict()\n              )\n              (k_proj): lora.Linear4bit(\n                (base_layer): Linear4bit(in_features=1536, out_features=256, bias=True)\n                (lora_dropout): ModuleDict(\n                  (default): Identity()\n                )\n                (lora_A): ModuleDict(\n                  (default): Linear(in_features=1536, out_features=16, bias=False)\n                )\n                (lora_B): ModuleDict(\n                  (default): Linear(in_features=16, out_features=256, bias=False)\n                )\n                (lora_embedding_A): ParameterDict()\n                (lora_embedding_B): ParameterDict()\n                (lora_magnitude_vector): ModuleDict()\n              )\n              (v_proj): lora.Linear4bit(\n                (base_layer): Linear4bit(in_features=1536, out_features=256, bias=True)\n                (lora_dropout): ModuleDict(\n                  (default): Identity()\n                )\n                (lora_A): ModuleDict(\n                  (default): Linear(in_features=1536, out_features=16, bias=False)\n                )\n                (lora_B): ModuleDict(\n                  (default): Linear(in_features=16, out_features=256, bias=False)\n                )\n                (lora_embedding_A): ParameterDict()\n                (lora_embedding_B): ParameterDict()\n                (lora_magnitude_vector): ModuleDict()\n              )\n              (o_proj): lora.Linear4bit(\n                (base_layer): Linear4bit(in_features=1536, out_features=1536, bias=False)\n                (lora_dropout): ModuleDict(\n                  (default): Identity()\n                )\n                (lora_A): ModuleDict(\n                  (default): Linear(in_features=1536, out_features=16, bias=False)\n                )\n                (lora_B): ModuleDict(\n                  (default): Linear(in_features=16, out_features=1536, bias=False)\n                )\n                (lora_embedding_A): ParameterDict()\n                (lora_embedding_B): ParameterDict()\n                (lora_magnitude_vector): ModuleDict()\n              )\n              (rotary_emb): LlamaRotaryEmbedding()\n            )\n            (mlp): Qwen2MLP(\n              (gate_proj): lora.Linear(\n                (base_layer): Linear(in_features=1536, out_features=8960, bias=False)\n                (lora_dropout): ModuleDict(\n                  (default): Identity()\n                )\n                (lora_A): ModuleDict(\n                  (default): Linear(in_features=1536, out_features=16, bias=False)\n                )\n                (lora_B): ModuleDict(\n                  (default): Linear(in_features=16, out_features=8960, bias=False)\n                )\n                (lora_embedding_A): ParameterDict()\n                (lora_embedding_B): ParameterDict()\n                (lora_magnitude_vector): ModuleDict()\n              )\n              (up_proj): lora.Linear(\n                (base_layer): Linear(in_features=1536, out_features=8960, bias=False)\n                (lora_dropout): ModuleDict(\n                  (default): Identity()\n                )\n                (lora_A): ModuleDict(\n                  (default): Linear(in_features=1536, out_features=16, bias=False)\n                )\n                (lora_B): ModuleDict(\n                  (default): Linear(in_features=16, out_features=8960, bias=False)\n                )\n                (lora_embedding_A): ParameterDict()\n                (lora_embedding_B): ParameterDict()\n                (lora_magnitude_vector): ModuleDict()\n              )\n              (down_proj): lora.Linear(\n                (base_layer): Linear(in_features=8960, out_features=1536, bias=False)\n                (lora_dropout): ModuleDict(\n                  (default): Identity()\n                )\n                (lora_A): ModuleDict(\n                  (default): Linear(in_features=8960, out_features=16, bias=False)\n                )\n                (lora_B): ModuleDict(\n                  (default): Linear(in_features=16, out_features=1536, bias=False)\n                )\n                (lora_embedding_A): ParameterDict()\n                (lora_embedding_B): ParameterDict()\n                (lora_magnitude_vector): ModuleDict()\n              )\n              (act_fn): SiLU()\n            )\n            (input_layernorm): Qwen2RMSNorm((1536,), eps=1e-06)\n            (post_attention_layernorm): Qwen2RMSNorm((1536,), eps=1e-06)\n          )\n          (27): Qwen2DecoderLayer(\n            (self_attn): Qwen2Attention(\n              (q_proj): lora.Linear4bit(\n                (base_layer): Linear4bit(in_features=1536, out_features=1536, bias=True)\n                (lora_dropout): ModuleDict(\n                  (default): Identity()\n                )\n                (lora_A): ModuleDict(\n                  (default): Linear(in_features=1536, out_features=16, bias=False)\n                )\n                (lora_B): ModuleDict(\n                  (default): Linear(in_features=16, out_features=1536, bias=False)\n                )\n                (lora_embedding_A): ParameterDict()\n                (lora_embedding_B): ParameterDict()\n                (lora_magnitude_vector): ModuleDict()\n              )\n              (k_proj): lora.Linear4bit(\n                (base_layer): Linear4bit(in_features=1536, out_features=256, bias=True)\n                (lora_dropout): ModuleDict(\n                  (default): Identity()\n                )\n                (lora_A): ModuleDict(\n                  (default): Linear(in_features=1536, out_features=16, bias=False)\n                )\n                (lora_B): ModuleDict(\n                  (default): Linear(in_features=16, out_features=256, bias=False)\n                )\n                (lora_embedding_A): ParameterDict()\n                (lora_embedding_B): ParameterDict()\n                (lora_magnitude_vector): ModuleDict()\n              )\n              (v_proj): lora.Linear4bit(\n                (base_layer): Linear4bit(in_features=1536, out_features=256, bias=True)\n                (lora_dropout): ModuleDict(\n                  (default): Identity()\n                )\n                (lora_A): ModuleDict(\n                  (default): Linear(in_features=1536, out_features=16, bias=False)\n                )\n                (lora_B): ModuleDict(\n                  (default): Linear(in_features=16, out_features=256, bias=False)\n                )\n                (lora_embedding_A): ParameterDict()\n                (lora_embedding_B): ParameterDict()\n                (lora_magnitude_vector): ModuleDict()\n              )\n              (o_proj): lora.Linear4bit(\n                (base_layer): Linear4bit(in_features=1536, out_features=1536, bias=False)\n                (lora_dropout): ModuleDict(\n                  (default): Identity()\n                )\n                (lora_A): ModuleDict(\n                  (default): Linear(in_features=1536, out_features=16, bias=False)\n                )\n                (lora_B): ModuleDict(\n                  (default): Linear(in_features=16, out_features=1536, bias=False)\n                )\n                (lora_embedding_A): ParameterDict()\n                (lora_embedding_B): ParameterDict()\n                (lora_magnitude_vector): ModuleDict()\n              )\n              (rotary_emb): LlamaRotaryEmbedding()\n            )\n            (mlp): Qwen2MLP(\n              (gate_proj): lora.Linear4bit(\n                (base_layer): Linear4bit(in_features=1536, out_features=8960, bias=False)\n                (lora_dropout): ModuleDict(\n                  (default): Identity()\n                )\n                (lora_A): ModuleDict(\n                  (default): Linear(in_features=1536, out_features=16, bias=False)\n                )\n                (lora_B): ModuleDict(\n                  (default): Linear(in_features=16, out_features=8960, bias=False)\n                )\n                (lora_embedding_A): ParameterDict()\n                (lora_embedding_B): ParameterDict()\n                (lora_magnitude_vector): ModuleDict()\n              )\n              (up_proj): lora.Linear4bit(\n                (base_layer): Linear4bit(in_features=1536, out_features=8960, bias=False)\n                (lora_dropout): ModuleDict(\n                  (default): Identity()\n                )\n                (lora_A): ModuleDict(\n                  (default): Linear(in_features=1536, out_features=16, bias=False)\n                )\n                (lora_B): ModuleDict(\n                  (default): Linear(in_features=16, out_features=8960, bias=False)\n                )\n                (lora_embedding_A): ParameterDict()\n                (lora_embedding_B): ParameterDict()\n                (lora_magnitude_vector): ModuleDict()\n              )\n              (down_proj): lora.Linear4bit(\n                (base_layer): Linear4bit(in_features=8960, out_features=1536, bias=False)\n                (lora_dropout): ModuleDict(\n                  (default): Identity()\n                )\n                (lora_A): ModuleDict(\n                  (default): Linear(in_features=8960, out_features=16, bias=False)\n                )\n                (lora_B): ModuleDict(\n                  (default): Linear(in_features=16, out_features=1536, bias=False)\n                )\n                (lora_embedding_A): ParameterDict()\n                (lora_embedding_B): ParameterDict()\n                (lora_magnitude_vector): ModuleDict()\n              )\n              (act_fn): SiLU()\n            )\n            (input_layernorm): Qwen2RMSNorm((1536,), eps=1e-06)\n            (post_attention_layernorm): Qwen2RMSNorm((1536,), eps=1e-06)\n          )\n        )\n        (norm): Qwen2RMSNorm((1536,), eps=1e-06)\n        (rotary_emb): LlamaRotaryEmbedding()\n      )\n      (lm_head): Linear(in_features=1536, out_features=151936, bias=False)\n    )\n  )\n)"
     },
     "execution_count": 20,
     "metadata": {},
     "output_type": "execute_result"
    }
   ],
   "source": [
    "# Load the model and tokenizer from your saved directory\n",
    "model, tokenizer = FastLanguageModel.from_pretrained(\n",
    "    model_name=\"ft-outputs\",\n",
    "    max_seq_length=max_seq_length,\n",
    "    dtype=torch.float16, # You can use bfloat16 if supported by your hardware\n",
    "    load_in_4bit=True, # Assuming you're using the same quantization as during training\n",
    ")\n",
    "\n",
    "FastLanguageModel.for_inference(model)"
   ]
  },
  {
   "cell_type": "code",
   "execution_count": 21,
   "id": "4b17403a9b9a5a58",
   "metadata": {
    "collapsed": false,
    "ExecuteTime": {
     "end_time": "2025-05-08T18:20:04.789446600Z",
     "start_time": "2025-05-08T18:20:04.783108600Z"
    }
   },
   "outputs": [],
   "source": [
    "chat_template = \"\"\"\n",
    "{SYSTEM}\n",
    "USER: {INPUT}\n",
    "ASSISTANT: {OUTPUT}\"\"\"\n",
    "\n",
    "system_message = \"\"\"\n",
    "You are generating brief documentation for a Java code snippet.\n",
    "Your response MUST be a single paragraph with NO bulletpoints, NO line breaks, and NO section headers.\n",
    "Do NOT explain the prompt. Just output the summary.\n",
    "Keep your explanation short and focused. Avoid repetition.\n",
    "Start your response with (This function)\n",
    "Summarize ONLY the core logic and purpose of the code.\n",
    "Here is the Java code:\n",
    "Summary (one paragraph only):\"\"\""
   ]
  },
  {
   "cell_type": "code",
   "execution_count": 22,
   "id": "5731ac8b0438c34d",
   "metadata": {
    "collapsed": false,
    "ExecuteTime": {
     "end_time": "2025-05-08T18:20:05.842767Z",
     "start_time": "2025-05-08T18:20:05.834021700Z"
    }
   },
   "outputs": [],
   "source": [
    "# Function to run inference on a single example\n",
    "def generate_explanation(code_to_explain):\n",
    "    # Prepare user message with Java code for explanation\n",
    "    user_message = f\"Explain what this Java code does: {code_to_explain}\"\n",
    "\n",
    "    # Create the messages list with the system message and user message\n",
    "    messages = [\n",
    "        {\"role\": \"system\", \"content\": system_message},\n",
    "        {\"role\": \"user\", \"content\": user_message}\n",
    "    ]\n",
    "\n",
    "    # Apply chat template to format the input consistently with how you trained\n",
    "    input_ids = tokenizer.apply_chat_template(\n",
    "        messages,\n",
    "        add_generation_prompt=True,\n",
    "        return_tensors=\"pt\",\n",
    "        chat_template = chat_template,\n",
    "        default_system_message = system_message\n",
    "    ).to(\"cuda\")\n",
    "\n",
    "    # Generate response with appropriate parameters for code generation\n",
    "    with torch.no_grad():\n",
    "        outputs = model.generate(\n",
    "            input_ids,\n",
    "            streamer=None,  # No streaming for batch processing\n",
    "            max_new_tokens=256,\n",
    "            pad_token_id=tokenizer.eos_token_id,\n",
    "            temperature=0.2,\n",
    "            top_p=0.9,\n",
    "            repetition_penalty=1.1\n",
    "        )\n",
    "\n",
    "    # Decode the output, skipping the prompt\n",
    "    generated_text = tokenizer.decode(outputs[0][input_ids.shape[1]:], skip_special_tokens=True)\n",
    "    return generated_text"
   ]
  },
  {
   "cell_type": "code",
   "execution_count": 23,
   "id": "9c7bebbd39cae68c",
   "metadata": {
    "collapsed": false,
    "ExecuteTime": {
     "end_time": "2025-05-08T18:38:37.493515100Z",
     "start_time": "2025-05-08T18:20:07.181465800Z"
    }
   },
   "outputs": [
    {
     "name": "stderr",
     "output_type": "stream",
     "text": [
      "The attention mask is not set and cannot be inferred from input because pad token is same as eos token. As a consequence, you may observe unexpected behavior. Please pass your input's `attention_mask` to obtain reliable results.\n"
     ]
    },
    {
     "name": "stdout",
     "output_type": "stream",
     "text": [
      "Processing examples from index 0 to 50\n",
      "Processed example 0 (1/51)\n",
      "Original code: public void notifySubscriberCallback(ContentNotification cn) {\n",
      "        String content = fetchContent...\n",
      "Generated explanation: \\(assassassassassassassassassassassassassassassassassassassassassassassassassassassassassassassassassassassassassassassassassassassassassassassassassassassassassassassassassassassassassassassassassassassassassassassassassassassassassassassassassassassassassassassassassassassassassassassassassassassassassassassassassassassassassassassassassassassassassassassassassassassassassassassassassassassassassassassassassassassassassassassassassassassassassassassassassassassassassassassassassassassassassassassassassassassassassassassassassassassassassassassassassassassassassassassassassassassassassassassassassassassassassassassassassassassassassassassassassassassassassassassassassassassassassassassassassassassassassassassassassassassassassassassassassassassassassass\n",
      "--------------------------------------------------\n",
      "Processed example 1 (2/51)\n",
      "Original code: @Deprecated\n",
      "  public static TraceContextHolder wrap(TraceContext traceContext) {\n",
      "    return (traceCo...\n",
      "Generated explanation: \\(assassassassassassassassassassassassassassassassassassassassassassassassassassassassassassassassassassassassassassassassassassassassassassassassassassassassassassassassassassassassassassassassassassassassassassassassassassassassassassassassassassassassassassassassassassassassassassassassassassassassassassassassassassassassassassassassassassassassassassassassassassassassassassassassassassassassassassassassassassassassassassassassassassassassassassassassassassassassassassassassassassassassassassassassassassassassassassassassassassassassassassassassassassassassassassassassassassassassassassassassassassassassassassassassassassassassassassassassassassassassassassassassassassassassassassassassassassassassassassassassassassassassassassassassassassassassassass\n",
      "--------------------------------------------------\n",
      "Processed example 2 (3/51)\n",
      "Original code: public static ComplexNumber Multiply(ComplexNumber z1, ComplexNumber z2) {\r\n",
      "        double z1R = z1....\n",
      "Generated explanation: \\(assassassassassassassassassassassassassassassassassassassassassassassassassassassassassassassassassassassassassassassassassassassassassassassassassassassassassassassassassassassassassassassassassassassassassassassassassassassassassassassassassassassassassassassassassassassassassassassassassassassassassassassassassassassassassassassassassassassassassassassassassassassassassassassassassassassassassassassassassassassassassassassassassassassassassassassassassassassassassassassassassassassassassassassassassassassassassassassassassassassassassassassassassassassassassassassassassassassassassassassassassassassassassassassassassassassassassassassassassassassassassassassassassassassassassassassassassassassassassassassassassassassassassassassassassassassassassass\n",
      "--------------------------------------------------\n",
      "Processed example 3 (4/51)\n",
      "Original code: private void handleMultiInstanceEncapResponse(\r\n",
      "\t\t\tSerialMessage serialMessage, int offset) {\r\n",
      "\t\tlog...\n",
      "Generated explanation: \\(assassassassassassassassassassassassassassassassassassassassassassassassassassassassassassassassassassassassassassassassassassassassassassassassassassassassassassassassassassassassassassassassassassassassassassassassassassassassassassassassassassassassassassassassassassassassassassassassassassassassassassassassassassassassassassassassassassassassassassassassassassassassassassassassassassassassassassassassassassassassassassassassassassassassassassassassassassassassassassassassassassassassassassassassassassassassassassassassassassassassassassassassassassassassassassassassassassassassassassassassassassassassassassassassassassassassassassassassassassassassassassassassassassassassassassassassassassassassassassassassassassassassassassassassassassassassassass\n",
      "--------------------------------------------------\n",
      "Processed example 4 (5/51)\n",
      "Original code: public ManageableCollection createCollectionProxy(PBKey brokerKey, Query query, Class collectionClas...\n",
      "Generated explanation: \\(assassassassassassassassassassassassassassassassassassassassassassassassassassassassassassassassassassassassassassassassassassassassassassassassassassassassassassassassassassassassassassassassassassassassassassassassassassassassassassassassassassassassassassassassassassassassassassassassassassassassassassassassassassassassassassassassassassassassassassassassassassassassassassassassassassassassassassassassassassassassassassassassassassassassassassassassassassassassassassassassassassassassassassassassassassassassassassassassassassassassassassassassassassassassassassassassassassassassassassassassassassassassassassassassassassassassassassassassassassassassassassassassassassassassassassassassassassassassassassassassassassassassassassassassassassassassassass\n",
      "--------------------------------------------------\n",
      "Processed example 5 (6/51)\n",
      "Original code: public ImmutableMap<String, String> getConfigurationTweak(String dbModuleName)\n",
      "    {\n",
      "        final D...\n",
      "Generated explanation: \\(assassassassassassassassassassassassassassassassassassassassassassassassassassassassassassassassassassassassassassassassassassassassassassassassassassassassassassassassassassassassassassassassassassassassassassassassassassassassassassassassassassassassassassassassassassassassassassassassassassassassassassassassassassassassassassassassassassassassassassassassassassassassassassassassassassassassassassassassassassassassassassassassassassassassassassassassassassassassassassassassassassassassassassassassassassassassassassassassassassassassassassassassassassassassassassassassassassassassassassassassassassassassassassassassassassassassassassassassassassassassassassassassassassassassassassassassassassassassassassassassassassassassassassassassassassassassassass\n",
      "--------------------------------------------------\n",
      "Processed example 6 (7/51)\n",
      "Original code: private void srand(int ijkl) {\n",
      "        u = new double[97];\n",
      "\n",
      "        int ij = ijkl / 30082;\n",
      "        i...\n",
      "Generated explanation: \\(assassassassassassassassassassassassassassassassassassassassassassassassassassassassassassassassassassassassassassassassassassassassassassassassassassassassassassassassassassassassassassassassassassassassassassassassassassassassassassassassassassassassassassassassassassassassassassassassassassassassassassassassassassassassassassassassassassassassassassassassassassassassassassassassassassassassassassassassassassassassassassassassassassassassassassassassassassassassassassassassassassassassassassassassassassassassassassassassassassassassassassassassassassassassassassassassassassassassassassassassassassassassassassassassassassassassassassassassassassassassassassassassassassassassassassassassassassassassassassassassassassassassassassassassassassassassassass\n",
      "--------------------------------------------------\n",
      "Processed example 7 (8/51)\n",
      "Original code: public void retrieveReference(Object pInstance, String pAttributeName) throws PersistenceBrokerExcep...\n",
      "Generated explanation: \\(assassassassassassassassassassassassassassassassassassassassassassassassassassassassassassassassassassassassassassassassassassassassassassassassassassassassassassassassassassassassassassassassassassassassassassassassassassassassassassassassassassassassassassassassassassassassassassassassassassassassassassassassassassassassassassassassassassassassassassassassassassassassassassassassassassassassassassassassassassassassassassassassassassassassassassassassassassassassassassassassassassassassassassassassassassassassassassassassassassassassassassassassassassassassassassassassassassassassassassassassassassassassassassassassassassassassassassassassassassassassassassassassassassassassassassassassassassassassassassassassassassassassassassassassassassassassassass\n",
      "--------------------------------------------------\n",
      "Processed example 8 (9/51)\n",
      "Original code: public static List<DbModule> getAllSubmodules(final DbModule module) {\n",
      "        final List<DbModule> ...\n",
      "Generated explanation: \\(assassassassassassassassassassassassassassassassassassassassassassassassassassassassassassassassassassassassassassassassassassassassassassassassassassassassassassassassassassassassassassassassassassassassassassassassassassassassassassassassassassassassassassassassassassassassassassassassassassassassassassassassassassassassassassassassassassassassassassassassassassassassassassassassassassassassassassassassassassassassassassassassassassassassassassassassassassassassassassassassassassassassassassassassassassassassassassassassassassassassassassassassassassassassassassassassassassassassassassassassassassassassassassassassassassassassassassassassassassassassassassassassassassassassassassassassassassassassassassassassassassassassassassassassassassassassassass\n",
      "--------------------------------------------------\n",
      "Processed example 9 (10/51)\n",
      "Original code: private UserAlias getUserAlias(Object attribute)\r\n",
      "\t{\r\n",
      "\t\tif (m_userAlias != null)\r\n",
      "\t\t{\r\n",
      "\t\t\treturn m_u...\n",
      "Generated explanation: \\(assassassassassassassassassassassassassassassassassassassassassassassassassassassassassassassassassassassassassassassassassassassassassassassassassassassassassassassassassassassassassassassassassassassassassassassassassassassassassassassassassassassassassassassassassassassassassassassassassassassassassassassassassassassassassassassassassassassassassassassassassassassassassassassassassassassassassassassassassassassassassassassassassassassassassassassassassassassassassassassassassassassassassassassassassassassassassassassassassassassassassassassassassassassassassassassassassassassassassassassassassassassassassassassassassassassassassassassassassassassassassassassassassassassassassassassassassassassassassassassassassassassassassassassassassassassassassass\n",
      "--------------------------------------------------\n",
      "Processed example 10 (11/51)\n",
      "Original code: public static InputStream getContentStream(String stringUrl) throws MalformedURLException, IOExcepti...\n",
      "Generated explanation: \\(assassassassassassassassassassassassassassassassassassassassassassassassassassassassassassassassassassassassassassassassassassassassassassassassassassassassassassassassassassassassassassassassassassassassassassassassassassassassassassassassassassassassassassassassassassassassassassassassassassassassassassassassassassassassassassassassassassassassassassassassassassassassassassassassassassassassassassassassassassassassassassassassassassassassassassassassassassassassassassassassassassassassassassassassassassassassassassassassassassassassassassassassassassassassassassassassassassassassassassassassassassassassassassassassassassassassassassassassassassassassassassassassassassassassassassassassassassassassassassassassassassassassassassassassassassassassassass\n",
      "--------------------------------------------------\n",
      "Processed example 11 (12/51)\n",
      "Original code: public static <T> OptionalValue<T> ofNullable(T value) {\n",
      "        return new GenericOptionalValue<T>(...\n",
      "Generated explanation: \\(assassassassassassassassassassassassassassassassassassassassassassassassassassassassassassassassassassassassassassassassassassassassassassassassassassassassassassassassassassassassassassassassassassassassassassassassassassassassassassassassassassassassassassassassassassassassassassassassassassassassassassassassassassassassassassassassassassassassassassassassassassassassassassassassassassassassassassassassassassassassassassassassassassassassassassassassassassassassassassassassassassassassassassassassassassassassassassassassassassassassassassassassassassassassassassassassassassassassassassassassassassassassassassassassassassassassassassassassassassassassassassassassassassassassassassassassassassassassassassassassassassassassassassassassassassassassassass\n",
      "--------------------------------------------------\n",
      "Processed example 12 (13/51)\n",
      "Original code: public IndirectionHandler getIndirectionHandler(Object obj)\r\n",
      "    {\r\n",
      "        if(obj == null)\r\n",
      "       ...\n",
      "Generated explanation: \\(assassassassassassassassassassassassassassassassassassassassassassassassassassassassassassassassassassassassassassassassassassassassassassassassassassassassassassassassassassassassassassassassassassassassassassassassassassassassassassassassassassassassassassassassassassassassassassassassassassassassassassassassassassassassassassassassassassassassassassassassassassassassassassassassassassassassassassassassassassassassassassassassassassassassassassassassassassassassassassassassassassassassassassassassassassassassassassassassassassassassassassassassassassassassassassassassassassassassassassassassassassassassassassassassassassassassassassassassassassassassassassassassassassassassassassassassassassassassassassassassassassassassassassassassassassassassassass\n",
      "--------------------------------------------------\n",
      "Processed example 13 (14/51)\n",
      "Original code: private String getHierarchyTable(ClassDescriptorDef classDef)\r\n",
      "    {\r\n",
      "        ArrayList queue     = ...\n",
      "Generated explanation: \\(assassassassassassassassassassassassassassassassassassassassassassassassassassassassassassassassassassassassassassassassassassassassassassassassassassassassassassassassassassassassassassassassassassassassassassassassassassassassassassassassassassassassassassassassassassassassassassassassassassassassassassassassassassassassassassassassassassassassassassassassassassassassassassassassassassassassassassassassassassassassassassassassassassassassassassassassassassassassassassassassassassassassassassassassassassassassassassassassassassassassassassassassassassassassassassassassassassassassassassassassassassassassassassassassassassassassassassassassassassassassassassassassassassassassassassassassassassassassassassassassassassassassassassassassassassassassassass\n",
      "--------------------------------------------------\n",
      "Processed example 14 (15/51)\n",
      "Original code: public AbstractGraph getModuleGraph(final String moduleId) {\n",
      "        final ModuleHandler moduleHandl...\n",
      "Generated explanation: \\(assassassassassassassassassassassassassassassassassassassassassassassassassassassassassassassassassassassassassassassassassassassassassassassassassassassassassassassassassassassassassassassassassassassassassassassassassassassassassassassassassassassassassassassassassassassassassassassassassassassassassassassassassassassassassassassassassassassassassassassassassassassassassassassassassassassassassassassassassassassassassassassassassassassassassassassassassassassassassassassassassassassassassassassassassassassassassassassassassassassassassassassassassassassassassassassassassassassassassassassassassassassassassassassassassassassassassassassassassassassassassassassassassassassassassassassassassassassassassassassassassassassassassassassassassassassassassass\n",
      "--------------------------------------------------\n",
      "Processed example 15 (16/51)\n",
      "Original code: public static RgbaColor fromHex(String hex) {\n",
      "        if (hex.length() == 0 || hex.charAt(0) != '#')...\n",
      "Generated explanation: \\(assassassassassassassassassassassassassassassassassassassassassassassassassassassassassassassassassassassassassassassassassassassassassassassassassassassassassassassassassassassassassassassassassassassassassassassassassassassassassassassassassassassassassassassassassassassassassassassassassassassassassassassassassassassassassassassassassassassassassassassassassassassassassassassassassassassassassassassassassassassassassassassassassassassassassassassassassassassassassassassassassassassassassassassassassassassassassassassassassassassassassassassassassassassassassassassassassassassassassassassassassassassassassassassassassassassassassassassassassassassassassassassassassassassassassassassassassassassassassassassassassassassassassassassassassassassassassass\n",
      "--------------------------------------------------\n",
      "Processed example 16 (17/51)\n",
      "Original code: public void checkpoint(ObjectEnvelope mod)\r\n",
      "            throws org.apache.ojb.broker.PersistenceBrok...\n",
      "Generated explanation: \\(assassassassassassassassassassassassassassassassassassassassassassassassassassassassassassassassassassassassassassassassassassassassassassassassassassassassassassassassassassassassassassassassassassassassassassassassassassassassassassassassassassassassassassassassassassassassassassassassassassassassassassassassassassassassassassassassassassassassassassassassassassassassassassassassassassassassassassassassassassassassassassassassassassassassassassassassassassassassassassassassassassassassassassassassassassassassassassassassassassassassassassassassassassassassassassassassassassassassassassassassassassassassassassassassassassassassassassassassassassassassassassassassassassassassassassassassassassassassassassassassassassassassassassassassassassassassassass\n",
      "--------------------------------------------------\n",
      "Processed example 17 (18/51)\n",
      "Original code: public int executeUpdateSQL(\r\n",
      "        String sqlStatement,\r\n",
      "        ClassDescriptor cld,\r\n",
      "        Va...\n",
      "Generated explanation: \\(assassassassassassassassassassassassassassassassassassassassassassassassassassassassassassassassassassassassassassassassassassassassassassassassassassassassassassassassassassassassassassassassassassassassassassassassassassassassassassassassassassassassassassassassassassassassassassassassassassassassassassassassassassassassassassassassassassassassassassassassassassassassassassassassassassassassassassassassassassassassassassassassassassassassassassassassassassassassassassassassassassassassassassassassassassassassassassassassassassassassassassassassassassassassassassassassassassassassassassassassassassassassassassassassassassassassassassassassassassassassassassassassassassassassassassassassassassassassassassassassassassassassassassassassassassassassassass\n",
      "--------------------------------------------------\n",
      "Processed example 18 (19/51)\n",
      "Original code: public static void registerAgent(Agent agent, String serviceName, String serviceType) throws FIPAExc...\n",
      "Generated explanation: \\(assassassassassassassassassassassassassassassassassassassassassassassassassassassassassassassassassassassassassassassassassassassassassassassassassassassassassassassassassassassassassassassassassassassassassassassassassassassassassassassassassassassassassassassassassassassassassassassassassassassassassassassassassassassassassassassassassassassassassassassassassassassassassassassassassassassassassassassassassassassassassassassassassassassassassassassassassassassassassassassassassassassassassassassassassassassassassassassassassassassassassassassassassassassassassassassassassassassassassassassassassassassassassassassassassassassassassassassassassassassassassassassassassassassassassassassassassassassassassassassassassassassassassassassassassassassassassass\n",
      "--------------------------------------------------\n",
      "Processed example 19 (20/51)\n",
      "Original code: protected Object getProxyFromResultSet() throws PersistenceBrokerException\r\n",
      "    {\r\n",
      "        // 1. get...\n",
      "Generated explanation: \\(assassassassassassassassassassassassassassassassassassassassassassassassassassassassassassassassassassassassassassassassassassassassassassassassassassassassassassassassassassassassassassassassassassassassassassassassassassassassassassassassassassassassassassassassassassassassassassassassassassassassassassassassassassassassassassassassassassassassassassassassassassassassassassassassassassassassassassassassassassassassassassassassassassassassassassassassassassassassassassassassassassassassassassassassassassassassassassassassassassassassassassassassassassassassassassassassassassassassassassassassassassassassassassassassassassassassassassassassassassassassassassassassassassassassassassassassassassassassassassassassassassassassassassassassassassassassassass\n",
      "--------------------------------------------------\n",
      "Processed example 20 (21/51)\n",
      "Original code: protected ObjectPool setupPool(JdbcConnectionDescriptor jcd)\r\n",
      "    {\r\n",
      "        log.info(\"Create new Ob...\n",
      "Generated explanation: \\(assassassassassassassassassassassassassassassassassassassassassassassassassassassassassassassassassassassassassassassassassassassassassassassassassassassassassassassassassassassassassassassassassassassassassassassassassassassassassassassassassassassassassassassassassassassassassassassassassassassassassassassassassassassassassassassassassassassassassassassassassassassassassassassassassassassassassassassassassassassassassassassassassassassassassassassassassassassassassassassassassassassassassassassassassassassassassassassassassassassassassassassassassassassassassassassassassassassassassassassassassassassassassassassassassassassassassassassassassassassassassassassassassassassassassassassassassassassassassassassassassassassassassassassassassassassassassass\n",
      "--------------------------------------------------\n",
      "Processed example 21 (22/51)\n",
      "Original code: public static InterceptorFactory getInstance()\r\n",
      "\t{\r\n",
      "\t\tif (instance == null)\r\n",
      "\t\t{\r\n",
      "\t\t\tinstance = new ...\n",
      "Generated explanation: \\(assassassassassassassassassassassassassassassassassassassassassassassassassassassassassassassassassassassassassassassassassassassassassassassassassassassassassassassassassassassassassassassassassassassassassassassassassassassassassassassassassassassassassassassassassassassassassassassassassassassassassassassassassassassassassassassassassassassassassassassassassassassassassassassassassassassassassassassassassassassassassassassassassassassassassassassassassassassassassassassassassassassassassassassassassassassassassassassassassassassassassassassassassassassassassassassassassassassassassassassassassassassassassassassassassassassassassassassassassassassassassassassassassassassassassassassassassassassassassassassassassassassassassassassassassassassassassass\n",
      "--------------------------------------------------\n",
      "Processed example 22 (23/51)\n",
      "Original code: protected AssemblyResponse watchStatus() throws LocalOperationException, RequestException {\n",
      "        ...\n",
      "Generated explanation: \\(assassassassassassassassassassassassassassassassassassassassassassassassassassassassassassassassassassassassassassassassassassassassassassassassassassassassassassassassassassassassassassassassassassassassassassassassassassassassassassassassassassassassassassassassassassassassassassassassassassassassassassassassassassassassassassassassassassassassassassassassassassassassassassassassassassassassassassassassassassassassassassassassassassassassassassassassassassassassassassassassassassassassassassassassassassassassassassassassassassassassassassassassassassassassassassassassassassassassassassassassassassassassassassassassassassassassassassassassassassassassassassassassassassassassassassassassassassassassassassassassassassassassassassassassassassassassassass\n",
      "--------------------------------------------------\n",
      "Processed example 23 (24/51)\n",
      "Original code: private void storeToDb(Object obj, ClassDescriptor cld, Identity oid, boolean insert, boolean ignore...\n",
      "Generated explanation: \\(assassassassassassassassassassassassassassassassassassassassassassassassassassassassassassassassassassassassassassassassassassassassassassassassassassassassassassassassassassassassassassassassassassassassassassassassassassassassassassassassassassassassassassassassassassassassassassassassassassassassassassassassassassassassassassassassassassassassassassassassassassassassassassassassassassassassassassassassassassassassassassassassassassassassassassassassassassassassassassassassassassassassassassassassassassassassassassassassassassassassassassassassassassassassassassassassassassassassassassassassassassassassassassassassassassassassassassassassassassassassassassassassassassassassassassassassassassassassassassassassassassassassassassassassassassassassassass\n",
      "--------------------------------------------------\n",
      "Processed example 24 (25/51)\n",
      "Original code: public final boolean roll(final LoggingEvent loggingEvent) {\n",
      "    for (int i = 0; i < this.fileRollab...\n",
      "Generated explanation: \\(assassassassassassassassassassassassassassassassassassassassassassassassassassassassassassassassassassassassassassassassassassassassassassassassassassassassassassassassassassassassassassassassassassassassassassassassassassassassassassassassassassassassassassassassassassassassassassassassassassassassassassassassassassassassassassassassassassassassassassassassassassassassassassassassassassassassassassassassassassassassassassassassassassassassassassassassassassassassassassassassassassassassassassassassassassassassassassassassassassassassassassassassassassassassassassassassassassassassassassassassassassassassassassassassassassassassassassassassassassassassassassassassassassassassassassassassassassassassassassassassassassassassassassassassassassassassassass\n",
      "--------------------------------------------------\n",
      "Processed example 25 (26/51)\n",
      "Original code: public static int Minimum(ImageSource fastBitmap, int startX, int startY, int width, int height) {\r\n",
      "...\n",
      "Generated explanation: \\(assassassassassassassassassassassassassassassassassassassassassassassassassassassassassassassassassassassassassassassassassassassassassassassassassassassassassassassassassassassassassassassassassassassassassassassassassassassassassassassassassassassassassassassassassassassassassassassassassassassassassassassassassassassassassassassassassassassassassassassassassassassassassassassassassassassassassassassassassassassassassassassassassassassassassassassassassassassassassassassassassassassassassassassassassassassassassassassassassassassassassassassassassassassassassassassassassassassassassassassassassassassassassassassassassassassassassassassassassassassassassassassassassassassassassassassassassassassassassassassassassassassassassassassassassassassassassass\n",
      "--------------------------------------------------\n",
      "Processed example 26 (27/51)\n",
      "Original code: public Map<String, ClientWidgetInfo> securityClone(Map<String, ClientWidgetInfo> widgetInfo) {\n",
      "\t\tMap...\n",
      "Generated explanation: \\(assassassassassassassassassassassassassassassassassassassassassassassassassassassassassassassassassassassassassassassassassassassassassassassassassassassassassassassassassassassassassassassassassassassassassassassassassassassassassassassassassassassassassassassassassassassassassassassassassassassassassassassassassassassassassassassassassassassassassassassassassassassassassassassassassassassassassassassassassassassassassassassassassassassassassassassassassassassassassassassassassassassassassassassassassassassassassassassassassassassassassassassassassassassassassassassassassassassassassassassassassassassassassassassassassassassassassassassassassassassassassassassassassassassassassassassassassassassassassassassassassassassassassassassassassassassassassass\n",
      "--------------------------------------------------\n",
      "Processed example 27 (28/51)\n",
      "Original code: private ArrayTypeSignature getArrayTypeSignature(\r\n",
      "\t\t\tGenericArrayType genericArrayType) {\r\n",
      "\t\tFullTy...\n",
      "Generated explanation: \\(assassassassassassassassassassassassassassassassassassassassassassassassassassassassassassassassassassassassassassassassassassassassassassassassassassassassassassassassassassassassassassassassassassassassassassassassassassassassassassassassassassassassassassassassassassassassassassassassassassassassassassassassassassassassassassassassassassassassassassassassassassassassassassassassassassassassassassassassassassassassassassassassassassassassassassassassassassassassassassassassassassassassassassassassassassassassassassassassassassassassassassassassassassassassassassassassassassassassassassassassassassassassassassassassassassassassassassassassassassassassassassassassassassassassassassassassassassassassassassassassassassassassassassassassassassassassassass\n",
      "--------------------------------------------------\n",
      "Processed example 28 (29/51)\n",
      "Original code: private void checkOrderby(CollectionDescriptorDef collDef, String checkLevel) throws ConstraintExcep...\n",
      "Generated explanation: \\(assassassassassassassassassassassassassassassassassassassassassassassassassassassassassassassassassassassassassassassassassassassassassassassassassassassassassassassassassassassassassassassassassassassassassassassassassassassassassassassassassassassassassassassassassassassassassassassassassassassassassassassassassassassassassassassassassassassassassassassassassassassassassassassassassassassassassassassassassassassassassassassassassassassassassassassassassassassassassassassassassassassassassassassassassassassassassassassassassassassassassassassassassassassassassassassassassassassassassassassassassassassassassassassassassassassassassassassassassassassassassassassassassassassassassassassassassassassassassassassassassassassassassassassassassassassassassass\n",
      "--------------------------------------------------\n",
      "Processed example 29 (30/51)\n",
      "Original code: public <T> T handleResponse(Response response, Type returnType) throws ApiException {\n",
      "        if (re...\n",
      "Generated explanation: \\(assassassassassassassassassassassassassassassassassassassassassassassassassassassassassassassassassassassassassassassassassassassassassassassassassassassassassassassassassassassassassassassassassassassassassassassassassassassassassassassassassassassassassassassassassassassassassassassassassassassassassassassassassassassassassassassassassassassassassassassassassassassassassassassassassassassassassassassassassassassassassassassassassassassassassassassassassassassassassassassassassassassassassassassassassassassassassassassassassassassassassassassassassassassassassassassassassassassassassassassassassassassassassassassassassassassassassassassassassassassassassassassassassassassassassassassassassassassassassassassassassassassassassassassassassassassassassass\n",
      "--------------------------------------------------\n",
      "Processed example 30 (31/51)\n",
      "Original code: protected void splitCriteria()\r\n",
      "    {\r\n",
      "        Criteria whereCrit = getQuery().getCriteria();\r\n",
      "     ...\n",
      "Generated explanation: \\(assassassassassassassassassassassassassassassassassassassassassassassassassassassassassassassassassassassassassassassassassassassassassassassassassassassassassassassassassassassassassassassassassassassassassassassassassassassassassassassassassassassassassassassassassassassassassassassassassassassassassassassassassassassassassassassassassassassassassassassassassassassassassassassassassassassassassassassassassassassassassassassassassassassassassassassassassassassassassassassassassassassassassassassassassassassassassassassassassassassassassassassassassassassassassassassassassassassassassassassassassassassassassassassassassassassassassassassassassassassassassassassassassassassassassassassassassassassassassassassassassassassassassassassassassassassassassass\n",
      "--------------------------------------------------\n",
      "Processed example 31 (32/51)\n",
      "Original code: private static String convertISO88591toUTF8(String value) {\n",
      "    try {\n",
      "      return new String(value....\n",
      "Generated explanation: \\(assassassassassassassassassassassassassassassassassassassassassassassassassassassassassassassassassassassassassassassassassassassassassassassassassassassassassassassassassassassassassassassassassassassassassassassassassassassassassassassassassassassassassassassassassassassassassassassassassassassassassassassassassassassassassassassassassassassassassassassassassassassassassassassassassassassassassassassassassassassassassassassassassassassassassassassassassassassassassassassassassassassassassassassassassassassassassassassassassassassassassassassassassassassassassassassassassassassassassassassassassassassassassassassassassassassassassassassassassassassassassassassassassassassassassassassassassassassassassassassassassassassassassassassassassassassassassass\n",
      "--------------------------------------------------\n",
      "Processed example 32 (33/51)\n",
      "Original code: public static Bounds getSymmetricBounds(int dim, double l, double u) {\n",
      "        double [] L = new dou...\n",
      "Generated explanation: \\(assassassassassassassassassassassassassassassassassassassassassassassassassassassassassassassassassassassassassassassassassassassassassassassassassassassassassassassassassassassassassassassassassassassassassassassassassassassassassassassassassassassassassassassassassassassassassassassassassassassassassassassassassassassassassassassassassassassassassassassassassassassassassassassassassassassassassassassassassassassassassassassassassassassassassassassassassassassassassassassassassassassassassassassassassassassassassassassassassassassassassassassassassassassassassassassassassassassassassassassassassassassassassassassassassassassassassassassassassassassassassassassassassassassassassassassassassassassassassassassassassassassassassassassassassassassassassass\n",
      "--------------------------------------------------\n",
      "Processed example 33 (34/51)\n",
      "Original code: public static boolean containsOnlyNull(Object... values){\t\n",
      "\t\tfor(Object o : values){\n",
      "\t\t\tif(o!= null)...\n",
      "Generated explanation: \\(assassassassassassassassassassassassassassassassassassassassassassassassassassassassassassassassassassassassassassassassassassassassassassassassassassassassassassassassassassassassassassassassassassassassassassassassassassassassassassassassassassassassassassassassassassassassassassassassassassassassassassassassassassassassassassassassassassassassassassassassassassassassassassassassassassassassassassassassassassassassassassassassassassassassassassassassassassassassassassassassassassassassassassassassassassassassassassassassassassassassassassassassassassassassassassassassassassassassassassassassassassassassassassassassassassassassassassassassassassassassassassassassassassassassassassassassassassassassassassassassassassassassassassassassassassassassassass\n",
      "--------------------------------------------------\n",
      "Processed example 34 (35/51)\n",
      "Original code: public void normalize() {\n",
      "        double lenSqr = x * x + y * y + z * z;\n",
      "        double err = lenSqr...\n",
      "Generated explanation: \\(assassassassassassassassassassassassassassassassassassassassassassassassassassassassassassassassassassassassassassassassassassassassassassassassassassassassassassassassassassassassassassassassassassassassassassassassassassassassassassassassassassassassassassassassassassassassassassassassassassassassassassassassassassassassassassassassassassassassassassassassassassassassassassassassassassassassassassassassassassassassassassassassassassassassassassassassassassassassassassassassassassassassassassassassassassassassassassassassassassassassassassassassassassassassassassassassassassassassassassassassassassassassassassassassassassassassassassassassassassassassassassassassassassassassassassassassassassassassassassassassassassassassassassassassassassassassassass\n",
      "--------------------------------------------------\n",
      "Processed example 35 (36/51)\n",
      "Original code: private void addDirectSubTypes(XClass type, ArrayList subTypes)\r\n",
      "    {\r\n",
      "        if (type.isInterface...\n",
      "Generated explanation: \\(assassassassassassassassassassassassassassassassassassassassassassassassassassassassassassassassassassassassassassassassassassassassassassassassassassassassassassassassassassassassassassassassassassassassassassassassassassassassassassassassassassassassassassassassassassassassassassassassassassassassassassassassassassassassassassassassassassassassassassassassassassassassassassassassassassassassassassassassassassassassassassassassassassassassassassassassassassassassassassassassassassassassassassassassassassassassassassassassassassassassassassassassassassassassassassassassassassassassassassassassassassassassassassassassassassassassassassassassassassassassassassassassassassassassassassassassassassassassassassassassassassassassassassassassassassassassassass\n",
      "--------------------------------------------------\n",
      "Processed example 36 (37/51)\n",
      "Original code: private void addJoin(TableAlias left, Object[] leftKeys, TableAlias right, Object[] rightKeys, boole...\n",
      "Generated explanation: \\(assassassassassassassassassassassassassassassassassassassassassassassassassassassassassassassassassassassassassassassassassassassassassassassassassassassassassassassassassassassassassassassassassassassassassassassassassassassassassassassassassassassassassassassassassassassassassassassassassassassassassassassassassassassassassassassassassassassassassassassassassassassassassassassassassassassassassassassassassassassassassassassassassassassassassassassassassassassassassassassassassassassassassassassassassassassassassassassassassassassassassassassassassassassassassassassassassassassassassassassassassassassassassassassassassassassassassassassassassassassassassassassassassassassassassassassassassassassassassassassassassassassassassassassassassassassassassass\n",
      "--------------------------------------------------\n",
      "Processed example 37 (38/51)\n",
      "Original code: public IndirectionHandler createIndirectionHandler(PBKey brokerKey, Identity id)\r\n",
      "    {\r\n",
      "        Obj...\n",
      "Generated explanation: \\(assassassassassassassassassassassassassassassassassassassassassassassassassassassassassassassassassassassassassassassassassassassassassassassassassassassassassassassassassassassassassassassassassassassassassassassassassassassassassassassassassassassassassassassassassassassassassassassassassassassassassassassassassassassassassassassassassassassassassassassassassassassassassassassassassassassassassassassassassassassassassassassassassassassassassassassassassassassassassassassassassassassassassassassassassassassassassassassassassassassassassassassassassassassassassassassassassassassassassassassassassassassassassassassassassassassassassassassassassassassassassassassassassassassassassassassassassassassassassassassassassassassassassassassassassassassassassass\n",
      "--------------------------------------------------\n",
      "Processed example 38 (39/51)\n",
      "Original code: public static String[] allUpperCase(String... strings){\n",
      "\t\tString[] tmp = new String[strings.length];...\n",
      "Generated explanation: \\(assassassassassassassassassassassassassassassassassassassassassassassassassassassassassassassassassassassassassassassassassassassassassassassassassassassassassassassassassassassassassassassassassassassassassassassassassassassassassassassassassassassassassassassassassassassassassassassassassassassassassassassassassassassassassassassassassassassassassassassassassassassassassassassassassassassassassassassassassassassassassassassassassassassassassassassassassassassassassassassassassassassassassassassassassassassassassassassassassassassassassassassassassassassassassassassassassassassassassassassassassassassassassassassassassassassassassassassassassassassassassassassassassassassassassassassassassassassassassassassassassassassassassassassassassassassassassass\n",
      "--------------------------------------------------\n",
      "Processed example 39 (40/51)\n",
      "Original code: public static <T extends Annotation> List<T> searchForAnnotation(Method method, Class<T> annotation)...\n",
      "Generated explanation: \\(assassassassassassassassassassassassassassassassassassassassassassassassassassassassassassassassassassassassassassassassassassassassassassassassassassassassassassassassassassassassassassassassassassassassassassassassassassassassassassassassassassassassassassassassassassassassassassassassassassassassassassassassassassassassassassassassassassassassassassassassassassassassassassassassassassassassassassassassassassassassassassassassassassassassassassassassassassassassassassassassassassassassassassassassassassassassassassassassassassassassassassassassassassassassassassassassassassassassassassassassassassassassassassassassassassassassassassassassassassassassassassassassassassassassassassassassassassassassassassassassassassassassassassassassassassassassassass\n",
      "--------------------------------------------------\n",
      "Processed example 40 (41/51)\n",
      "Original code: public void processAnonymousField(Properties attributes) throws XDocletException\r\n",
      "    {\r\n",
      "        if ...\n",
      "Generated explanation: \\(assassassassassassassassassassassassassassassassassassassassassassassassassassassassassassassassassassassassassassassassassassassassassassassassassassassassassassassassassassassassassassassassassassassassassassassassassassassassassassassassassassassassassassassassassassassassassassassassassassassassassassassassassassassassassassassassassassassassassassassassassassassassassassassassassassassassassassassassassassassassassassassassassassassassassassassassassassassassassassassassassassassassassassassassassassassassassassassassassassassassassassassassassassassassassassassassassassassassassassassassassassassassassassassassassassassassassassassassassassassassassassassassassassassassassassassassassassassassassassassassassassassassassassassassassassassassassass\n",
      "--------------------------------------------------\n",
      "Processed example 41 (42/51)\n",
      "Original code: public void getGradient(int[] batch, double[] gradient) {\n",
      "        for (int i=0; i<batch.length; i++)...\n",
      "Generated explanation: \\(assassassassassassassassassassassassassassassassassassassassassassassassassassassassassassassassassassassassassassassassassassassassassassassassassassassassassassassassassassassassassassassassassassassassassassassassassassassassassassassassassassassassassassassassassassassassassassassassassassassassassassassassassassassassassassassassassassassassassassassassassassassassassassassassassassassassassassassassassassassassassassassassassassassassassassassassassassassassassassassassassassassassassassassassassassassassassassassassassassassassassassassassassassassassassassassassassassassassassassassassassassassassassassassassassassassassassassassassassassassassassassassassassassassassassassassassassassassassassassassassassassassassassassassassassassassassassass\n",
      "--------------------------------------------------\n",
      "Processed example 42 (43/51)\n",
      "Original code: public boolean isMaterialized(Object object)\r\n",
      "    {\r\n",
      "        IndirectionHandler handler = getIndirec...\n",
      "Generated explanation: \\(assassassassassassassassassassassassassassassassassassassassassassassassassassassassassassassassassassassassassassassassassassassassassassassassassassassassassassassassassassassassassassassassassassassassassassassassassassassassassassassassassassassassassassassassassassassassassassassassassassassassassassassassassassassassassassassassassassassassassassassassassassassassassassassassassassassassassassassassassassassassassassassassassassassassassassassassassassassassassassassassassassassassassassassassassassassassassassassassassassassassassassassassassassassassassassassassassassassassassassassassassassassassassassassassassassassassassassassassassassassassassassassassassassassassassassassassassassassassassassassassassassassassassassassassassassassassassass\n",
      "--------------------------------------------------\n",
      "Processed example 43 (44/51)\n",
      "Original code: public void setStatusBarMessage(final String message)\r\n",
      "    {\r\n",
      "        // Guaranteed to return a non-...\n",
      "Generated explanation: \\(assassassassassassassassassassassassassassassassassassassassassassassassassassassassassassassassassassassassassassassassassassassassassassassassassassassassassassassassassassassassassassassassassassassassassassassassassassassassassassassassassassassassassassassassassassassassassassassassassassassassassassassassassassassassassassassassassassassassassassassassassassassassassassassassassassassassassassassassassassassassassassassassassassassassassassassassassassassassassassassassassassassassassassassassassassassassassassassassassassassassassassassassassassassassassassassassassassassassassassassassassassassassassassassassassassassassassassassassassassassassassassassassassassassassassassassassassassassassassassassassassassassassassassassassassassassassassass\n",
      "--------------------------------------------------\n",
      "Processed example 44 (45/51)\n",
      "Original code: @Nonnull\n",
      "\tprivate static Properties findDefaultProperties() {\n",
      "\t\tfinal InputStream in = SourceCodeFor...\n",
      "Generated explanation: \\(assassassassassassassassassassassassassassassassassassassassassassassassassassassassassassassassassassassassassassassassassassassassassassassassassassassassassassassassassassassassassassassassassassassassassassassassassassassassassassassassassassassassassassassassassassassassassassassassassassassassassassassassassassassassassassassassassassassassassassassassassassassassassassassassassassassassassassassassassassassassassassassassassassassassassassassassassassassassassassassassassassassassassassassassassassassassassassassassassassassassassassassassassassassassassassassassassassassassassassassassassassassassassassassassassassassassassassassassassassassassassassassassassassassassassassassassassassassassassassassassassassassassassassassassassassassassassass\n",
      "--------------------------------------------------\n",
      "Processed example 45 (46/51)\n",
      "Original code: public void addExtentClass(String newExtentClassName)\r\n",
      "    {\r\n",
      "        extentClassNames.add(newExtent...\n",
      "Generated explanation: \\(assassassassassassassassassassassassassassassassassassassassassassassassassassassassassassassassassassassassassassassassassassassassassassassassassassassassassassassassassassassassassassassassassassassassassassassassassassassassassassassassassassassassassassassassassassassassassassassassassassassassassassassassassassassassassassassassassassassassassassassassassassassassassassassassassassassassassassassassassassassassassassassassassassassassassassassassassassassassassassassassassassassassassassassassassassassassassassassassassassassassassassassassassassassassassassassassassassassassassassassassassassassassassassassassassassassassassassassassassassassassassassassassassassassassassassassassassassassassassassassassassassassassassassassassassassassassassass\n",
      "--------------------------------------------------\n",
      "Processed example 46 (47/51)\n",
      "Original code: public double determinant() {\n",
      "        if (m != n) {\n",
      "            throw new IllegalArgumentException(\"...\n",
      "Generated explanation: \\(assassassassassassassassassassassassassassassassassassassassassassassassassassassassassassassassassassassassassassassassassassassassassassassassassassassassassassassassassassassassassassassassassassassassassassassassassassassassassassassassassassassassassassassassassassassassassassassassassassassassassassassassassassassassassassassassassassassassassassassassassassassassassassassassassassassassassassassassassassassassassassassassassassassassassassassassassassassassassassassassassassassassassassassassassassassassassassassassassassassassassassassassassassassassassassassassassassassassassassassassassassassassassassassassassassassassassassassassassassassassassassassassassassassassassassassassassassassassassassassassassassassassassassassassassassassassassass\n",
      "--------------------------------------------------\n",
      "Processed example 47 (48/51)\n",
      "Original code: public static double Y(double x) {\r\n",
      "        if (x < 8.0) {\r\n",
      "            double y = x * x;\r\n",
      "         ...\n",
      "Generated explanation: \\(assassassassassassassassassassassassassassassassassassassassassassassassassassassassassassassassassassassassassassassassassassassassassassassassassassassassassassassassassassassassassassassassassassassassassassassassassassassassassassassassassassassassassassassassassassassassassassassassassassassassassassassassassassassassassassassassassassassassassassassassassassassassassassassassassassassassassassassassassassassassassassassassassassassassassassassassassassassassassassassassassassassassassassassassassassassassassassassassassassassassassassassassassassassassassassassassassassassassassassassassassassassassassassassassassassassassassassassassassassassassassassassassassassassassassassassassassassassassassassassassassassassassassassassassassassassassassass\n",
      "--------------------------------------------------\n",
      "Processed example 48 (49/51)\n",
      "Original code: public static void Forward(double[] data) {\n",
      "\n",
      "        double[] result = new double[data.length];\n",
      "    ...\n",
      "Generated explanation: \\(assassassassassassassassassassassassassassassassassassassassassassassassassassassassassassassassassassassassassassassassassassassassassassassassassassassassassassassassassassassassassassassassassassassassassassassassassassassassassassassassassassassassassassassassassassassassassassassassassassassassassassassassassassassassassassassassassassassassassassassassassassassassassassassassassassassassassassassassassassassassassassassassassassassassassassassassassassassassassassassassassassassassassassassassassassassassassassassassassassassassassassassassassassassassassassassassassassassassassassassassassassassassassassassassassassassassassassassassassassassassassassassassassassassassassassassassassassassassassassassassassassassassassassassassassassassassassass\n",
      "--------------------------------------------------\n",
      "Processed example 49 (50/51)\n",
      "Original code: public static IntRange GetRange( int[] values, double percent ){\n",
      "        int total = 0, n = values.l...\n",
      "Generated explanation: \\(assassassassassassassassassassassassassassassassassassassassassassassassassassassassassassassassassassassassassassassassassassassassassassassassassassassassassassassassassassassassassassassassassassassassassassassassassassassassassassassassassassassassassassassassassassassassassassassassassassassassassassassassassassassassassassassassassassassassassassassassassassassassassassassassassassassassassassassassassassassassassassassassassassassassassassassassassassassassassassassassassassassassassassassassassassassassassassassassassassassassassassassassassassassassassassassassassassassassassassassassassassassassassassassassassassassassassassassassassassassassassassassassassassassassassassassassassassassassassassassassassassassassassassassassassassassassassass\n",
      "--------------------------------------------------\n",
      "Processed example 50 (51/51)\n",
      "Original code: public Response deleteTemplate(String id)\n",
      "            throws RequestException, LocalOperationExcepti...\n",
      "Generated explanation: \\(assassassassassassassassassassassassassassassassassassassassassassassassassassassassassassassassassassassassassassassassassassassassassassassassassassassassassassassassassassassassassassassassassassassassassassassassassassassassassassassassassassassassassassassassassassassassassassassassassassassassassassassassassassassassassassassassassassassassassassassassassassassassassassassassassassassassassassassassassassassassassassassassassassassassassassassassassassassassassassassassassassassassassassassassassassassassassassassassassassassassassassassassassassassassassassassassassassassassassassassassassassassassassassassassassassassassassassassassassassassassassassassassassassassassassassassassassassassassassassassassassassassassassassassassassassassassassass\n",
      "--------------------------------------------------\n",
      "Raw results saved to evaluation_results/inference_results_0_10.json\n"
     ]
    }
   ],
   "source": [
    "# Process examples from rows 700 to 1000\n",
    "results = []\n",
    "start_idx = 0\n",
    "end_idx = 50\n",
    "\n",
    "\n",
    "# Convert to list if it's a Dataset object to ensure proper indexing\n",
    "if hasattr(test_dataset, 'to_list'):\n",
    "    dataset_list = test_dataset.to_list()\n",
    "else:\n",
    "    dataset_list = test_dataset\n",
    "\n",
    "# Make sure we don't exceed the dataset length\n",
    "end_idx = min(end_idx, len(dataset_list) - 1)\n",
    "subset = dataset_list[start_idx:end_idx + 1]\n",
    "\n",
    "print(f\"Processing examples from index {start_idx} to {end_idx}\")\n",
    "\n",
    "# Create results directory if it doesn't exist\n",
    "import os\n",
    "os.makedirs(\"evaluation_results\", exist_ok=True)\n",
    "\n",
    "for i, example in enumerate(subset):\n",
    "    # Extract the code from the user message\n",
    "    if \"conversations\" in example:\n",
    "        user_message = example[\"conversations\"][0][\"content\"]\n",
    "        # Extract just the code part (assuming it starts after \"Explain what this Python code does: \")\n",
    "        if \"Explain what this Java code does: \" in user_message:\n",
    "            code_part = user_message.split(\"Explain what this Java code does: \")[1]\n",
    "        else:\n",
    "            code_part = user_message  # If no prefix, use the whole message\n",
    "\n",
    "        # Generate explanation for this code\n",
    "        explanation = generate_explanation(code_part)\n",
    "\n",
    "        # Get the reference explanation\n",
    "        reference_explanation = example[\"conversations\"][1][\"content\"] if len(example[\"conversations\"]) > 1 else \"\"\n",
    "\n",
    "        # Store results\n",
    "        results.append({\n",
    "            \"index\": start_idx + i,\n",
    "            \"code\": code_part,\n",
    "            \"reference_explanation\": reference_explanation,\n",
    "            \"generated_explanation\": explanation\n",
    "        })\n",
    "\n",
    "        # Print progress\n",
    "        print(f\"Processed example {start_idx + i} ({i + 1}/{len(subset)})\")\n",
    "\n",
    "        # Print the explanation\n",
    "        print(f\"Original code: {code_part[:100]}...\")\n",
    "        print(f\"Generated explanation: {explanation}\")\n",
    "        print(\"-\" * 50)\n",
    "\n",
    "# Save raw results to a file\n",
    "with open(\"evaluation_results/inference_results_0_10.json\", \"w\") as f:\n",
    "    json.dump(results, f, indent=2)\n",
    "\n",
    "print(f\"Raw results saved to evaluation_results/inference_results_0_10.json\")"
   ]
  },
  {
   "cell_type": "code",
   "outputs": [
    {
     "name": "stdout",
     "output_type": "stream",
     "text": [
      "\n",
      "=== Running Semantic Similarity Evaluation ===\n",
      "Example 0 similarity: 0.0628\n",
      "Example 1 similarity: 0.0470\n",
      "Example 2 similarity: 0.0446\n",
      "Example 3 similarity: 0.1110\n",
      "Example 4 similarity: 0.0051\n",
      "Example 5 similarity: -0.0788\n",
      "Example 6 similarity: 0.0485\n",
      "Example 7 similarity: -0.0255\n",
      "Example 8 similarity: -0.0030\n",
      "Example 9 similarity: 0.0328\n",
      "Example 10 similarity: 0.0856\n",
      "Example 11 similarity: 0.0258\n",
      "Example 12 similarity: -0.0120\n",
      "Example 13 similarity: -0.0284\n",
      "Example 14 similarity: 0.0012\n",
      "Example 15 similarity: 0.1363\n",
      "Example 16 similarity: 0.0123\n",
      "Example 17 similarity: -0.0405\n",
      "Example 18 similarity: -0.0092\n",
      "Example 19 similarity: -0.0039\n",
      "Example 20 similarity: -0.0392\n",
      "Example 21 similarity: -0.0396\n",
      "Example 22 similarity: 0.1112\n",
      "Example 23 similarity: 0.0069\n",
      "Example 24 similarity: 0.0960\n",
      "Example 25 similarity: 0.0215\n",
      "Example 26 similarity: 0.0663\n",
      "Example 27 similarity: -0.0307\n",
      "Example 28 similarity: 0.0584\n",
      "Example 29 similarity: 0.0827\n",
      "Example 30 similarity: 0.0233\n",
      "Example 31 similarity: 0.1386\n",
      "Example 32 similarity: 0.0015\n",
      "Example 33 similarity: 0.0521\n",
      "Example 34 similarity: 0.0209\n",
      "Example 35 similarity: -0.0195\n",
      "Example 36 similarity: -0.0778\n",
      "Example 37 similarity: 0.0018\n",
      "Example 38 similarity: 0.0590\n",
      "Example 39 similarity: 0.0734\n",
      "Example 40 similarity: 0.0812\n",
      "Example 41 similarity: 0.0122\n",
      "Example 42 similarity: 0.0426\n",
      "Example 43 similarity: 0.1351\n",
      "Example 44 similarity: 0.0513\n",
      "Example 45 similarity: -0.0335\n",
      "Example 46 similarity: 0.0029\n",
      "Example 47 similarity: 0.1229\n",
      "Example 48 similarity: -0.0260\n",
      "Example 49 similarity: -0.0163\n",
      "Example 50 similarity: 0.1097\n",
      "Average semantic similarity: 0.0294\n",
      "Median semantic similarity: 0.0215\n",
      "Min/Max similarity: -0.0788/0.1386\n",
      "Standard deviation: 0.0549\n"
     ]
    }
   ],
   "source": [
    "# ============================\n",
    "# 2. Semantic Similarity Evaluation\n",
    "# ============================\n",
    "\n",
    "def evaluate_semantic_similarity(results):\n",
    "    # Load a sentence transformer model\n",
    "    model = SentenceTransformer('all-MiniLM-L6-v2')\n",
    "\n",
    "    similarities = []\n",
    "    details = []\n",
    "\n",
    "    for result in results:\n",
    "        reference = result[\"reference_explanation\"]\n",
    "        generated = result[\"generated_explanation\"]\n",
    "\n",
    "        # Skip if either is empty\n",
    "        if not reference or not generated:\n",
    "            continue\n",
    "\n",
    "        # Get embeddings\n",
    "        ref_embedding = model.encode(reference)\n",
    "        gen_embedding = model.encode(generated)\n",
    "\n",
    "        # Calculate cosine similarity\n",
    "        similarity = float(cosine_similarity([ref_embedding], [gen_embedding])[0][0])\n",
    "        similarities.append(similarity)\n",
    "\n",
    "        details.append({\n",
    "            \"index\": result[\"index\"],\n",
    "            \"similarity\": similarity\n",
    "        })\n",
    "\n",
    "        print(f\"Example {result['index']} similarity: {similarity:.4f}\")\n",
    "\n",
    "    avg_similarity = float(np.mean(similarities))\n",
    "    median_similarity = float(np.median(similarities))\n",
    "    min_similarity = float(np.min(similarities))\n",
    "    max_similarity = float(np.max(similarities))\n",
    "    std_similarity = float(np.std(similarities))\n",
    "\n",
    "    print(f\"Average semantic similarity: {avg_similarity:.4f}\")\n",
    "    print(f\"Median semantic similarity: {median_similarity:.4f}\")\n",
    "    print(f\"Min/Max similarity: {min_similarity:.4f}/{max_similarity:.4f}\")\n",
    "    print(f\"Standard deviation: {std_similarity:.4f}\")\n",
    "\n",
    "    return {\n",
    "        \"summary\": {\n",
    "            \"mean\": avg_similarity,\n",
    "            \"median\": median_similarity,\n",
    "            \"min\": min_similarity,\n",
    "            \"max\": max_similarity,\n",
    "            \"std\": std_similarity\n",
    "        },\n",
    "        \"details\": details\n",
    "    }\n",
    "\n",
    "print(\"\\n=== Running Semantic Similarity Evaluation ===\\n\")\n",
    "semantic_metrics = evaluate_semantic_similarity(results)"
   ],
   "metadata": {
    "collapsed": false,
    "ExecuteTime": {
     "end_time": "2025-05-08T18:42:09.621594800Z",
     "start_time": "2025-05-08T18:42:06.923399200Z"
    }
   },
   "id": "17180768fc925043",
   "execution_count": 24
  },
  {
   "cell_type": "code",
   "outputs": [],
   "source": [],
   "metadata": {
    "collapsed": false
   },
   "id": "da8c965ee22327ee"
  }
 ],
 "metadata": {
  "kernelspec": {
   "display_name": "Python 3 (ipykernel)",
   "language": "python",
   "name": "python3"
  },
  "language_info": {
   "codemirror_mode": {
    "name": "ipython",
    "version": 3
   },
   "file_extension": ".py",
   "mimetype": "text/x-python",
   "name": "python",
   "nbconvert_exporter": "python",
   "pygments_lexer": "ipython3",
   "version": "3.12.0"
  }
 },
 "nbformat": 4,
 "nbformat_minor": 5
}
