{
 "cells": [
  {
   "cell_type": "markdown",
   "id": "e7001dec90f00a3d",
   "metadata": {
    "collapsed": false
   },
   "source": [
    "# Imports and Setup"
   ]
  },
  {
   "cell_type": "code",
   "execution_count": 1,
   "id": "initial_id",
   "metadata": {
    "ExecuteTime": {
     "end_time": "2025-05-07T18:33:37.833593100Z",
     "start_time": "2025-05-07T18:33:37.201380200Z"
    }
   },
   "outputs": [
    {
     "data": {
      "application/vnd.jupyter.widget-view+json": {
       "model_id": "5f4f5e1b82ce4609900224c8bdaa92bc",
       "version_major": 2,
       "version_minor": 0
      },
      "text/plain": [
       "VBox(children=(HTML(value='<center> <img\\nsrc=https://huggingface.co/front/assets/huggingface_logo-noborder.sv…"
      ]
     },
     "metadata": {},
     "output_type": "display_data"
    }
   ],
   "source": [
    "from huggingface_hub import login\n",
    "login()"
   ]
  },
  {
   "cell_type": "code",
   "execution_count": 2,
   "id": "78e2e54a04c3f84f",
   "metadata": {
    "collapsed": false,
    "ExecuteTime": {
     "end_time": "2025-05-07T18:34:06.389997700Z",
     "start_time": "2025-05-07T18:34:05.346991300Z"
    }
   },
   "outputs": [],
   "source": [
    "from datasets import load_dataset"
   ]
  },
  {
   "cell_type": "markdown",
   "id": "b4f9433c-bc38-42e9-a1ec-7ad3c29d6a06",
   "metadata": {},
   "source": [
    "# Loading Dataset"
   ]
  },
  {
   "cell_type": "code",
   "execution_count": 3,
   "id": "9c380aab-ee59-49e7-a5d0-3c6d281984bf",
   "metadata": {
    "ExecuteTime": {
     "end_time": "2025-05-07T18:35:00.585301800Z",
     "start_time": "2025-05-07T18:34:08.356991900Z"
    }
   },
   "outputs": [],
   "source": [
    "%%capture\n",
    "dataset = load_dataset(\"semeru/code-text-java\")"
   ]
  },
  {
   "cell_type": "code",
   "execution_count": 4,
   "id": "c3587821-8c14-4e3b-a01f-62f9db315463",
   "metadata": {
    "ExecuteTime": {
     "end_time": "2025-05-07T18:35:03.867821200Z",
     "start_time": "2025-05-07T18:35:03.857101400Z"
    }
   },
   "outputs": [
    {
     "name": "stdout",
     "output_type": "stream",
     "text": [
      "Available splits: ['train', 'validation', 'test']\n"
     ]
    }
   ],
   "source": [
    "print(\"Available splits:\", list(dataset.keys()))"
   ]
  },
  {
   "cell_type": "code",
   "execution_count": 5,
   "id": "62d4cc4a-4894-414c-9a14-fb5d710495b6",
   "metadata": {
    "ExecuteTime": {
     "end_time": "2025-05-07T18:35:06.279551200Z",
     "start_time": "2025-05-07T18:35:06.272421100Z"
    }
   },
   "outputs": [
    {
     "name": "stdout",
     "output_type": "stream",
     "text": [
      "Column names: ['repo', 'path', 'func_name', 'original_string', 'language', 'code', 'code_tokens', 'docstring', 'docstring_tokens', 'sha', 'url', 'partition']\n"
     ]
    }
   ],
   "source": [
    "# Access the train split\n",
    "train_dataset = dataset['train']\n",
    "\n",
    "# Print column names\n",
    "column_names = train_dataset.column_names\n",
    "print(\"Column names:\", column_names)"
   ]
  },
  {
   "cell_type": "code",
   "execution_count": 6,
   "id": "727860d4-b138-4960-822f-ffd4a8795ea1",
   "metadata": {
    "ExecuteTime": {
     "end_time": "2025-05-05T07:22:29.261016900Z",
     "start_time": "2025-05-05T07:22:29.254321300Z"
    }
   },
   "outputs": [
    {
     "name": "stdout",
     "output_type": "stream",
     "text": [
      "Columns in train dataset: ['repo', 'path', 'func_name', 'original_string', 'language', 'code', 'code_tokens', 'docstring', 'docstring_tokens', 'sha', 'url', 'partition', 'summary']\n",
      "Number of examples in train dataset: 495953\n"
     ]
    }
   ],
   "source": [
    "print(\"Columns in train dataset:\", train_dataset.column_names)\n",
    "print(f\"Number of examples in train dataset: {len(train_dataset)}\")"
   ]
  },
  {
   "cell_type": "code",
   "execution_count": 6,
   "id": "1a2d5f52-1818-48e8-8856-07081b8599b2",
   "metadata": {
    "ExecuteTime": {
     "end_time": "2025-05-07T18:35:47.730872600Z",
     "start_time": "2025-05-07T18:35:47.705719Z"
    }
   },
   "outputs": [],
   "source": [
    "# Create a filtered dataset with only the first 2000 examples\n",
    "subset_size = 2000\n",
    "dataset = train_dataset.select(range(subset_size))"
   ]
  },
  {
   "cell_type": "code",
   "execution_count": 7,
   "id": "a95bd5f0-251e-4563-8660-203e61f8e049",
   "metadata": {
    "ExecuteTime": {
     "end_time": "2025-05-07T18:35:52.748675700Z",
     "start_time": "2025-05-07T18:35:52.713914300Z"
    }
   },
   "outputs": [
    {
     "name": "stdout",
     "output_type": "stream",
     "text": [
      "Columns in filtered dataset: ['repo', 'path', 'func_name', 'original_string', 'language', 'code', 'code_tokens', 'docstring', 'docstring_tokens', 'sha', 'url', 'partition']\n",
      "Number of examples in filtered dataset: 2000\n"
     ]
    }
   ],
   "source": [
    "print(\"Columns in filtered dataset:\", dataset.column_names)\n",
    "print(f\"Number of examples in filtered dataset: {len(dataset)}\")"
   ]
  },
  {
   "cell_type": "code",
   "outputs": [
    {
     "data": {
      "text/plain": "Uploading the dataset shards:   0%|          | 0/1 [00:00<?, ?it/s]",
      "application/vnd.jupyter.widget-view+json": {
       "version_major": 2,
       "version_minor": 0,
       "model_id": "916326204efd44b3b093c3dad6fd6878"
      }
     },
     "metadata": {},
     "output_type": "display_data"
    },
    {
     "data": {
      "text/plain": "Creating parquet from Arrow format:   0%|          | 0/2 [00:00<?, ?ba/s]",
      "application/vnd.jupyter.widget-view+json": {
       "version_major": 2,
       "version_minor": 0,
       "model_id": "274a0870da3d4f818a61b644cd571a04"
      }
     },
     "metadata": {},
     "output_type": "display_data"
    },
    {
     "data": {
      "text/plain": "CommitInfo(commit_url='https://huggingface.co/datasets/CarterPiepenburg/code-search-net-java-docgen/commit/f8b6cf442869ea60a06f23945bff2215b0659bf8', commit_message='Upload dataset', commit_description='', oid='f8b6cf442869ea60a06f23945bff2215b0659bf8', pr_url=None, repo_url=RepoUrl('https://huggingface.co/datasets/CarterPiepenburg/code-search-net-java-docgen', endpoint='https://huggingface.co', repo_type='dataset', repo_id='CarterPiepenburg/code-search-net-java-docgen'), pr_revision=None, pr_num=None)"
     },
     "execution_count": 8,
     "metadata": {},
     "output_type": "execute_result"
    }
   ],
   "source": [
    "dataset.push_to_hub(\"CarterPiepenburg/code-search-net-java-docgen\")"
   ],
   "metadata": {
    "collapsed": false,
    "ExecuteTime": {
     "end_time": "2025-05-07T18:37:17.501114900Z",
     "start_time": "2025-05-07T18:37:15.058155Z"
    }
   },
   "id": "3edbc9a7ffaf9c42",
   "execution_count": 8
  },
  {
   "cell_type": "markdown",
   "id": "6e72dba0-a20d-44d2-87c6-36b2c6ef4b02",
   "metadata": {},
   "source": [
    "# Converting dataset to ShareGPT"
   ]
  },
  {
   "cell_type": "code",
   "outputs": [],
   "source": [
    "%%capture\n",
    "from datasets import load_dataset   \n",
    "\n",
    "dataset = load_dataset(\"CarterPiepenburg/code-search-net-java-docgen\", split=\"train\")"
   ],
   "metadata": {
    "collapsed": false,
    "ExecuteTime": {
     "end_time": "2025-05-07T19:01:58.415498700Z",
     "start_time": "2025-05-07T19:01:57.085580300Z"
    }
   },
   "id": "77347edd401a8a36",
   "execution_count": 6
  },
  {
   "cell_type": "code",
   "execution_count": 7,
   "id": "e9034215-530c-4c41-887a-3d81d72a8ba3",
   "metadata": {
    "ExecuteTime": {
     "end_time": "2025-05-07T19:02:01.758437Z",
     "start_time": "2025-05-07T19:02:01.753741800Z"
    }
   },
   "outputs": [],
   "source": [
    "def to_sharegpt(dataset, merged_prompt, output_column_name, conversation_extension=1):\n",
    "    \"\"\"\n",
    "    Convert dataset to ShareGPT format with proper variable substitution\n",
    "\n",
    "    Args:\n",
    "        dataset: The source dataset\n",
    "        merged_prompt: Template string with {column_name} placeholders\n",
    "        output_column_name: Column to use as the output/completion\n",
    "        conversation_extension: Number of examples to combine into a single conversation\n",
    "    \"\"\"\n",
    "    formatted_data = []\n",
    "\n",
    "    for i in range(0, len(dataset), conversation_extension):\n",
    "        conversation = []\n",
    "\n",
    "        # Process each example in the current conversation window\n",
    "        for j in range(i, min(i + conversation_extension, len(dataset))):\n",
    "            example = dataset[j]\n",
    "\n",
    "            # Format the prompt by substituting variables\n",
    "            prompt = merged_prompt\n",
    "            for column in dataset.column_names:\n",
    "                if column in merged_prompt and column in example:\n",
    "                    placeholder = \"{\" + column + \"}\"\n",
    "                    prompt = prompt.replace(placeholder, str(example[column]))\n",
    "\n",
    "            # Add the human message\n",
    "            conversation.append({\n",
    "                \"from\": \"human\",\n",
    "                \"value\": prompt\n",
    "            })\n",
    "\n",
    "            # Add the assistant message\n",
    "            conversation.append({\n",
    "                \"from\": \"assistant\",\n",
    "                \"value\": example[output_column_name]\n",
    "            })\n",
    "\n",
    "        # Add the conversation to the formatted data\n",
    "        formatted_data.append({\"conversations\": conversation})\n",
    "\n",
    "    return formatted_data"
   ]
  },
  {
   "cell_type": "code",
   "execution_count": 8,
   "id": "5af2722b-1564-422d-b7ad-62299d5549cf",
   "metadata": {
    "ExecuteTime": {
     "end_time": "2025-05-07T19:02:04.816912200Z",
     "start_time": "2025-05-07T19:02:04.309965700Z"
    }
   },
   "outputs": [],
   "source": [
    "# For code explanation\n",
    "code_explain_dataset = to_sharegpt(\n",
    "    dataset,\n",
    "    merged_prompt = \"Explain what this Java code does: {code}\",\n",
    "    output_column_name = \"docstring\"\n",
    ")"
   ]
  },
  {
   "cell_type": "code",
   "execution_count": 9,
   "id": "bae3b21a-a8c5-4eae-854d-ecf98a27f3fc",
   "metadata": {
    "ExecuteTime": {
     "end_time": "2025-05-07T19:02:06.977066500Z",
     "start_time": "2025-05-07T19:02:06.956372200Z"
    }
   },
   "outputs": [
    {
     "data": {
      "text/plain": "{'conversations': [{'from': 'human',\n   'value': 'Explain what this Java code does: @Override\\n    public ImageSource apply(ImageSource input) {\\n        final int[][] pixelMatrix = new int[3][3];\\n\\n        int w = input.getWidth();\\n        int h = input.getHeight();\\n\\n        int[][] output = new int[h][w];\\n\\n        for (int j = 1; j < h - 1; j++) {\\n            for (int i = 1; i < w - 1; i++) {\\n                pixelMatrix[0][0] = input.getR(i - 1, j - 1);\\n                pixelMatrix[0][1] = input.getRGB(i - 1, j);\\n                pixelMatrix[0][2] = input.getRGB(i - 1, j + 1);\\n                pixelMatrix[1][0] = input.getRGB(i, j - 1);\\n                pixelMatrix[1][2] = input.getRGB(i, j + 1);\\n                pixelMatrix[2][0] = input.getRGB(i + 1, j - 1);\\n                pixelMatrix[2][1] = input.getRGB(i + 1, j);\\n                pixelMatrix[2][2] = input.getRGB(i + 1, j + 1);\\n\\n                int edge = (int) convolution(pixelMatrix);\\n                int rgb = (edge << 16 | edge << 8 | edge);\\n                output[j][i] = rgb;\\n            }\\n        }\\n\\n        MatrixSource source = new MatrixSource(output);\\n        return source;\\n    }'},\n  {'from': 'assistant',\n   'value': 'Expects a height mat as input\\n\\n@param input - A grayscale height map\\n@return edges'}]}"
     },
     "execution_count": 9,
     "metadata": {},
     "output_type": "execute_result"
    }
   ],
   "source": [
    "code_explain_dataset[0]"
   ]
  },
  {
   "cell_type": "markdown",
   "id": "54206b18-de29-49ef-bec5-6c8b97a8aa02",
   "metadata": {},
   "source": [
    "# Initialize Model and Token Register"
   ]
  },
  {
   "cell_type": "code",
   "execution_count": 10,
   "id": "63293d97-60b0-4843-96bf-cec7a49c5f01",
   "metadata": {
    "ExecuteTime": {
     "end_time": "2025-05-07T19:02:43.333158300Z",
     "start_time": "2025-05-07T19:02:14.811965900Z"
    }
   },
   "outputs": [
    {
     "name": "stdout",
     "output_type": "stream",
     "text": [
      "🦥 Unsloth: Will patch your computer to enable 2x faster free finetuning.\n",
      "🦥 Unsloth Zoo will now patch everything to make training faster!\n"
     ]
    },
    {
     "name": "stderr",
     "output_type": "stream",
     "text": [
      "C:\\Users\\carte\\compsci\\411\\aiproject\\new.venv\\Lib\\site-packages\\unsloth_zoo\\gradient_checkpointing.py:330: UserWarning: expandable_segments not supported on this platform (Triggered internally at C:\\actions-runner\\_work\\pytorch\\pytorch\\pytorch\\c10/cuda/CUDAAllocatorConfig.h:28.)\n",
      "  GPU_BUFFERS = tuple([torch.empty(2*256*2048, dtype = dtype, device = f\"cuda:{i}\") for i in range(n_gpus)])\n"
     ]
    },
    {
     "name": "stdout",
     "output_type": "stream",
     "text": [
      "==((====))==  Unsloth 2025.4.7: Fast Qwen2 patching. Transformers: 4.51.3.\n",
      "   \\\\   /|    NVIDIA GeForce RTX 3060 Laptop GPU. Num GPUs = 1. Max memory: 6.0 GB. Platform: Windows.\n",
      "O^O/ \\_/ \\    Torch: 2.7.0+cu128. CUDA: 8.6. CUDA Toolkit: 12.8. Triton: 3.3.0\n",
      "\\        /    Bfloat16 = TRUE. FA [Xformers = 0.0.30. FA2 = False]\n",
      " \"-____-\"     Free license: http://github.com/unslothai/unsloth\n",
      "Unsloth: Fast downloading is enabled - ignore downloading bars which are red colored!\n"
     ]
    }
   ],
   "source": [
    "from unsloth import FastLanguageModel\n",
    "import torch\n",
    "\n",
    "max_seq_length = 2048 # Choose any! We auto support RoPE Scaling internally!\n",
    "dtype = None # None for auto detection. Float16 for Tesla T4, V100, Bfloat16 for Ampere+\n",
    "load_in_4bit = True # Use 4bit quantization to reduce memory usage. Can be False.\n",
    "\n",
    "\n",
    "model, tokenizer = FastLanguageModel.from_pretrained(\n",
    "    model_name = \"unsloth/Qwen2.5-1.5B\",\n",
    "    max_seq_length = max_seq_length,\n",
    "    dtype = dtype,\n",
    "    load_in_4bit = load_in_4bit\n",
    "    # token = \"hf_...\", # use one if using gated models like meta-llama/Llama-2-7b-hf\n",
    ")"
   ]
  },
  {
   "cell_type": "code",
   "execution_count": 11,
   "id": "643bc74f-ece1-445c-bb16-38c1dada7dd9",
   "metadata": {
    "ExecuteTime": {
     "end_time": "2025-05-07T19:03:07.034928100Z",
     "start_time": "2025-05-07T19:03:07.002117900Z"
    }
   },
   "outputs": [],
   "source": [
    "from datasets import Dataset\n",
    "\n",
    "# First, convert your list to a Hugging Face Dataset\n",
    "code_explain_dataset_hf = Dataset.from_list(code_explain_dataset)"
   ]
  },
  {
   "cell_type": "code",
   "execution_count": 12,
   "id": "f224b024-6e17-44cd-897e-d8aa62c84335",
   "metadata": {
    "scrolled": true,
    "ExecuteTime": {
     "end_time": "2025-05-07T19:03:31.163434200Z",
     "start_time": "2025-05-07T19:03:09.374334200Z"
    }
   },
   "outputs": [
    {
     "data": {
      "text/plain": "Unsloth: Standardizing formats (num_proc=16):   0%|          | 0/2000 [00:00<?, ? examples/s]",
      "application/vnd.jupyter.widget-view+json": {
       "version_major": 2,
       "version_minor": 0,
       "model_id": "b252b3a770a048c583a0605403f87bd2"
      }
     },
     "metadata": {},
     "output_type": "display_data"
    }
   ],
   "source": [
    "from unsloth import standardize_sharegpt\n",
    "dataset = standardize_sharegpt(code_explain_dataset_hf)"
   ]
  },
  {
   "cell_type": "code",
   "execution_count": 13,
   "id": "118b7cd7-5e9e-42f4-b171-82b436d29a62",
   "metadata": {
    "ExecuteTime": {
     "end_time": "2025-05-07T19:03:36.244011200Z",
     "start_time": "2025-05-07T19:03:35.931899300Z"
    }
   },
   "outputs": [
    {
     "name": "stderr",
     "output_type": "stream",
     "text": [
      "Unsloth: We automatically added an EOS token to stop endless generations.\n"
     ]
    },
    {
     "data": {
      "text/plain": "Map:   0%|          | 0/2000 [00:00<?, ? examples/s]",
      "application/vnd.jupyter.widget-view+json": {
       "version_major": 2,
       "version_minor": 0,
       "model_id": "9fb81cba416143ac9dddcfc22b5b51a5"
      }
     },
     "metadata": {},
     "output_type": "display_data"
    }
   ],
   "source": [
    "from unsloth import apply_chat_template\n",
    "chat_template = \"\"\"\n",
    "{SYSTEM}\n",
    "USER: {INPUT}\n",
    "ASSISTANT: {OUTPUT}\"\"\"\n",
    "\n",
    "default_system_message = \"\"\"You are generating brief documentation for a Java code snippet. \"\n",
    "    \"Your response MUST be a single paragraph with NO bullet points, NO line breaks, and NO section headers. \"\n",
    "    \"Do NOT explain the prompt. Just output the summary. \"\n",
    "    \"Keep your explanation short and focused. Avoid repetition. \"\n",
    "    \"Summarize ONLY the core logic and purpose of the code.\\n\\n\"\"\"\n",
    "\n",
    "# Use this system message with the apply_chat_template function\n",
    "dataset = apply_chat_template(\n",
    "    dataset,\n",
    "    tokenizer = tokenizer,\n",
    "    chat_template = chat_template,\n",
    "    default_system_message = default_system_message\n",
    ")"
   ]
  },
  {
   "cell_type": "code",
   "execution_count": 14,
   "id": "4932e6b0-786d-45fd-9a98-d40f848c3f32",
   "metadata": {
    "ExecuteTime": {
     "end_time": "2025-05-07T19:03:39.954193200Z",
     "start_time": "2025-05-07T19:03:39.933979300Z"
    }
   },
   "outputs": [
    {
     "data": {
      "text/plain": "{'conversations': [{'content': 'Explain what this Java code does: protected void modify(Transaction t) {\\n        try {\\n            this.lock.writeLock().lock();\\n            t.perform();\\n        } finally {\\n            this.lock.writeLock().unlock();\\n        }\\n    }',\n   'role': 'user'},\n  {'content': 'Executes the given transaction within the context of a write lock.\\n\\n@param t The transaction to execute.',\n   'role': 'assistant'}],\n 'text': 'You are generating brief documentation for a Java code snippet. \"\\n    \"Your response MUST be a single paragraph with NO bullet points, NO line breaks, and NO section headers. \"\\n    \"Do NOT explain the prompt. Just output the summary. \"\\n    \"Keep your explanation short and focused. Avoid repetition. \"\\n    \"Summarize ONLY the core logic and purpose of the code.\\n\\n\\nUSER: Explain what this Java code does: protected void modify(Transaction t) {\\n        try {\\n            this.lock.writeLock().lock();\\n            t.perform();\\n        } finally {\\n            this.lock.writeLock().unlock();\\n        }\\n    }\\nASSISTANT: Executes the given transaction within the context of a write lock.\\n\\n@param t The transaction to execute.<|endoftext|>'}"
     },
     "execution_count": 14,
     "metadata": {},
     "output_type": "execute_result"
    }
   ],
   "source": [
    "dataset[2]"
   ]
  },
  {
   "cell_type": "markdown",
   "source": [
    "# Training Model"
   ],
   "metadata": {
    "collapsed": false
   },
   "id": "bc18d52f259ad87d"
  },
  {
   "cell_type": "code",
   "outputs": [],
   "source": [
    "split_dataset = dataset.train_test_split(test_size=0.3)\n",
    "train_dataset = split_dataset[\"train\"]\n",
    "test_dataset = split_dataset[\"test\"]"
   ],
   "metadata": {
    "collapsed": false,
    "ExecuteTime": {
     "end_time": "2025-05-07T19:04:13.770810800Z",
     "start_time": "2025-05-07T19:04:13.748153500Z"
    }
   },
   "id": "62548e9ee137415a",
   "execution_count": 15
  },
  {
   "cell_type": "code",
   "outputs": [
    {
     "name": "stdout",
     "output_type": "stream",
     "text": [
      "==((====))==  Unsloth 2025.4.7: Fast Qwen2 patching. Transformers: 4.51.3.\n",
      "   \\\\   /|    NVIDIA GeForce RTX 3060 Laptop GPU. Num GPUs = 1. Max memory: 6.0 GB. Platform: Windows.\n",
      "O^O/ \\_/ \\    Torch: 2.7.0+cu128. CUDA: 8.6. CUDA Toolkit: 12.8. Triton: 3.3.0\n",
      "\\        /    Bfloat16 = TRUE. FA [Xformers = 0.0.30. FA2 = False]\n",
      " \"-____-\"     Free license: http://github.com/unslothai/unsloth\n",
      "Unsloth: Fast downloading is enabled - ignore downloading bars which are red colored!\n"
     ]
    }
   ],
   "source": [
    "model, tokenizer = FastLanguageModel.from_pretrained(\n",
    "    model_name = \"unsloth/Qwen2.5-1.5B\",\n",
    "    max_seq_length = max_seq_length,\n",
    "    dtype = dtype,\n",
    "    load_in_4bit = load_in_4bit\n",
    "    # token = \"hf_...\", # use one if using gated models like meta-llama/Llama-2-7b-hf\n",
    ")"
   ],
   "metadata": {
    "collapsed": false,
    "ExecuteTime": {
     "end_time": "2025-05-07T19:04:50.672869900Z",
     "start_time": "2025-05-07T19:04:44.304776800Z"
    }
   },
   "id": "986a9844d23e4729",
   "execution_count": 16
  },
  {
   "cell_type": "code",
   "outputs": [
    {
     "name": "stderr",
     "output_type": "stream",
     "text": [
      "Unsloth 2025.4.7 patched 28 layers with 28 QKV layers, 28 O layers and 28 MLP layers.\n"
     ]
    }
   ],
   "source": [
    "model = FastLanguageModel.get_peft_model(\n",
    "    model,\n",
    "    r = 16, # Choose any number > 0 ! Suggested 8, 16, 32, 64, 128\n",
    "    target_modules = [\"q_proj\", \"k_proj\", \"v_proj\", \"o_proj\",\n",
    "    \"gate_proj\", \"up_proj\", \"down_proj\" ,],\n",
    "    lora_alpha = 16,\n",
    "    lora_dropout = 0, # Supports any, but = 0 is optimized\n",
    "    bias = \"none\",\n",
    "    # Supports any, but = \"none\" is optimized\n",
    "    # [NEW] \"unsloth\" uses 30% less VRAM, fits 2x larger batch sizes!\n",
    "    use_gradient_checkpointing = \"unsloth\", # True or \"unsloth\" for very long context\n",
    "    random_state = 3407,\n",
    "    use_rslora = False,\n",
    "    # We support rank stabilized LoRA\n",
    "    loftq_config = None, # And LoftQ\n",
    ")"
   ],
   "metadata": {
    "collapsed": false,
    "ExecuteTime": {
     "end_time": "2025-05-07T19:05:02.472963900Z",
     "start_time": "2025-05-07T19:04:59.145265Z"
    }
   },
   "id": "dbc19a75b3d48821",
   "execution_count": 17
  },
  {
   "cell_type": "code",
   "outputs": [
    {
     "data": {
      "text/plain": "Unsloth: Tokenizing [\"text\"]:   0%|          | 0/1400 [00:00<?, ? examples/s]",
      "application/vnd.jupyter.widget-view+json": {
       "version_major": 2,
       "version_minor": 0,
       "model_id": "1333104fc4394722bca79fc1266e50fd"
      }
     },
     "metadata": {},
     "output_type": "display_data"
    }
   ],
   "source": [
    "from trl import SFTTrainer\n",
    "from transformers import TrainingArguments\n",
    "from unsloth import is_bfloat16_supported\n",
    "\n",
    "trainer = SFTTrainer(\n",
    "    model = model,\n",
    "    tokenizer = tokenizer,\n",
    "    train_dataset = train_dataset,\n",
    "    dataset_text_field = \"text\",\n",
    "    max_seq_length = max_seq_length,\n",
    "    dataset_num_proc = 1,\n",
    "    packing = False, # Can make training 5x faster for short sequences.\n",
    "    args = TrainingArguments(\n",
    "        per_device_train_batch_size = 2,\n",
    "        gradient_accumulation_steps = 4,\n",
    "        #warmup_steps = 5,\n",
    "        warmup_steps = 10,\n",
    "        #max_steps = 10,\n",
    "        num_train_epochs = 1,\n",
    "        learning_rate = 2e-4,\n",
    "        fp16 = not is_bfloat16_supported(),\n",
    "        bf16 = is_bfloat16_supported(),\n",
    "        logging_steps = 1,\n",
    "        optim = \"adamw_8bit\",\n",
    "        weight_decay = 0.01,\n",
    "        lr_scheduler_type = \"linear\",\n",
    "        seed = 3407,\n",
    "        output_dir = \"ft-outputs\",\n",
    "        report_to = [],\n",
    "    ),\n",
    ")"
   ],
   "metadata": {
    "collapsed": false,
    "ExecuteTime": {
     "end_time": "2025-05-07T19:05:14.451735Z",
     "start_time": "2025-05-07T19:05:13.065487300Z"
    }
   },
   "id": "9217dcb72e2d5208",
   "execution_count": 18
  },
  {
   "cell_type": "code",
   "outputs": [
    {
     "name": "stderr",
     "output_type": "stream",
     "text": [
      "==((====))==  Unsloth - 2x faster free finetuning | Num GPUs used = 1\n",
      "   \\\\   /|    Num examples = 1,400 | Num Epochs = 1 | Total steps = 175\n",
      "O^O/ \\_/ \\    Batch size per device = 2 | Gradient accumulation steps = 4\n",
      "\\        /    Data Parallel GPUs = 1 | Total batch size (2 x 4 x 1) = 8\n",
      " \"-____-\"     Trainable parameters = 18,464,768/5,000,000,000 (0.37% trained)\n"
     ]
    },
    {
     "data": {
      "text/plain": "<IPython.core.display.HTML object>",
      "text/html": "\n    <div>\n      \n      <progress value='2' max='175' style='width:300px; height:20px; vertical-align: middle;'></progress>\n      [  2/175 : < :, Epoch 0.01/1]\n    </div>\n    <table border=\"1\" class=\"dataframe\">\n  <thead>\n <tr style=\"text-align: left;\">\n      <th>Step</th>\n      <th>Training Loss</th>\n    </tr>\n  </thead>\n  <tbody>\n  </tbody>\n</table><p>"
     },
     "metadata": {},
     "output_type": "display_data"
    },
    {
     "data": {
      "text/plain": "<IPython.core.display.HTML object>",
      "text/html": "\n    <div>\n      \n      <progress value='175' max='175' style='width:300px; height:20px; vertical-align: middle;'></progress>\n      [175/175 05:49, Epoch 1/1]\n    </div>\n    <table border=\"1\" class=\"dataframe\">\n  <thead>\n <tr style=\"text-align: left;\">\n      <th>Step</th>\n      <th>Training Loss</th>\n    </tr>\n  </thead>\n  <tbody>\n    <tr>\n      <td>1</td>\n      <td>2.407400</td>\n    </tr>\n    <tr>\n      <td>2</td>\n      <td>2.100100</td>\n    </tr>\n    <tr>\n      <td>3</td>\n      <td>2.111600</td>\n    </tr>\n    <tr>\n      <td>4</td>\n      <td>1.986200</td>\n    </tr>\n    <tr>\n      <td>5</td>\n      <td>2.213700</td>\n    </tr>\n    <tr>\n      <td>6</td>\n      <td>2.054300</td>\n    </tr>\n    <tr>\n      <td>7</td>\n      <td>2.014000</td>\n    </tr>\n    <tr>\n      <td>8</td>\n      <td>2.067200</td>\n    </tr>\n    <tr>\n      <td>9</td>\n      <td>1.947900</td>\n    </tr>\n    <tr>\n      <td>10</td>\n      <td>1.834400</td>\n    </tr>\n    <tr>\n      <td>11</td>\n      <td>1.473900</td>\n    </tr>\n    <tr>\n      <td>12</td>\n      <td>1.437300</td>\n    </tr>\n    <tr>\n      <td>13</td>\n      <td>1.112200</td>\n    </tr>\n    <tr>\n      <td>14</td>\n      <td>1.520200</td>\n    </tr>\n    <tr>\n      <td>15</td>\n      <td>0.939300</td>\n    </tr>\n    <tr>\n      <td>16</td>\n      <td>1.094500</td>\n    </tr>\n    <tr>\n      <td>17</td>\n      <td>1.155700</td>\n    </tr>\n    <tr>\n      <td>18</td>\n      <td>1.038000</td>\n    </tr>\n    <tr>\n      <td>19</td>\n      <td>0.932100</td>\n    </tr>\n    <tr>\n      <td>20</td>\n      <td>1.135900</td>\n    </tr>\n    <tr>\n      <td>21</td>\n      <td>0.800700</td>\n    </tr>\n    <tr>\n      <td>22</td>\n      <td>0.692500</td>\n    </tr>\n    <tr>\n      <td>23</td>\n      <td>0.966600</td>\n    </tr>\n    <tr>\n      <td>24</td>\n      <td>0.816600</td>\n    </tr>\n    <tr>\n      <td>25</td>\n      <td>1.118700</td>\n    </tr>\n    <tr>\n      <td>26</td>\n      <td>0.919400</td>\n    </tr>\n    <tr>\n      <td>27</td>\n      <td>1.145600</td>\n    </tr>\n    <tr>\n      <td>28</td>\n      <td>0.846500</td>\n    </tr>\n    <tr>\n      <td>29</td>\n      <td>0.865700</td>\n    </tr>\n    <tr>\n      <td>30</td>\n      <td>0.882900</td>\n    </tr>\n    <tr>\n      <td>31</td>\n      <td>0.925400</td>\n    </tr>\n    <tr>\n      <td>32</td>\n      <td>0.870200</td>\n    </tr>\n    <tr>\n      <td>33</td>\n      <td>0.858800</td>\n    </tr>\n    <tr>\n      <td>34</td>\n      <td>0.893200</td>\n    </tr>\n    <tr>\n      <td>35</td>\n      <td>0.869300</td>\n    </tr>\n    <tr>\n      <td>36</td>\n      <td>0.988000</td>\n    </tr>\n    <tr>\n      <td>37</td>\n      <td>1.132700</td>\n    </tr>\n    <tr>\n      <td>38</td>\n      <td>0.959100</td>\n    </tr>\n    <tr>\n      <td>39</td>\n      <td>1.126300</td>\n    </tr>\n    <tr>\n      <td>40</td>\n      <td>1.071500</td>\n    </tr>\n    <tr>\n      <td>41</td>\n      <td>0.892200</td>\n    </tr>\n    <tr>\n      <td>42</td>\n      <td>0.805600</td>\n    </tr>\n    <tr>\n      <td>43</td>\n      <td>0.980800</td>\n    </tr>\n    <tr>\n      <td>44</td>\n      <td>0.860500</td>\n    </tr>\n    <tr>\n      <td>45</td>\n      <td>0.687400</td>\n    </tr>\n    <tr>\n      <td>46</td>\n      <td>0.793800</td>\n    </tr>\n    <tr>\n      <td>47</td>\n      <td>0.810800</td>\n    </tr>\n    <tr>\n      <td>48</td>\n      <td>0.905800</td>\n    </tr>\n    <tr>\n      <td>49</td>\n      <td>0.956400</td>\n    </tr>\n    <tr>\n      <td>50</td>\n      <td>0.876400</td>\n    </tr>\n    <tr>\n      <td>51</td>\n      <td>0.763900</td>\n    </tr>\n    <tr>\n      <td>52</td>\n      <td>0.945400</td>\n    </tr>\n    <tr>\n      <td>53</td>\n      <td>0.889300</td>\n    </tr>\n    <tr>\n      <td>54</td>\n      <td>0.866300</td>\n    </tr>\n    <tr>\n      <td>55</td>\n      <td>0.833300</td>\n    </tr>\n    <tr>\n      <td>56</td>\n      <td>0.716300</td>\n    </tr>\n    <tr>\n      <td>57</td>\n      <td>0.657200</td>\n    </tr>\n    <tr>\n      <td>58</td>\n      <td>0.785900</td>\n    </tr>\n    <tr>\n      <td>59</td>\n      <td>0.701800</td>\n    </tr>\n    <tr>\n      <td>60</td>\n      <td>0.917700</td>\n    </tr>\n    <tr>\n      <td>61</td>\n      <td>0.690200</td>\n    </tr>\n    <tr>\n      <td>62</td>\n      <td>0.998600</td>\n    </tr>\n    <tr>\n      <td>63</td>\n      <td>1.066600</td>\n    </tr>\n    <tr>\n      <td>64</td>\n      <td>0.715100</td>\n    </tr>\n    <tr>\n      <td>65</td>\n      <td>0.734900</td>\n    </tr>\n    <tr>\n      <td>66</td>\n      <td>0.821200</td>\n    </tr>\n    <tr>\n      <td>67</td>\n      <td>0.849000</td>\n    </tr>\n    <tr>\n      <td>68</td>\n      <td>0.923100</td>\n    </tr>\n    <tr>\n      <td>69</td>\n      <td>0.935000</td>\n    </tr>\n    <tr>\n      <td>70</td>\n      <td>0.663300</td>\n    </tr>\n    <tr>\n      <td>71</td>\n      <td>1.078900</td>\n    </tr>\n    <tr>\n      <td>72</td>\n      <td>0.736200</td>\n    </tr>\n    <tr>\n      <td>73</td>\n      <td>0.765000</td>\n    </tr>\n    <tr>\n      <td>74</td>\n      <td>0.929200</td>\n    </tr>\n    <tr>\n      <td>75</td>\n      <td>0.888000</td>\n    </tr>\n    <tr>\n      <td>76</td>\n      <td>0.955000</td>\n    </tr>\n    <tr>\n      <td>77</td>\n      <td>0.732100</td>\n    </tr>\n    <tr>\n      <td>78</td>\n      <td>0.684100</td>\n    </tr>\n    <tr>\n      <td>79</td>\n      <td>0.735200</td>\n    </tr>\n    <tr>\n      <td>80</td>\n      <td>0.777000</td>\n    </tr>\n    <tr>\n      <td>81</td>\n      <td>0.833900</td>\n    </tr>\n    <tr>\n      <td>82</td>\n      <td>0.806800</td>\n    </tr>\n    <tr>\n      <td>83</td>\n      <td>0.935600</td>\n    </tr>\n    <tr>\n      <td>84</td>\n      <td>0.750000</td>\n    </tr>\n    <tr>\n      <td>85</td>\n      <td>0.989500</td>\n    </tr>\n    <tr>\n      <td>86</td>\n      <td>0.932100</td>\n    </tr>\n    <tr>\n      <td>87</td>\n      <td>0.724900</td>\n    </tr>\n    <tr>\n      <td>88</td>\n      <td>0.955100</td>\n    </tr>\n    <tr>\n      <td>89</td>\n      <td>0.898000</td>\n    </tr>\n    <tr>\n      <td>90</td>\n      <td>0.995100</td>\n    </tr>\n    <tr>\n      <td>91</td>\n      <td>0.762200</td>\n    </tr>\n    <tr>\n      <td>92</td>\n      <td>0.657600</td>\n    </tr>\n    <tr>\n      <td>93</td>\n      <td>0.548300</td>\n    </tr>\n    <tr>\n      <td>94</td>\n      <td>0.758400</td>\n    </tr>\n    <tr>\n      <td>95</td>\n      <td>0.544500</td>\n    </tr>\n    <tr>\n      <td>96</td>\n      <td>0.868800</td>\n    </tr>\n    <tr>\n      <td>97</td>\n      <td>0.494000</td>\n    </tr>\n    <tr>\n      <td>98</td>\n      <td>0.843800</td>\n    </tr>\n    <tr>\n      <td>99</td>\n      <td>0.810300</td>\n    </tr>\n    <tr>\n      <td>100</td>\n      <td>0.899400</td>\n    </tr>\n    <tr>\n      <td>101</td>\n      <td>1.005900</td>\n    </tr>\n    <tr>\n      <td>102</td>\n      <td>1.252400</td>\n    </tr>\n    <tr>\n      <td>103</td>\n      <td>0.873200</td>\n    </tr>\n    <tr>\n      <td>104</td>\n      <td>0.765400</td>\n    </tr>\n    <tr>\n      <td>105</td>\n      <td>0.983800</td>\n    </tr>\n    <tr>\n      <td>106</td>\n      <td>0.870500</td>\n    </tr>\n    <tr>\n      <td>107</td>\n      <td>0.922500</td>\n    </tr>\n    <tr>\n      <td>108</td>\n      <td>1.075000</td>\n    </tr>\n    <tr>\n      <td>109</td>\n      <td>0.865100</td>\n    </tr>\n    <tr>\n      <td>110</td>\n      <td>1.074900</td>\n    </tr>\n    <tr>\n      <td>111</td>\n      <td>0.730800</td>\n    </tr>\n    <tr>\n      <td>112</td>\n      <td>0.752500</td>\n    </tr>\n    <tr>\n      <td>113</td>\n      <td>0.573900</td>\n    </tr>\n    <tr>\n      <td>114</td>\n      <td>0.576600</td>\n    </tr>\n    <tr>\n      <td>115</td>\n      <td>0.881100</td>\n    </tr>\n    <tr>\n      <td>116</td>\n      <td>0.781600</td>\n    </tr>\n    <tr>\n      <td>117</td>\n      <td>0.823500</td>\n    </tr>\n    <tr>\n      <td>118</td>\n      <td>0.792600</td>\n    </tr>\n    <tr>\n      <td>119</td>\n      <td>0.784800</td>\n    </tr>\n    <tr>\n      <td>120</td>\n      <td>0.882100</td>\n    </tr>\n    <tr>\n      <td>121</td>\n      <td>0.830700</td>\n    </tr>\n    <tr>\n      <td>122</td>\n      <td>0.658100</td>\n    </tr>\n    <tr>\n      <td>123</td>\n      <td>0.684400</td>\n    </tr>\n    <tr>\n      <td>124</td>\n      <td>0.799800</td>\n    </tr>\n    <tr>\n      <td>125</td>\n      <td>1.210700</td>\n    </tr>\n    <tr>\n      <td>126</td>\n      <td>0.918800</td>\n    </tr>\n    <tr>\n      <td>127</td>\n      <td>0.940800</td>\n    </tr>\n    <tr>\n      <td>128</td>\n      <td>0.620200</td>\n    </tr>\n    <tr>\n      <td>129</td>\n      <td>0.850200</td>\n    </tr>\n    <tr>\n      <td>130</td>\n      <td>0.840300</td>\n    </tr>\n    <tr>\n      <td>131</td>\n      <td>0.796700</td>\n    </tr>\n    <tr>\n      <td>132</td>\n      <td>0.858100</td>\n    </tr>\n    <tr>\n      <td>133</td>\n      <td>0.775200</td>\n    </tr>\n    <tr>\n      <td>134</td>\n      <td>0.774900</td>\n    </tr>\n    <tr>\n      <td>135</td>\n      <td>0.723900</td>\n    </tr>\n    <tr>\n      <td>136</td>\n      <td>0.994000</td>\n    </tr>\n    <tr>\n      <td>137</td>\n      <td>0.884900</td>\n    </tr>\n    <tr>\n      <td>138</td>\n      <td>0.733300</td>\n    </tr>\n    <tr>\n      <td>139</td>\n      <td>0.638700</td>\n    </tr>\n    <tr>\n      <td>140</td>\n      <td>0.954800</td>\n    </tr>\n    <tr>\n      <td>141</td>\n      <td>0.825300</td>\n    </tr>\n    <tr>\n      <td>142</td>\n      <td>0.842500</td>\n    </tr>\n    <tr>\n      <td>143</td>\n      <td>0.709500</td>\n    </tr>\n    <tr>\n      <td>144</td>\n      <td>0.804300</td>\n    </tr>\n    <tr>\n      <td>145</td>\n      <td>0.876200</td>\n    </tr>\n    <tr>\n      <td>146</td>\n      <td>0.885100</td>\n    </tr>\n    <tr>\n      <td>147</td>\n      <td>0.834100</td>\n    </tr>\n    <tr>\n      <td>148</td>\n      <td>0.743800</td>\n    </tr>\n    <tr>\n      <td>149</td>\n      <td>0.458000</td>\n    </tr>\n    <tr>\n      <td>150</td>\n      <td>0.788800</td>\n    </tr>\n    <tr>\n      <td>151</td>\n      <td>0.891300</td>\n    </tr>\n    <tr>\n      <td>152</td>\n      <td>0.857600</td>\n    </tr>\n    <tr>\n      <td>153</td>\n      <td>1.044900</td>\n    </tr>\n    <tr>\n      <td>154</td>\n      <td>0.781600</td>\n    </tr>\n    <tr>\n      <td>155</td>\n      <td>0.860000</td>\n    </tr>\n    <tr>\n      <td>156</td>\n      <td>0.807400</td>\n    </tr>\n    <tr>\n      <td>157</td>\n      <td>0.736200</td>\n    </tr>\n    <tr>\n      <td>158</td>\n      <td>0.702000</td>\n    </tr>\n    <tr>\n      <td>159</td>\n      <td>0.919400</td>\n    </tr>\n    <tr>\n      <td>160</td>\n      <td>0.726400</td>\n    </tr>\n    <tr>\n      <td>161</td>\n      <td>0.783600</td>\n    </tr>\n    <tr>\n      <td>162</td>\n      <td>0.617400</td>\n    </tr>\n    <tr>\n      <td>163</td>\n      <td>0.706900</td>\n    </tr>\n    <tr>\n      <td>164</td>\n      <td>0.676600</td>\n    </tr>\n    <tr>\n      <td>165</td>\n      <td>0.763100</td>\n    </tr>\n    <tr>\n      <td>166</td>\n      <td>0.980000</td>\n    </tr>\n    <tr>\n      <td>167</td>\n      <td>0.529300</td>\n    </tr>\n    <tr>\n      <td>168</td>\n      <td>0.723200</td>\n    </tr>\n    <tr>\n      <td>169</td>\n      <td>0.555100</td>\n    </tr>\n    <tr>\n      <td>170</td>\n      <td>0.895600</td>\n    </tr>\n    <tr>\n      <td>171</td>\n      <td>0.821800</td>\n    </tr>\n    <tr>\n      <td>172</td>\n      <td>0.654800</td>\n    </tr>\n    <tr>\n      <td>173</td>\n      <td>0.951700</td>\n    </tr>\n    <tr>\n      <td>174</td>\n      <td>0.784600</td>\n    </tr>\n    <tr>\n      <td>175</td>\n      <td>0.747600</td>\n    </tr>\n  </tbody>\n</table><p>"
     },
     "metadata": {},
     "output_type": "display_data"
    },
    {
     "data": {
      "text/plain": "TrainOutput(global_step=175, training_loss=0.9240056765079498, metrics={'train_runtime': 353.7761, 'train_samples_per_second': 3.957, 'train_steps_per_second': 0.495, 'total_flos': 3392184994295808.0, 'train_loss': 0.9240056765079498})"
     },
     "execution_count": 19,
     "metadata": {},
     "output_type": "execute_result"
    }
   ],
   "source": [
    "trainer.train()"
   ],
   "metadata": {
    "collapsed": false,
    "ExecuteTime": {
     "end_time": "2025-05-07T19:11:18.955052600Z",
     "start_time": "2025-05-07T19:05:24.048950100Z"
    }
   },
   "id": "f5774a82c531ac8e",
   "execution_count": 19
  },
  {
   "cell_type": "code",
   "outputs": [
    {
     "data": {
      "text/plain": "<Figure size 1000x600 with 1 Axes>",
      "image/png": "[encoded data removed]"
     },
     "metadata": {},
     "output_type": "display_data"
    }
   ],
   "source": [
    "import matplotlib.pyplot as plt\n",
    "import numpy as np\n",
    "# After training is complete\n",
    "training_logs = trainer.state.log_history\n",
    "# Extract loss values\n",
    "train_losses = [log.get('loss') for log in training_logs if 'loss' in log]\n",
    "steps = list(range(len(train_losses)))\n",
    "# Plot the training loss\n",
    "plt.figure(figsize=(10, 6))\n",
    "plt.plot(steps, train_losses)\n",
    "plt.xlabel('Training Steps')\n",
    "plt.ylabel('Training Loss')\n",
    "plt.title('Training Loss over Time')\n",
    "plt.grid(True)\n",
    "plt.show()"
   ],
   "metadata": {
    "collapsed": false,
    "ExecuteTime": {
     "end_time": "2025-05-07T19:16:14.519446Z",
     "start_time": "2025-05-07T19:16:14.298522600Z"
    }
   },
   "id": "183a852b81e23348",
   "execution_count": 20
  },
  {
   "cell_type": "markdown",
   "source": [
    "# Evaluation"
   ],
   "metadata": {
    "collapsed": false
   },
   "id": "2e2dfb3785eb442b"
  },
  {
   "cell_type": "code",
   "outputs": [],
   "source": [
    "import numpy as np\n",
    "import json\n",
    "import torch\n",
    "from transformers import TextStreamer\n",
    "from nltk.translate.bleu_score import sentence_bleu\n",
    "from sentence_transformers import SentenceTransformer\n",
    "from sklearn.metrics.pairwise import cosine_similarity\n",
    "import pandas as pd\n",
    "import matplotlib.pyplot as plt\n",
    "import seaborn as sns\n",
    "from safetensors import safe_open\n",
    "from transformers import AutoModelForCausalLM, AutoTokenizer\n",
    "import torch"
   ],
   "metadata": {
    "collapsed": false,
    "ExecuteTime": {
     "end_time": "2025-05-07T19:53:22.684230100Z",
     "start_time": "2025-05-07T19:53:22.680747100Z"
    }
   },
   "id": "eeedd4ef7548b565",
   "execution_count": 78
  },
  {
   "cell_type": "code",
   "outputs": [],
   "source": [
    "from peft import PeftModel, PeftConfig\n",
    "#Loading model and tokenizer from train checkpoint\n",
    "model = AutoModelForCausalLM.from_pretrained(\"ft-outputs/checkpoint-175\", device_map=\"cuda\")\n",
    "tokenizer = AutoTokenizer.from_pretrained(\"ft-outputs/checkpoint-175\")"
   ],
   "metadata": {
    "collapsed": false,
    "ExecuteTime": {
     "end_time": "2025-05-07T19:53:32.205814600Z",
     "start_time": "2025-05-07T19:53:23.270199300Z"
    }
   },
   "id": "772f40d4973526fd",
   "execution_count": 79
  },
  {
   "cell_type": "code",
   "outputs": [],
   "source": [
    "chat_template = \"\"\"\n",
    "{SYSTEM}\n",
    "USER: {INPUT}\n",
    "ASSISTANT: {OUTPUT}\"\"\"\n",
    "\n",
    "# Setup system message consistent with your training\n",
    "system_message = \"\"\"You are generating brief documentation for a Java code snippet. \"\n",
    "    \"Your response MUST be a single paragraph with NO bullet points, NO line breaks, and NO section headers. \"\n",
    "    \"Do NOT explain the prompt. Just output the summary. \"\n",
    "    \"Keep your explanation short and focused. Avoid repetition. \"\n",
    "    \"Summarize ONLY the core logic and purpose of the code.\\n\\nSummary (one paragraph only):\"\"\""
   ],
   "metadata": {
    "collapsed": false,
    "ExecuteTime": {
     "end_time": "2025-05-07T19:51:00.863247Z",
     "start_time": "2025-05-07T19:51:00.859491200Z"
    }
   },
   "id": "4b17403a9b9a5a58",
   "execution_count": 73
  },
  {
   "cell_type": "code",
   "outputs": [],
   "source": [
    "# Function to run inference on a single example\n",
    "def generate_explanation(code_to_explain):\n",
    "    # Prepare user message with Java code for explanation\n",
    "    user_message = f\"Explain what this Java code does: {code_to_explain}\"\n",
    "\n",
    "    # Create the messages list with the system message and user message\n",
    "    messages = [\n",
    "        {\"role\": \"system\", \"content\": system_message},\n",
    "        {\"role\": \"user\", \"content\": user_message}\n",
    "    ]\n",
    "\n",
    "    # Apply chat template to format the input consistently with how you trained\n",
    "    input_ids = tokenizer.apply_chat_template(\n",
    "        messages,\n",
    "        add_generation_prompt=True,\n",
    "        return_tensors=\"pt\",\n",
    "        chat_template = chat_template,\n",
    "        default_system_message = system_message\n",
    "    ).to(\"cuda\")\n",
    "\n",
    "    # Generate response with appropriate parameters for code generation\n",
    "    with torch.no_grad():\n",
    "        outputs = model.generate(\n",
    "            input_ids,\n",
    "            streamer=None,  # No streaming for batch processing\n",
    "            max_new_tokens=256,\n",
    "            pad_token_id=tokenizer.eos_token_id,\n",
    "            temperature=0.2,\n",
    "            top_p=0.9,\n",
    "            repetition_penalty=1.1\n",
    "        )\n",
    "\n",
    "    # Decode the output, skipping the prompt\n",
    "    generated_text = tokenizer.decode(outputs[0][input_ids.shape[1]:], skip_special_tokens=True)\n",
    "    return generated_text"
   ],
   "metadata": {
    "collapsed": false,
    "ExecuteTime": {
     "end_time": "2025-05-07T19:51:00.871982800Z",
     "start_time": "2025-05-07T19:51:00.865251700Z"
    }
   },
   "id": "5731ac8b0438c34d",
   "execution_count": 74
  },
  {
   "cell_type": "code",
   "outputs": [
    {
     "name": "stdout",
     "output_type": "stream",
     "text": [
      "Processing examples from index 0 to 599\n"
     ]
    },
    {
     "ename": "AttributeError",
     "evalue": "'Qwen2Model' object has no attribute 'max_seq_length'",
     "output_type": "error",
     "traceback": [
      "\u001B[31m---------------------------------------------------------------------------\u001B[39m",
      "\u001B[31mAttributeError\u001B[39m                            Traceback (most recent call last)",
      "\u001B[36mCell\u001B[39m\u001B[36m \u001B[39m\u001B[32mIn[75]\u001B[39m\u001B[32m, line 34\u001B[39m\n\u001B[32m     31\u001B[39m     code_part = user_message  \u001B[38;5;66;03m# If no prefix, use the whole message\u001B[39;00m\n\u001B[32m     33\u001B[39m \u001B[38;5;66;03m# Generate explanation for this code\u001B[39;00m\n\u001B[32m---> \u001B[39m\u001B[32m34\u001B[39m explanation = \u001B[43mgenerate_explanation\u001B[49m\u001B[43m(\u001B[49m\u001B[43mcode_part\u001B[49m\u001B[43m)\u001B[49m\n\u001B[32m     36\u001B[39m \u001B[38;5;66;03m# Get the reference explanation\u001B[39;00m\n\u001B[32m     37\u001B[39m reference_explanation = example[\u001B[33m\"\u001B[39m\u001B[33mconversations\u001B[39m\u001B[33m\"\u001B[39m][\u001B[32m1\u001B[39m][\u001B[33m\"\u001B[39m\u001B[33mcontent\u001B[39m\u001B[33m\"\u001B[39m] \u001B[38;5;28;01mif\u001B[39;00m \u001B[38;5;28mlen\u001B[39m(example[\u001B[33m\"\u001B[39m\u001B[33mconversations\u001B[39m\u001B[33m\"\u001B[39m]) > \u001B[32m1\u001B[39m \u001B[38;5;28;01melse\u001B[39;00m \u001B[33m\"\u001B[39m\u001B[33m\"\u001B[39m\n",
      "\u001B[36mCell\u001B[39m\u001B[36m \u001B[39m\u001B[32mIn[74]\u001B[39m\u001B[32m, line 23\u001B[39m, in \u001B[36mgenerate_explanation\u001B[39m\u001B[34m(code_to_explain)\u001B[39m\n\u001B[32m     21\u001B[39m \u001B[38;5;66;03m# Generate response with appropriate parameters for code generation\u001B[39;00m\n\u001B[32m     22\u001B[39m \u001B[38;5;28;01mwith\u001B[39;00m torch.no_grad():\n\u001B[32m---> \u001B[39m\u001B[32m23\u001B[39m     outputs = \u001B[43mmodel\u001B[49m\u001B[43m.\u001B[49m\u001B[43mgenerate\u001B[49m\u001B[43m(\u001B[49m\n\u001B[32m     24\u001B[39m \u001B[43m        \u001B[49m\u001B[43minput_ids\u001B[49m\u001B[43m,\u001B[49m\n\u001B[32m     25\u001B[39m \u001B[43m        \u001B[49m\u001B[43mstreamer\u001B[49m\u001B[43m=\u001B[49m\u001B[38;5;28;43;01mNone\u001B[39;49;00m\u001B[43m,\u001B[49m\u001B[43m  \u001B[49m\u001B[38;5;66;43;03m# No streaming for batch processing\u001B[39;49;00m\n\u001B[32m     26\u001B[39m \u001B[43m        \u001B[49m\u001B[43mmax_new_tokens\u001B[49m\u001B[43m=\u001B[49m\u001B[32;43m256\u001B[39;49m\u001B[43m,\u001B[49m\n\u001B[32m     27\u001B[39m \u001B[43m        \u001B[49m\u001B[43mpad_token_id\u001B[49m\u001B[43m=\u001B[49m\u001B[43mtokenizer\u001B[49m\u001B[43m.\u001B[49m\u001B[43meos_token_id\u001B[49m\u001B[43m,\u001B[49m\n\u001B[32m     28\u001B[39m \u001B[43m        \u001B[49m\u001B[43mtemperature\u001B[49m\u001B[43m=\u001B[49m\u001B[32;43m0.2\u001B[39;49m\u001B[43m,\u001B[49m\n\u001B[32m     29\u001B[39m \u001B[43m        \u001B[49m\u001B[43mtop_p\u001B[49m\u001B[43m=\u001B[49m\u001B[32;43m0.9\u001B[39;49m\u001B[43m,\u001B[49m\n\u001B[32m     30\u001B[39m \u001B[43m        \u001B[49m\u001B[43mrepetition_penalty\u001B[49m\u001B[43m=\u001B[49m\u001B[32;43m1.1\u001B[39;49m\n\u001B[32m     31\u001B[39m \u001B[43m    \u001B[49m\u001B[43m)\u001B[49m\n\u001B[32m     33\u001B[39m \u001B[38;5;66;03m# Decode the output, skipping the prompt\u001B[39;00m\n\u001B[32m     34\u001B[39m generated_text = tokenizer.decode(outputs[\u001B[32m0\u001B[39m][input_ids.shape[\u001B[32m1\u001B[39m]:], skip_special_tokens=\u001B[38;5;28;01mTrue\u001B[39;00m)\n",
      "\u001B[36mFile \u001B[39m\u001B[32m~\\compsci\\411\\aiproject\\new.venv\\Lib\\site-packages\\torch\\utils\\_contextlib.py:116\u001B[39m, in \u001B[36mcontext_decorator.<locals>.decorate_context\u001B[39m\u001B[34m(*args, **kwargs)\u001B[39m\n\u001B[32m    113\u001B[39m \u001B[38;5;129m@functools\u001B[39m.wraps(func)\n\u001B[32m    114\u001B[39m \u001B[38;5;28;01mdef\u001B[39;00m\u001B[38;5;250m \u001B[39m\u001B[34mdecorate_context\u001B[39m(*args, **kwargs):\n\u001B[32m    115\u001B[39m     \u001B[38;5;28;01mwith\u001B[39;00m ctx_factory():\n\u001B[32m--> \u001B[39m\u001B[32m116\u001B[39m         \u001B[38;5;28;01mreturn\u001B[39;00m \u001B[43mfunc\u001B[49m\u001B[43m(\u001B[49m\u001B[43m*\u001B[49m\u001B[43margs\u001B[49m\u001B[43m,\u001B[49m\u001B[43m \u001B[49m\u001B[43m*\u001B[49m\u001B[43m*\u001B[49m\u001B[43mkwargs\u001B[49m\u001B[43m)\u001B[49m\n",
      "\u001B[36mFile \u001B[39m\u001B[32m~\\compsci\\411\\aiproject\\new.venv\\Lib\\site-packages\\transformers\\generation\\utils.py:2465\u001B[39m, in \u001B[36mGenerationMixin.generate\u001B[39m\u001B[34m(self, inputs, generation_config, logits_processor, stopping_criteria, prefix_allowed_tokens_fn, synced_gpus, assistant_model, streamer, negative_prompt_ids, negative_prompt_attention_mask, use_model_defaults, **kwargs)\u001B[39m\n\u001B[32m   2457\u001B[39m     input_ids, model_kwargs = \u001B[38;5;28mself\u001B[39m._expand_inputs_for_generation(\n\u001B[32m   2458\u001B[39m         input_ids=input_ids,\n\u001B[32m   2459\u001B[39m         expand_size=generation_config.num_return_sequences,\n\u001B[32m   2460\u001B[39m         is_encoder_decoder=\u001B[38;5;28mself\u001B[39m.config.is_encoder_decoder,\n\u001B[32m   2461\u001B[39m         **model_kwargs,\n\u001B[32m   2462\u001B[39m     )\n\u001B[32m   2464\u001B[39m     \u001B[38;5;66;03m# 12. run sample (it degenerates to greedy search when `generation_config.do_sample=False`)\u001B[39;00m\n\u001B[32m-> \u001B[39m\u001B[32m2465\u001B[39m     result = \u001B[38;5;28;43mself\u001B[39;49m\u001B[43m.\u001B[49m\u001B[43m_sample\u001B[49m\u001B[43m(\u001B[49m\n\u001B[32m   2466\u001B[39m \u001B[43m        \u001B[49m\u001B[43minput_ids\u001B[49m\u001B[43m,\u001B[49m\n\u001B[32m   2467\u001B[39m \u001B[43m        \u001B[49m\u001B[43mlogits_processor\u001B[49m\u001B[43m=\u001B[49m\u001B[43mprepared_logits_processor\u001B[49m\u001B[43m,\u001B[49m\n\u001B[32m   2468\u001B[39m \u001B[43m        \u001B[49m\u001B[43mstopping_criteria\u001B[49m\u001B[43m=\u001B[49m\u001B[43mprepared_stopping_criteria\u001B[49m\u001B[43m,\u001B[49m\n\u001B[32m   2469\u001B[39m \u001B[43m        \u001B[49m\u001B[43mgeneration_config\u001B[49m\u001B[43m=\u001B[49m\u001B[43mgeneration_config\u001B[49m\u001B[43m,\u001B[49m\n\u001B[32m   2470\u001B[39m \u001B[43m        \u001B[49m\u001B[43msynced_gpus\u001B[49m\u001B[43m=\u001B[49m\u001B[43msynced_gpus\u001B[49m\u001B[43m,\u001B[49m\n\u001B[32m   2471\u001B[39m \u001B[43m        \u001B[49m\u001B[43mstreamer\u001B[49m\u001B[43m=\u001B[49m\u001B[43mstreamer\u001B[49m\u001B[43m,\u001B[49m\n\u001B[32m   2472\u001B[39m \u001B[43m        \u001B[49m\u001B[43m*\u001B[49m\u001B[43m*\u001B[49m\u001B[43mmodel_kwargs\u001B[49m\u001B[43m,\u001B[49m\n\u001B[32m   2473\u001B[39m \u001B[43m    \u001B[49m\u001B[43m)\u001B[49m\n\u001B[32m   2475\u001B[39m \u001B[38;5;28;01melif\u001B[39;00m generation_mode \u001B[38;5;129;01min\u001B[39;00m (GenerationMode.BEAM_SAMPLE, GenerationMode.BEAM_SEARCH):\n\u001B[32m   2476\u001B[39m     \u001B[38;5;66;03m# 11. interleave input_ids with `num_beams` additional sequences per batch\u001B[39;00m\n\u001B[32m   2477\u001B[39m     input_ids, model_kwargs = \u001B[38;5;28mself\u001B[39m._expand_inputs_for_generation(\n\u001B[32m   2478\u001B[39m         input_ids=input_ids,\n\u001B[32m   2479\u001B[39m         expand_size=generation_config.num_beams,\n\u001B[32m   2480\u001B[39m         is_encoder_decoder=\u001B[38;5;28mself\u001B[39m.config.is_encoder_decoder,\n\u001B[32m   2481\u001B[39m         **model_kwargs,\n\u001B[32m   2482\u001B[39m     )\n",
      "\u001B[36mFile \u001B[39m\u001B[32m~\\compsci\\411\\aiproject\\new.venv\\Lib\\site-packages\\transformers\\generation\\utils.py:3431\u001B[39m, in \u001B[36mGenerationMixin._sample\u001B[39m\u001B[34m(self, input_ids, logits_processor, stopping_criteria, generation_config, synced_gpus, streamer, **model_kwargs)\u001B[39m\n\u001B[32m   3428\u001B[39m model_inputs.update({\u001B[33m\"\u001B[39m\u001B[33moutput_hidden_states\u001B[39m\u001B[33m\"\u001B[39m: output_hidden_states} \u001B[38;5;28;01mif\u001B[39;00m output_hidden_states \u001B[38;5;28;01melse\u001B[39;00m {})\n\u001B[32m   3430\u001B[39m \u001B[38;5;28;01mif\u001B[39;00m is_prefill:\n\u001B[32m-> \u001B[39m\u001B[32m3431\u001B[39m     outputs = \u001B[38;5;28;43mself\u001B[39;49m\u001B[43m(\u001B[49m\u001B[43m*\u001B[49m\u001B[43m*\u001B[49m\u001B[43mmodel_inputs\u001B[49m\u001B[43m,\u001B[49m\u001B[43m \u001B[49m\u001B[43mreturn_dict\u001B[49m\u001B[43m=\u001B[49m\u001B[38;5;28;43;01mTrue\u001B[39;49;00m\u001B[43m)\u001B[49m\n\u001B[32m   3432\u001B[39m     is_prefill = \u001B[38;5;28;01mFalse\u001B[39;00m\n\u001B[32m   3433\u001B[39m \u001B[38;5;28;01melse\u001B[39;00m:\n",
      "\u001B[36mFile \u001B[39m\u001B[32m~\\compsci\\411\\aiproject\\new.venv\\Lib\\site-packages\\torch\\nn\\modules\\module.py:1751\u001B[39m, in \u001B[36mModule._wrapped_call_impl\u001B[39m\u001B[34m(self, *args, **kwargs)\u001B[39m\n\u001B[32m   1749\u001B[39m     \u001B[38;5;28;01mreturn\u001B[39;00m \u001B[38;5;28mself\u001B[39m._compiled_call_impl(*args, **kwargs)  \u001B[38;5;66;03m# type: ignore[misc]\u001B[39;00m\n\u001B[32m   1750\u001B[39m \u001B[38;5;28;01melse\u001B[39;00m:\n\u001B[32m-> \u001B[39m\u001B[32m1751\u001B[39m     \u001B[38;5;28;01mreturn\u001B[39;00m \u001B[38;5;28;43mself\u001B[39;49m\u001B[43m.\u001B[49m\u001B[43m_call_impl\u001B[49m\u001B[43m(\u001B[49m\u001B[43m*\u001B[49m\u001B[43margs\u001B[49m\u001B[43m,\u001B[49m\u001B[43m \u001B[49m\u001B[43m*\u001B[49m\u001B[43m*\u001B[49m\u001B[43mkwargs\u001B[49m\u001B[43m)\u001B[49m\n",
      "\u001B[36mFile \u001B[39m\u001B[32m~\\compsci\\411\\aiproject\\new.venv\\Lib\\site-packages\\torch\\nn\\modules\\module.py:1762\u001B[39m, in \u001B[36mModule._call_impl\u001B[39m\u001B[34m(self, *args, **kwargs)\u001B[39m\n\u001B[32m   1757\u001B[39m \u001B[38;5;66;03m# If we don't have any hooks, we want to skip the rest of the logic in\u001B[39;00m\n\u001B[32m   1758\u001B[39m \u001B[38;5;66;03m# this function, and just call forward.\u001B[39;00m\n\u001B[32m   1759\u001B[39m \u001B[38;5;28;01mif\u001B[39;00m \u001B[38;5;129;01mnot\u001B[39;00m (\u001B[38;5;28mself\u001B[39m._backward_hooks \u001B[38;5;129;01mor\u001B[39;00m \u001B[38;5;28mself\u001B[39m._backward_pre_hooks \u001B[38;5;129;01mor\u001B[39;00m \u001B[38;5;28mself\u001B[39m._forward_hooks \u001B[38;5;129;01mor\u001B[39;00m \u001B[38;5;28mself\u001B[39m._forward_pre_hooks\n\u001B[32m   1760\u001B[39m         \u001B[38;5;129;01mor\u001B[39;00m _global_backward_pre_hooks \u001B[38;5;129;01mor\u001B[39;00m _global_backward_hooks\n\u001B[32m   1761\u001B[39m         \u001B[38;5;129;01mor\u001B[39;00m _global_forward_hooks \u001B[38;5;129;01mor\u001B[39;00m _global_forward_pre_hooks):\n\u001B[32m-> \u001B[39m\u001B[32m1762\u001B[39m     \u001B[38;5;28;01mreturn\u001B[39;00m \u001B[43mforward_call\u001B[49m\u001B[43m(\u001B[49m\u001B[43m*\u001B[49m\u001B[43margs\u001B[49m\u001B[43m,\u001B[49m\u001B[43m \u001B[49m\u001B[43m*\u001B[49m\u001B[43m*\u001B[49m\u001B[43mkwargs\u001B[49m\u001B[43m)\u001B[49m\n\u001B[32m   1764\u001B[39m result = \u001B[38;5;28;01mNone\u001B[39;00m\n\u001B[32m   1765\u001B[39m called_always_called_hooks = \u001B[38;5;28mset\u001B[39m()\n",
      "\u001B[36mFile \u001B[39m\u001B[32m~\\compsci\\411\\aiproject\\new.venv\\Lib\\site-packages\\unsloth\\models\\llama.py:1050\u001B[39m, in \u001B[36mCausalLM_fast_forward.<locals>._CausalLM_fast_forward\u001B[39m\u001B[34m(self, input_ids, causal_mask, attention_mask, position_ids, past_key_values, inputs_embeds, labels, use_cache, output_attentions, output_hidden_states, return_dict, num_logits_to_keep, logits_to_keep, *args, **kwargs)\u001B[39m\n\u001B[32m   1048\u001B[39m     \u001B[38;5;66;03m# decoder outputs consists of (dec_features, layer_state, dec_hidden, dec_attn)\u001B[39;00m\n\u001B[32m   1049\u001B[39m     \u001B[38;5;28mself\u001B[39m.model._has_no_labels = labels \u001B[38;5;129;01mis\u001B[39;00m \u001B[38;5;28;01mNone\u001B[39;00m\n\u001B[32m-> \u001B[39m\u001B[32m1050\u001B[39m     outputs = \u001B[38;5;28;43mself\u001B[39;49m\u001B[43m.\u001B[49m\u001B[43mmodel\u001B[49m\u001B[43m(\u001B[49m\n\u001B[32m   1051\u001B[39m \u001B[43m        \u001B[49m\u001B[43minput_ids\u001B[49m\u001B[43m \u001B[49m\u001B[43m=\u001B[49m\u001B[43m \u001B[49m\u001B[43minput_ids\u001B[49m\u001B[43m,\u001B[49m\n\u001B[32m   1052\u001B[39m \u001B[43m        \u001B[49m\u001B[43mcausal_mask\u001B[49m\u001B[43m \u001B[49m\u001B[43m=\u001B[49m\u001B[43m \u001B[49m\u001B[43mcausal_mask\u001B[49m\u001B[43m,\u001B[49m\n\u001B[32m   1053\u001B[39m \u001B[43m        \u001B[49m\u001B[43mattention_mask\u001B[49m\u001B[43m \u001B[49m\u001B[43m=\u001B[49m\u001B[43m \u001B[49m\u001B[43mattention_mask\u001B[49m\u001B[43m,\u001B[49m\n\u001B[32m   1054\u001B[39m \u001B[43m        \u001B[49m\u001B[43mposition_ids\u001B[49m\u001B[43m \u001B[49m\u001B[43m=\u001B[49m\u001B[43m \u001B[49m\u001B[43mposition_ids\u001B[49m\u001B[43m,\u001B[49m\n\u001B[32m   1055\u001B[39m \u001B[43m        \u001B[49m\u001B[43mpast_key_values\u001B[49m\u001B[43m \u001B[49m\u001B[43m=\u001B[49m\u001B[43m \u001B[49m\u001B[43mpast_key_values\u001B[49m\u001B[43m,\u001B[49m\n\u001B[32m   1056\u001B[39m \u001B[43m        \u001B[49m\u001B[43minputs_embeds\u001B[49m\u001B[43m \u001B[49m\u001B[43m=\u001B[49m\u001B[43m \u001B[49m\u001B[43minputs_embeds\u001B[49m\u001B[43m,\u001B[49m\n\u001B[32m   1057\u001B[39m \u001B[43m        \u001B[49m\u001B[43muse_cache\u001B[49m\u001B[43m \u001B[49m\u001B[43m=\u001B[49m\u001B[43m \u001B[49m\u001B[43muse_cache\u001B[49m\u001B[43m,\u001B[49m\n\u001B[32m   1058\u001B[39m \u001B[43m        \u001B[49m\u001B[43moutput_attentions\u001B[49m\u001B[43m \u001B[49m\u001B[43m=\u001B[49m\u001B[43m \u001B[49m\u001B[43moutput_attentions\u001B[49m\u001B[43m,\u001B[49m\n\u001B[32m   1059\u001B[39m \u001B[43m        \u001B[49m\u001B[43moutput_hidden_states\u001B[49m\u001B[43m \u001B[49m\u001B[43m=\u001B[49m\u001B[43m \u001B[49m\u001B[43moutput_hidden_states\u001B[49m\u001B[43m,\u001B[49m\n\u001B[32m   1060\u001B[39m \u001B[43m        \u001B[49m\u001B[43mreturn_dict\u001B[49m\u001B[43m \u001B[49m\u001B[43m=\u001B[49m\u001B[43m \u001B[49m\u001B[43mreturn_dict\u001B[49m\u001B[43m,\u001B[49m\n\u001B[32m   1061\u001B[39m \u001B[43m    \u001B[49m\u001B[43m)\u001B[49m\n\u001B[32m   1062\u001B[39m \u001B[38;5;28;01mpass\u001B[39;00m\n\u001B[32m   1063\u001B[39m hidden_states = outputs[\u001B[32m0\u001B[39m]\n",
      "\u001B[36mFile \u001B[39m\u001B[32m~\\compsci\\411\\aiproject\\new.venv\\Lib\\site-packages\\torch\\nn\\modules\\module.py:1751\u001B[39m, in \u001B[36mModule._wrapped_call_impl\u001B[39m\u001B[34m(self, *args, **kwargs)\u001B[39m\n\u001B[32m   1749\u001B[39m     \u001B[38;5;28;01mreturn\u001B[39;00m \u001B[38;5;28mself\u001B[39m._compiled_call_impl(*args, **kwargs)  \u001B[38;5;66;03m# type: ignore[misc]\u001B[39;00m\n\u001B[32m   1750\u001B[39m \u001B[38;5;28;01melse\u001B[39;00m:\n\u001B[32m-> \u001B[39m\u001B[32m1751\u001B[39m     \u001B[38;5;28;01mreturn\u001B[39;00m \u001B[38;5;28;43mself\u001B[39;49m\u001B[43m.\u001B[49m\u001B[43m_call_impl\u001B[49m\u001B[43m(\u001B[49m\u001B[43m*\u001B[49m\u001B[43margs\u001B[49m\u001B[43m,\u001B[49m\u001B[43m \u001B[49m\u001B[43m*\u001B[49m\u001B[43m*\u001B[49m\u001B[43mkwargs\u001B[49m\u001B[43m)\u001B[49m\n",
      "\u001B[36mFile \u001B[39m\u001B[32m~\\compsci\\411\\aiproject\\new.venv\\Lib\\site-packages\\torch\\nn\\modules\\module.py:1762\u001B[39m, in \u001B[36mModule._call_impl\u001B[39m\u001B[34m(self, *args, **kwargs)\u001B[39m\n\u001B[32m   1757\u001B[39m \u001B[38;5;66;03m# If we don't have any hooks, we want to skip the rest of the logic in\u001B[39;00m\n\u001B[32m   1758\u001B[39m \u001B[38;5;66;03m# this function, and just call forward.\u001B[39;00m\n\u001B[32m   1759\u001B[39m \u001B[38;5;28;01mif\u001B[39;00m \u001B[38;5;129;01mnot\u001B[39;00m (\u001B[38;5;28mself\u001B[39m._backward_hooks \u001B[38;5;129;01mor\u001B[39;00m \u001B[38;5;28mself\u001B[39m._backward_pre_hooks \u001B[38;5;129;01mor\u001B[39;00m \u001B[38;5;28mself\u001B[39m._forward_hooks \u001B[38;5;129;01mor\u001B[39;00m \u001B[38;5;28mself\u001B[39m._forward_pre_hooks\n\u001B[32m   1760\u001B[39m         \u001B[38;5;129;01mor\u001B[39;00m _global_backward_pre_hooks \u001B[38;5;129;01mor\u001B[39;00m _global_backward_hooks\n\u001B[32m   1761\u001B[39m         \u001B[38;5;129;01mor\u001B[39;00m _global_forward_hooks \u001B[38;5;129;01mor\u001B[39;00m _global_forward_pre_hooks):\n\u001B[32m-> \u001B[39m\u001B[32m1762\u001B[39m     \u001B[38;5;28;01mreturn\u001B[39;00m \u001B[43mforward_call\u001B[49m\u001B[43m(\u001B[49m\u001B[43m*\u001B[49m\u001B[43margs\u001B[49m\u001B[43m,\u001B[49m\u001B[43m \u001B[49m\u001B[43m*\u001B[49m\u001B[43m*\u001B[49m\u001B[43mkwargs\u001B[49m\u001B[43m)\u001B[49m\n\u001B[32m   1764\u001B[39m result = \u001B[38;5;28;01mNone\u001B[39;00m\n\u001B[32m   1765\u001B[39m called_always_called_hooks = \u001B[38;5;28mset\u001B[39m()\n",
      "\u001B[36mFile \u001B[39m\u001B[32m~\\compsci\\411\\aiproject\\new.venv\\Lib\\site-packages\\unsloth\\models\\llama.py:709\u001B[39m, in \u001B[36mLlamaModel_fast_forward\u001B[39m\u001B[34m(self, input_ids, causal_mask, attention_mask, position_ids, past_key_values, inputs_embeds, use_cache, output_attentions, output_hidden_states, return_dict, *args, **kwargs)\u001B[39m\n\u001B[32m    707\u001B[39m     inputs_embeds.requires_grad_(\u001B[38;5;28;01mFalse\u001B[39;00m)\n\u001B[32m    708\u001B[39m \u001B[38;5;28;01mpass\u001B[39;00m\n\u001B[32m--> \u001B[39m\u001B[32m709\u001B[39m attention_mask = attention_mask[:,:\u001B[38;5;28;43mself\u001B[39;49m\u001B[43m.\u001B[49m\u001B[43mmax_seq_length\u001B[49m] \u001B[38;5;66;03m# Must resize!\u001B[39;00m\n\u001B[32m    710\u001B[39m inputs_embeds *= attention_mask.unsqueeze(\u001B[32m0\u001B[39m).transpose(\u001B[32m0\u001B[39m, \u001B[32m1\u001B[39m).transpose(\u001B[32m1\u001B[39m, \u001B[32m2\u001B[39m)\n\u001B[32m    711\u001B[39m \u001B[38;5;28;01mif\u001B[39;00m inputs_requires_grad: inputs_embeds.requires_grad_(\u001B[38;5;28;01mTrue\u001B[39;00m)\n",
      "\u001B[36mFile \u001B[39m\u001B[32m~\\compsci\\411\\aiproject\\new.venv\\Lib\\site-packages\\torch\\nn\\modules\\module.py:1940\u001B[39m, in \u001B[36mModule.__getattr__\u001B[39m\u001B[34m(self, name)\u001B[39m\n\u001B[32m   1938\u001B[39m     \u001B[38;5;28;01mif\u001B[39;00m name \u001B[38;5;129;01min\u001B[39;00m modules:\n\u001B[32m   1939\u001B[39m         \u001B[38;5;28;01mreturn\u001B[39;00m modules[name]\n\u001B[32m-> \u001B[39m\u001B[32m1940\u001B[39m \u001B[38;5;28;01mraise\u001B[39;00m \u001B[38;5;167;01mAttributeError\u001B[39;00m(\n\u001B[32m   1941\u001B[39m     \u001B[33mf\u001B[39m\u001B[33m\"\u001B[39m\u001B[33m'\u001B[39m\u001B[38;5;132;01m{\u001B[39;00m\u001B[38;5;28mtype\u001B[39m(\u001B[38;5;28mself\u001B[39m).\u001B[34m__name__\u001B[39m\u001B[38;5;132;01m}\u001B[39;00m\u001B[33m'\u001B[39m\u001B[33m object has no attribute \u001B[39m\u001B[33m'\u001B[39m\u001B[38;5;132;01m{\u001B[39;00mname\u001B[38;5;132;01m}\u001B[39;00m\u001B[33m'\u001B[39m\u001B[33m\"\u001B[39m\n\u001B[32m   1942\u001B[39m )\n",
      "\u001B[31mAttributeError\u001B[39m: 'Qwen2Model' object has no attribute 'max_seq_length'"
     ]
    }
   ],
   "source": [
    "# Process examples from rows 700 to 1000\n",
    "results = []\n",
    "start_idx = 0\n",
    "end_idx = 1000\n",
    "\n",
    "\n",
    "# Convert to list if it's a Dataset object to ensure proper indexing\n",
    "if hasattr(test_dataset, 'to_list'):\n",
    "    dataset_list = test_dataset.to_list()\n",
    "else:\n",
    "    dataset_list = test_dataset\n",
    "\n",
    "# Make sure we don't exceed the dataset length\n",
    "end_idx = min(end_idx, len(dataset_list) - 1)\n",
    "subset = dataset_list[start_idx:end_idx + 1]\n",
    "\n",
    "print(f\"Processing examples from index {start_idx} to {end_idx}\")\n",
    "\n",
    "# Create results directory if it doesn't exist\n",
    "import os\n",
    "os.makedirs(\"evaluation_results\", exist_ok=True)\n",
    "\n",
    "for i, example in enumerate(subset):\n",
    "    # Extract the code from the user message\n",
    "    if \"conversations\" in example:\n",
    "        user_message = example[\"conversations\"][0][\"content\"]\n",
    "        # Extract just the code part (assuming it starts after \"Explain what this Python code does: \")\n",
    "        if \"Explain what this Java code does: \" in user_message:\n",
    "            code_part = user_message.split(\"Explain what this Java code does: \")[1]\n",
    "        else:\n",
    "            code_part = user_message  # If no prefix, use the whole message\n",
    "\n",
    "        # Generate explanation for this code\n",
    "        explanation = generate_explanation(code_part)\n",
    "\n",
    "        # Get the reference explanation\n",
    "        reference_explanation = example[\"conversations\"][1][\"content\"] if len(example[\"conversations\"]) > 1 else \"\"\n",
    "\n",
    "        # Store results\n",
    "        results.append({\n",
    "            \"index\": start_idx + i,\n",
    "            \"code\": code_part,\n",
    "            \"reference_explanation\": reference_explanation,\n",
    "            \"generated_explanation\": explanation\n",
    "        })\n",
    "\n",
    "        # Print progress\n",
    "        print(f\"Processed example {start_idx + i} ({i + 1}/{len(subset)})\")\n",
    "\n",
    "        # Print the explanation\n",
    "        print(f\"Original code: {code_part[:100]}...\")\n",
    "        print(f\"Generated explanation: {explanation}\")\n",
    "        print(\"-\" * 50)\n",
    "\n",
    "# Save raw results to a file\n",
    "with open(\"evaluation_results/inference_results_1500_1510.json\", \"w\") as f:\n",
    "    json.dump(results, f, indent=2)\n",
    "\n",
    "print(f\"Raw results saved to evaluation_results/inference_results_1500_1510.json\")"
   ],
   "metadata": {
    "collapsed": false,
    "ExecuteTime": {
     "end_time": "2025-05-07T19:51:01.170786200Z",
     "start_time": "2025-05-07T19:51:00.874937200Z"
    }
   },
   "id": "9c7bebbd39cae68c",
   "execution_count": 75
  },
  {
   "cell_type": "code",
   "outputs": [],
   "source": [],
   "metadata": {
    "collapsed": false
   },
   "id": "c20f382699bcdcc2"
  }
 ],
 "metadata": {
  "kernelspec": {
   "display_name": "Python 3 (ipykernel)",
   "language": "python",
   "name": "python3"
  },
  "language_info": {
   "codemirror_mode": {
    "name": "ipython",
    "version": 3
   },
   "file_extension": ".py",
   "mimetype": "text/x-python",
   "name": "python",
   "nbconvert_exporter": "python",
   "pygments_lexer": "ipython3",
   "version": "3.12.0"
  }
 },
 "nbformat": 4,
 "nbformat_minor": 5
}
